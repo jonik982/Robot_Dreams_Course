{
 "cells": [
  {
   "cell_type": "code",
   "execution_count": 1,
   "id": "13425595-9ccf-4b00-8531-8e7e1a33708e",
   "metadata": {},
   "outputs": [],
   "source": [
    "\n",
    "from pyspark.sql import SparkSession\n",
    "from pyspark import SparkConf\n",
    "from pyspark.sql.types import StructType, StructField, StringType, IntegerType\n",
    "from pyspark.sql import functions as F\n",
    "from pyspark.sql.window import Window"
   ]
  },
  {
   "cell_type": "code",
   "execution_count": 2,
   "id": "5545c67c-beb0-498b-b425-0c111a074e32",
   "metadata": {},
   "outputs": [],
   "source": [
    "conf = SparkConf()\n",
    "spark_context = SparkSession.builder.config(conf=conf).getOrCreate()"
   ]
  },
  {
   "cell_type": "code",
   "execution_count": 3,
   "id": "a31a7f88-cc9c-4106-9239-0118fbf72b23",
   "metadata": {},
   "outputs": [],
   "source": [
    "\n",
    "spark = SparkSession.builder.master(\"spark://spark-master:7077\").config(\"spark.jars.packages\", \n",
    "                                                                        \"org.apache.hadoop:hadoop-aws-2.7.3\").appName(\"spark-example\").getOrCreate()"
   ]
  },
  {
   "cell_type": "code",
   "execution_count": 4,
   "id": "c209e99f-4f05-4798-98b0-472ffe1f824b",
   "metadata": {},
   "outputs": [
    {
     "name": "stdout",
     "output_type": "stream",
     "text": [
      "+--------+--------+------------+-------------------+--------------------+---+-------------+----------+--------+-------+-------+\n",
      "|oscar_no|oscar_yr|       award|               name|               movie|age|     birth_pl|birth_date|birth_mo|birth_d|birth_y|\n",
      "+--------+--------+------------+-------------------+--------------------+---+-------------+----------+--------+-------+-------+\n",
      "|       1|    1929|Best actress|       Janet Gaynor|          7th Heaven| 22| Pennsylvania|1906-10-06|      10|      6|   1906|\n",
      "|       2|    1930|Best actress|      Mary Pickford|            Coquette| 37|       Canada|1892-04-08|       4|      8|   1892|\n",
      "|       3|    1931|Best actress|      Norma Shearer|        The Divorcee| 28|       Canada|1902-08-10|       8|     10|   1902|\n",
      "|       4|    1932|Best actress|     Marie Dressler|        Min and Bill| 63|       Canada|1868-11-09|      11|      9|   1868|\n",
      "|       5|    1933|Best actress|        Helen Hayes|The Sin of Madelo...| 32|Washington DC|1900-10-10|      10|     10|   1900|\n",
      "|       6|    1934|Best actress|  Katharine Hepburn|       Morning Glory| 26|  Connecticut|1907-05-12|       5|     12|   1907|\n",
      "|       7|    1935|Best actress|  Claudette Colbert|It Happened One N...| 31|       France|1903-09-13|       9|     13|   1903|\n",
      "|       8|    1936|Best actress|        Bette Davis|           Dangerous| 27|Massachusetts|1908-04-05|       4|      5|   1908|\n",
      "|       9|    1937|Best actress|       Luise Rainer|  The Great Zeigfeld| 26|      Germany|1910-01-12|       1|     12|   1910|\n",
      "|      10|    1938|Best actress|       Luise Rainer|      The Good Earth| 27|      Germany|1910-01-12|       1|     12|   1910|\n",
      "|      11|    1939|Best actress|        Bette Davis|             Jezebel| 30|Massachusetts|1908-04-05|       4|      5|   1908|\n",
      "|      12|    1940|Best actress|       Vivien Leigh|  Gone With the Wind| 26|        India|1913-11-05|      11|      5|   1913|\n",
      "|      13|    1941|Best actress|      Ginger Rogers|         Kitty Foyle| 29|     Missouri|1911-07-16|       7|     16|   1911|\n",
      "|      14|    1942|Best actress|      Joan Fontaine|           Suspicion| 24|        Japan|1917-10-22|      10|     22|   1917|\n",
      "|      15|    1943|Best actress|       Greer Garson|        Mrs. Miniver| 38|      England|1904-09-29|       9|     29|   1904|\n",
      "|      16|    1944|Best actress|     Jennifer Jones|The Song of Berna...| 24|     Oklahoma|1919-03-02|       3|      2|   1919|\n",
      "|      17|    1945|Best actress|     Ingrid Bergman|            Gaslight| 29|       Sweden|1915-08-29|       8|     29|   1915|\n",
      "|      18|    1946|Best actress|      Joan Crawford|      Mildred Pierce| 33|        Texas|1912-03-23|       3|     23|   1912|\n",
      "|      19|    1947|Best actress|Olivia de Havilland|     To Each His Own| 30|        Japan|1916-07-01|       7|      1|   1916|\n",
      "|      20|    1948|Best actress|      Loretta Young|The Farmer's Daug...| 34|         Utah|1913-01-06|       1|      6|   1913|\n",
      "+--------+--------+------------+-------------------+--------------------+---+-------------+----------+--------+-------+-------+\n",
      "only showing top 20 rows\n",
      "\n"
     ]
    }
   ],
   "source": [
    "csv_file = \"/home/lec_14/data/oscars.csv\"\n",
    "df_csv = spark.read.csv(csv_file, header=True, inferSchema=True)\n",
    "\n",
    "df_csv.show()"
   ]
  },
  {
   "cell_type": "code",
   "execution_count": 5,
   "id": "f343679d-2d16-44f8-9e04-31f81cbfcfc6",
   "metadata": {},
   "outputs": [
    {
     "name": "stdout",
     "output_type": "stream",
     "text": [
      "== Parsed Logical Plan ==\n",
      "Relation [oscar_no#17,oscar_yr#18,award#19,name#20,movie#21,age#22,birth_pl#23,birth_date#24,birth_mo#25,birth_d#26,birth_y#27] csv\n",
      "\n",
      "== Analyzed Logical Plan ==\n",
      "oscar_no: int, oscar_yr: int, award: string, name: string, movie: string, age: int, birth_pl: string, birth_date: date, birth_mo: int, birth_d: int, birth_y: int\n",
      "Relation [oscar_no#17,oscar_yr#18,award#19,name#20,movie#21,age#22,birth_pl#23,birth_date#24,birth_mo#25,birth_d#26,birth_y#27] csv\n",
      "\n",
      "== Optimized Logical Plan ==\n",
      "Relation [oscar_no#17,oscar_yr#18,award#19,name#20,movie#21,age#22,birth_pl#23,birth_date#24,birth_mo#25,birth_d#26,birth_y#27] csv\n",
      "\n",
      "== Physical Plan ==\n",
      "FileScan csv [oscar_no#17,oscar_yr#18,award#19,name#20,movie#21,age#22,birth_pl#23,birth_date#24,birth_mo#25,birth_d#26,birth_y#27] Batched: false, DataFilters: [], Format: CSV, Location: InMemoryFileIndex(1 paths)[file:/home/lec_14/data/oscars.csv], PartitionFilters: [], PushedFilters: [], ReadSchema: struct<oscar_no:int,oscar_yr:int,award:string,name:string,movie:string,age:int,birth_pl:string,bi...\n",
      "\n"
     ]
    }
   ],
   "source": [
    "df_csv.explain(True)"
   ]
  },
  {
   "cell_type": "code",
   "execution_count": 6,
   "id": "f9360674-a597-4bf8-be2c-313a0d847793",
   "metadata": {},
   "outputs": [
    {
     "name": "stdout",
     "output_type": "stream",
     "text": [
      "root\n",
      " |-- oscar_no: integer (nullable = true)\n",
      " |-- oscar_yr: integer (nullable = true)\n",
      " |-- award: string (nullable = true)\n",
      " |-- name: string (nullable = true)\n",
      " |-- movie: string (nullable = true)\n",
      " |-- age: integer (nullable = true)\n",
      " |-- birth_pl: string (nullable = true)\n",
      " |-- birth_date: date (nullable = true)\n",
      " |-- birth_mo: integer (nullable = true)\n",
      " |-- birth_d: integer (nullable = true)\n",
      " |-- birth_y: integer (nullable = true)\n",
      "\n"
     ]
    }
   ],
   "source": [
    "df_csv.printSchema()"
   ]
  },
  {
   "cell_type": "code",
   "execution_count": 7,
   "id": "8766d3ff-e94a-412c-8d69-f53da5f0d39a",
   "metadata": {},
   "outputs": [
    {
     "name": "stdout",
     "output_type": "stream",
     "text": [
      "+---+----+----+\n",
      "| id|year| age|\n",
      "+---+----+----+\n",
      "|  1|1929|NULL|\n",
      "|  2|1930|NULL|\n",
      "|  3|1931|NULL|\n",
      "|  4|1932|NULL|\n",
      "|  5|1933|NULL|\n",
      "|  6|1934|NULL|\n",
      "|  7|1935|NULL|\n",
      "|  8|1936|NULL|\n",
      "|  9|1937|NULL|\n",
      "| 10|1938|NULL|\n",
      "| 11|1939|NULL|\n",
      "| 12|1940|NULL|\n",
      "| 13|1941|NULL|\n",
      "| 14|1942|NULL|\n",
      "| 15|1943|NULL|\n",
      "| 16|1944|NULL|\n",
      "| 17|1945|NULL|\n",
      "| 18|1946|NULL|\n",
      "| 19|1947|NULL|\n",
      "| 20|1948|NULL|\n",
      "+---+----+----+\n",
      "only showing top 20 rows\n",
      "\n"
     ]
    }
   ],
   "source": [
    "schema = StructType([\n",
    "    StructField(\"id\", IntegerType(), True),\n",
    "    StructField(\"year\", StringType(), True),\n",
    "    StructField(\"age\", IntegerType(), True) #Wrong type\n",
    "])\n",
    "\n",
    "df_csv_with_schema = spark.read.schema(schema).csv(csv_file, header=True)\n",
    "\n",
    "df_csv_with_schema.show()"
   ]
  },
  {
   "cell_type": "code",
   "execution_count": 8,
   "id": "3f1d9d59-8c29-4949-b9e6-d5af4a2723ea",
   "metadata": {},
   "outputs": [
    {
     "name": "stdout",
     "output_type": "stream",
     "text": [
      "root\n",
      " |-- id: integer (nullable = true)\n",
      " |-- year: string (nullable = true)\n",
      " |-- age: integer (nullable = true)\n",
      "\n"
     ]
    }
   ],
   "source": [
    "\n",
    "df_csv_with_schema.printSchema()"
   ]
  },
  {
   "cell_type": "code",
   "execution_count": 9,
   "id": "d420d9a1-49ff-490a-bb54-1f4df7af9ec5",
   "metadata": {},
   "outputs": [
    {
     "name": "stdout",
     "output_type": "stream",
     "text": [
      "+--------+--------+------------+-------------------+--------------------+---+-------------+----------+--------+-------+-------+\n",
      "|oscar_no|oscar_yr|       award|               name|               movie|age|     birth_pl|birth_date|birth_mo|birth_d|birth_y|\n",
      "+--------+--------+------------+-------------------+--------------------+---+-------------+----------+--------+-------+-------+\n",
      "|       1|    1929|Best actress|       Janet Gaynor|          7th Heaven| 22| Pennsylvania|1906-10-06|      10|      6|   1906|\n",
      "|       2|    1930|Best actress|      Mary Pickford|            Coquette| 37|       Canada|1892-04-08|       4|      8|   1892|\n",
      "|       3|    1931|Best actress|      Norma Shearer|        The Divorcee| 28|       Canada|1902-08-10|       8|     10|   1902|\n",
      "|       4|    1932|Best actress|     Marie Dressler|        Min and Bill| 63|       Canada|1868-11-09|      11|      9|   1868|\n",
      "|       5|    1933|Best actress|        Helen Hayes|The Sin of Madelo...| 32|Washington DC|1900-10-10|      10|     10|   1900|\n",
      "|       6|    1934|Best actress|  Katharine Hepburn|       Morning Glory| 26|  Connecticut|1907-05-12|       5|     12|   1907|\n",
      "|       7|    1935|Best actress|  Claudette Colbert|It Happened One N...| 31|       France|1903-09-13|       9|     13|   1903|\n",
      "|       8|    1936|Best actress|        Bette Davis|           Dangerous| 27|Massachusetts|1908-04-05|       4|      5|   1908|\n",
      "|       9|    1937|Best actress|       Luise Rainer|  The Great Zeigfeld| 26|      Germany|1910-01-12|       1|     12|   1910|\n",
      "|      10|    1938|Best actress|       Luise Rainer|      The Good Earth| 27|      Germany|1910-01-12|       1|     12|   1910|\n",
      "|      11|    1939|Best actress|        Bette Davis|             Jezebel| 30|Massachusetts|1908-04-05|       4|      5|   1908|\n",
      "|      12|    1940|Best actress|       Vivien Leigh|  Gone With the Wind| 26|        India|1913-11-05|      11|      5|   1913|\n",
      "|      13|    1941|Best actress|      Ginger Rogers|         Kitty Foyle| 29|     Missouri|1911-07-16|       7|     16|   1911|\n",
      "|      14|    1942|Best actress|      Joan Fontaine|           Suspicion| 24|        Japan|1917-10-22|      10|     22|   1917|\n",
      "|      15|    1943|Best actress|       Greer Garson|        Mrs. Miniver| 38|      England|1904-09-29|       9|     29|   1904|\n",
      "|      16|    1944|Best actress|     Jennifer Jones|The Song of Berna...| 24|     Oklahoma|1919-03-02|       3|      2|   1919|\n",
      "|      17|    1945|Best actress|     Ingrid Bergman|            Gaslight| 29|       Sweden|1915-08-29|       8|     29|   1915|\n",
      "|      18|    1946|Best actress|      Joan Crawford|      Mildred Pierce| 33|        Texas|1912-03-23|       3|     23|   1912|\n",
      "|      19|    1947|Best actress|Olivia de Havilland|     To Each His Own| 30|        Japan|1916-07-01|       7|      1|   1916|\n",
      "|      20|    1948|Best actress|      Loretta Young|The Farmer's Daug...| 34|         Utah|1913-01-06|       1|      6|   1913|\n",
      "+--------+--------+------------+-------------------+--------------------+---+-------------+----------+--------+-------+-------+\n",
      "only showing top 20 rows\n",
      "\n"
     ]
    }
   ],
   "source": [
    "# Load CSV file with specific options\n",
    "df_csv_options = spark.read.options(header='True', \n",
    "                                    inferSchema='True', \n",
    "                                    delimiter=',',\n",
    "                                    quote='\"',\n",
    "                                    dateFormat='yyyy-MM-dd',\n",
    "                                    escape='\\\\').csv(csv_file)\n",
    "\n",
    "df_csv_options.show()"
   ]
  },
  {
   "cell_type": "code",
   "execution_count": 10,
   "id": "85789287-bc9b-4d0a-b930-d0a6b1127b42",
   "metadata": {},
   "outputs": [
    {
     "name": "stdout",
     "output_type": "stream",
     "text": [
      "+-----------------+-----+--------------+-------------+\n",
      "|           client|price|       product|purchase_date|\n",
      "+-----------------+-----+--------------+-------------+\n",
      "|     Norma Fisher|  121|Vacuum cleaner|   2022-08-09|\n",
      "|     Norma Fisher|  348|Microwave oven|   2022-08-13|\n",
      "|     Norma Fisher| 1126|         Phone|   2022-08-12|\n",
      "|   Jorge Sullivan|  171|Microwave oven|   2022-08-10|\n",
      "|  Elizabeth Woods| 1766|            TV|   2022-08-26|\n",
      "|     Susan Wagner|  461|Microwave oven|   2022-08-26|\n",
      "|     Susan Wagner|  561|Microwave oven|   2022-08-05|\n",
      "| Peter Montgomery| 1994|            TV|   2022-08-03|\n",
      "| Peter Montgomery| 2804|coffee machine|   2022-08-16|\n",
      "|Stephanie Collins|  403|Vacuum cleaner|   2022-08-20|\n",
      "|Stephanie Collins| 1775|coffee machine|   2022-08-18|\n",
      "| Stephanie Sutton|  613|Vacuum cleaner|   2022-08-09|\n",
      "| Stephanie Sutton| 2148|            TV|   2022-08-30|\n",
      "| Stephanie Sutton|  568|Microwave oven|   2022-08-01|\n",
      "|       Susan Levy|  109|coffee machine|   2022-08-20|\n",
      "|       Susan Levy|  421|Vacuum cleaner|   2022-08-08|\n",
      "|       Susan Levy| 2764|coffee machine|   2022-08-23|\n",
      "|   Kimberly Smith|  213|Microwave oven|   2022-08-08|\n",
      "| Jennifer Summers|  329|Microwave oven|   2022-08-03|\n",
      "|      Dana Nguyen|  577|Microwave oven|   2022-08-16|\n",
      "+-----------------+-----+--------------+-------------+\n",
      "only showing top 20 rows\n",
      "\n"
     ]
    }
   ],
   "source": [
    "json_file = \"/home/lec_14/data/sales.json\"\n",
    "df_json = spark.read.json(json_file, multiLine=True)\n",
    "\n",
    "df_json.show()"
   ]
  },
  {
   "cell_type": "code",
   "execution_count": 11,
   "id": "3219281b-077b-4496-a1b5-d03ed5632124",
   "metadata": {},
   "outputs": [
    {
     "name": "stdout",
     "output_type": "stream",
     "text": [
      "+---+---------------+-----------------------+\n",
      "|id |name           |details                |\n",
      "+---+---------------+-----------------------+\n",
      "|2  |Jane Smith     |{25, {Los Angeles, CA}}|\n",
      "|3  |Michael Johnson|{40, {Chicago, IL}}    |\n",
      "|1  |John Doe       |{30, {New York, NY}}   |\n",
      "+---+---------------+-----------------------+\n",
      "\n"
     ]
    }
   ],
   "source": [
    "schema = StructType([\n",
    "    StructField(\"id\", IntegerType(), True),\n",
    "    StructField(\"name\", StringType(), True),\n",
    "    StructField(\"details\", StructType([\n",
    "        StructField(\"age\", IntegerType(), True),\n",
    "        StructField(\"address\", StructType([\n",
    "            StructField(\"city\", StringType(), True),\n",
    "            StructField(\"state\", StringType(), True)\n",
    "        ]), True)\n",
    "    ]), True)\n",
    "])\n",
    "\n",
    "nested_json_file = \"/home/lec_14/data/few_files/*.json\"\n",
    "df_nested_json = spark.read.schema(schema).json(nested_json_file, multiLine=True)\n",
    "\n",
    "df_nested_json.show(truncate=False)"
   ]
  },
  {
   "cell_type": "code",
   "execution_count": 12,
   "id": "ecf99908-0c26-4249-be99-7cecbce4ed39",
   "metadata": {},
   "outputs": [
    {
     "name": "stdout",
     "output_type": "stream",
     "text": [
      "root\n",
      " |-- id: integer (nullable = true)\n",
      " |-- name: string (nullable = true)\n",
      " |-- details: struct (nullable = true)\n",
      " |    |-- age: integer (nullable = true)\n",
      " |    |-- address: struct (nullable = true)\n",
      " |    |    |-- city: string (nullable = true)\n",
      " |    |    |-- state: string (nullable = true)\n",
      "\n"
     ]
    }
   ],
   "source": [
    "df_nested_json.printSchema()"
   ]
  },
  {
   "cell_type": "code",
   "execution_count": 13,
   "id": "c00f6cb0-1667-451d-b835-885dc8e09241",
   "metadata": {},
   "outputs": [
    {
     "name": "stdout",
     "output_type": "stream",
     "text": [
      "+-----------+--------+------+--------------------+------+----+-----+-----+----------------+-------+-----+--------+\n",
      "|PassengerId|Survived|Pclass|                Name|   Sex| Age|SibSp|Parch|          Ticket|   Fare|Cabin|Embarked|\n",
      "+-----------+--------+------+--------------------+------+----+-----+-----+----------------+-------+-----+--------+\n",
      "|          1|       0|     3|Braund, Mr. Owen ...|  male|22.0|    1|    0|       A/5 21171|   7.25| NULL|       S|\n",
      "|          2|       1|     1|Cumings, Mrs. Joh...|female|38.0|    1|    0|        PC 17599|71.2833|  C85|       C|\n",
      "|          3|       1|     3|Heikkinen, Miss. ...|female|26.0|    0|    0|STON/O2. 3101282|  7.925| NULL|       S|\n",
      "|          4|       1|     1|Futrelle, Mrs. Ja...|female|35.0|    1|    0|          113803|   53.1| C123|       S|\n",
      "|          5|       0|     3|Allen, Mr. Willia...|  male|35.0|    0|    0|          373450|   8.05| NULL|       S|\n",
      "|          6|       0|     3|    Moran, Mr. James|  male|NULL|    0|    0|          330877| 8.4583| NULL|       Q|\n",
      "|          7|       0|     1|McCarthy, Mr. Tim...|  male|54.0|    0|    0|           17463|51.8625|  E46|       S|\n",
      "|          8|       0|     3|Palsson, Master. ...|  male| 2.0|    3|    1|          349909| 21.075| NULL|       S|\n",
      "|          9|       1|     3|Johnson, Mrs. Osc...|female|27.0|    0|    2|          347742|11.1333| NULL|       S|\n",
      "|         10|       1|     2|Nasser, Mrs. Nich...|female|14.0|    1|    0|          237736|30.0708| NULL|       C|\n",
      "|         11|       1|     3|Sandstrom, Miss. ...|female| 4.0|    1|    1|         PP 9549|   16.7|   G6|       S|\n",
      "|         12|       1|     1|Bonnell, Miss. El...|female|58.0|    0|    0|          113783|  26.55| C103|       S|\n",
      "|         13|       0|     3|Saundercock, Mr. ...|  male|20.0|    0|    0|       A/5. 2151|   8.05| NULL|       S|\n",
      "|         14|       0|     3|Andersson, Mr. An...|  male|39.0|    1|    5|          347082| 31.275| NULL|       S|\n",
      "|         15|       0|     3|Vestrom, Miss. Hu...|female|14.0|    0|    0|          350406| 7.8542| NULL|       S|\n",
      "|         16|       1|     2|Hewlett, Mrs. (Ma...|female|55.0|    0|    0|          248706|   16.0| NULL|       S|\n",
      "|         17|       0|     3|Rice, Master. Eugene|  male| 2.0|    4|    1|          382652| 29.125| NULL|       Q|\n",
      "|         18|       1|     2|Williams, Mr. Cha...|  male|NULL|    0|    0|          244373|   13.0| NULL|       S|\n",
      "|         19|       0|     3|Vander Planke, Mr...|female|31.0|    1|    0|          345763|   18.0| NULL|       S|\n",
      "|         20|       1|     3|Masselmani, Mrs. ...|female|NULL|    0|    0|            2649|  7.225| NULL|       C|\n",
      "+-----------+--------+------+--------------------+------+----+-----+-----+----------------+-------+-----+--------+\n",
      "only showing top 20 rows\n",
      "\n"
     ]
    }
   ],
   "source": [
    "parquet_file = \"/home/lec_14/data/titanic.parquet\"\n",
    "df_parquet = spark.read.parquet(parquet_file)\n",
    "\n",
    "# Show DataFrame\n",
    "df_parquet.show()"
   ]
  },
  {
   "cell_type": "code",
   "execution_count": 14,
   "id": "3925cb2f-9311-4f24-bc93-15a7598b362e",
   "metadata": {},
   "outputs": [
    {
     "name": "stdout",
     "output_type": "stream",
     "text": [
      "+--------------------+\n",
      "|               value|\n",
      "+--------------------+\n",
      "|03-17 16:13:38.81...|\n",
      "|03-17 16:13:38.81...|\n",
      "|03-17 16:13:38.82...|\n",
      "|03-17 16:13:38.83...|\n",
      "|03-17 16:13:38.85...|\n",
      "|03-17 16:13:38.86...|\n",
      "|03-17 16:13:38.86...|\n",
      "|03-17 16:13:38.87...|\n",
      "|03-17 16:13:38.87...|\n",
      "|03-17 16:13:38.87...|\n",
      "|03-17 16:13:38.88...|\n",
      "|03-17 16:13:38.88...|\n",
      "|03-17 16:13:38.88...|\n",
      "|03-17 16:13:38.88...|\n",
      "|03-17 16:13:38.90...|\n",
      "|03-17 16:13:38.90...|\n",
      "|03-17 16:13:38.91...|\n",
      "|03-17 16:13:38.92...|\n",
      "|03-17 16:13:38.92...|\n",
      "|03-17 16:13:38.93...|\n",
      "+--------------------+\n",
      "only showing top 20 rows\n",
      "\n"
     ]
    }
   ],
   "source": [
    "text_file = \"/home/lec_14/data/android.txt\"\n",
    "df_text = spark.read.text(text_file)\n",
    "\n",
    "# Show DataFrame\n",
    "df_text.show()"
   ]
  },
  {
   "cell_type": "code",
   "execution_count": 15,
   "id": "a5fa8658-ce6b-4194-bafe-7aea76ae48eb",
   "metadata": {},
   "outputs": [],
   "source": [
    "sc = spark.sparkContext\n",
    "\n",
    "# Load text file into an RDD\n",
    "rdd = sc.textFile(text_file)"
   ]
  },
  {
   "cell_type": "code",
   "execution_count": 16,
   "id": "100cd224-ae19-4245-a8a3-7da25882ede7",
   "metadata": {},
   "outputs": [
    {
     "data": {
      "text/plain": [
       "['03-17 16:13:38.811  1702  2395 D WindowManager: printFreezingDisplayLogsopening app wtoken = AppWindowToken{9f4ef63 token=Token{a64f992 ActivityRecord{de9231d u0 com.tencent.qt.qtl/.activity.info.NewsDetailXmlActivity t761}}}, allDrawn= false, startingDisplayed =  false, startingMoved =  false, isRelaunching =  false',\n",
       " '03-17 16:13:38.819  1702  8671 D PowerManagerService: acquire lock=233570404, flags=0x1, tag=\"View Lock\", name=com.android.systemui, ws=null, uid=10037, pid=2227',\n",
       " '03-17 16:13:38.820  1702  8671 D PowerManagerService: ready=true,policy=3,wakefulness=1,wksummary=0x23,uasummary=0x1,bootcompleted=true,boostinprogress=false,waitmodeenable=false,mode=false,manual=38,auto=-1,adj=0.0userId=0',\n",
       " '03-17 16:13:38.839  1702  2113 V WindowManager: Skipping AppWindowToken{df0798e token=Token{78af589 ActivityRecord{3b04890 u0 com.tencent.qt.qtl/com.tencent.video.player.activity.PlayerActivity t761}}} -- going to hide',\n",
       " '03-17 16:13:38.859  2227  2227 D TextView: visible is system.time.showampm',\n",
       " '03-17 16:13:38.861  2227  2227 D TextView: mVisiblity.getValue is false',\n",
       " '03-17 16:13:38.869  2227  2227 D TextView: visible is system.charge.show',\n",
       " '03-17 16:13:38.871  2227  2227 D TextView: mVisiblity.getValue is false',\n",
       " '03-17 16:13:38.875  2227  2227 D TextView: visible is system.call.count gt 0',\n",
       " '03-17 16:13:38.877  2227  2227 D TextView: mVisiblity.getValue is false']"
      ]
     },
     "execution_count": 16,
     "metadata": {},
     "output_type": "execute_result"
    }
   ],
   "source": [
    "rdd.take(10)"
   ]
  },
  {
   "cell_type": "code",
   "execution_count": 20,
   "id": "33ce78eb-19ba-4147-a2ae-ceb91f055239",
   "metadata": {},
   "outputs": [
    {
     "data": {
      "text/plain": [
       "['03-17 16:13:38.811  1702  2395 D WindowManager: printFreezingDisplayLogsopening app wtoken = AppWindowToken{9f4ef63 token=Token{a64f992 ActivityRecord{de9231d u0 com.tencent.qt.qtl/.activity.info.NewsDetailXmlActivity t761}}}, allDrawn= false, startingDisplayed =  false, startingMoved =  false, isRelaunching =  false',\n",
       " '03-17 16:13:38.819  1702  8671 D PowerManagerService: acquire lock=233570404, flags=0x1, tag=\"View Lock\", name=com.android.systemui, ws=null, uid=10037, pid=2227',\n",
       " '03-17 16:13:38.820  1702  8671 D PowerManagerService: ready=true,policy=3,wakefulness=1,wksummary=0x23,uasummary=0x1,bootcompleted=true,boostinprogress=false,waitmodeenable=false,mode=false,manual=38,auto=-1,adj=0.0userId=0',\n",
       " '03-17 16:13:38.839  1702  2113 V WindowManager: Skipping AppWindowToken{df0798e token=Token{78af589 ActivityRecord{3b04890 u0 com.tencent.qt.qtl/com.tencent.video.player.activity.PlayerActivity t761}}} -- going to hide',\n",
       " '03-17 16:13:38.859  2227  2227 D TextView: visible is system.time.showampm',\n",
       " '03-17 16:13:38.861  2227  2227 D TextView: mVisiblity.getValue is false',\n",
       " '03-17 16:13:38.869  2227  2227 D TextView: visible is system.charge.show',\n",
       " '03-17 16:13:38.871  2227  2227 D TextView: mVisiblity.getValue is false',\n",
       " '03-17 16:13:38.875  2227  2227 D TextView: visible is system.call.count gt 0',\n",
       " '03-17 16:13:38.877  2227  2227 D TextView: mVisiblity.getValue is false']"
      ]
     },
     "execution_count": 20,
     "metadata": {},
     "output_type": "execute_result"
    }
   ],
   "source": [
    "rdd.take(10)"
   ]
  },
  {
   "cell_type": "code",
   "execution_count": 21,
   "id": "3fc1972e-8e40-4556-80e5-880d54aeea22",
   "metadata": {},
   "outputs": [
    {
     "name": "stdout",
     "output_type": "stream",
     "text": [
      "Number of lines: 2000\n"
     ]
    }
   ],
   "source": [
    "line_count = rdd.count()\n",
    "print(f\"Number of lines: {line_count}\")"
   ]
  },
  {
   "cell_type": "code",
   "execution_count": 22,
   "id": "e3d97597-fb21-455e-9157-c54d5693480a",
   "metadata": {},
   "outputs": [
    {
     "name": "stdout",
     "output_type": "stream",
     "text": [
      "First line: 03-17 16:13:38.811  1702  2395 D WindowManager: printFreezingDisplayLogsopening app wtoken = AppWindowToken{9f4ef63 token=Token{a64f992 ActivityRecord{de9231d u0 com.tencent.qt.qtl/.activity.info.NewsDetailXmlActivity t761}}}, allDrawn= false, startingDisplayed =  false, startingMoved =  false, isRelaunching =  false\n"
     ]
    }
   ],
   "source": [
    "first_line = rdd.first()\n",
    "print(f\"First line: {first_line}\")"
   ]
  },
  {
   "cell_type": "code",
   "execution_count": 23,
   "id": "6277165b-9f9b-4f98-a028-ce156ca31f7c",
   "metadata": {},
   "outputs": [
    {
     "data": {
      "text/plain": [
       "['03-17 16:13:38.811  1702  2395 D WindowManager: printFreezingDisplayLogsopening app wtoken = AppWindowToken{9f4ef63 token=Token{a64f992 ActivityRecord{de9231d u0 com.tencent.qt.qtl/.activity.info.NewsDetailXmlActivity t761}}}, allDrawn= false, startingDisplayed =  false, startingMoved =  false, isRelaunching =  false',\n",
       " '03-17 16:13:38.839  1702  2113 V WindowManager: Skipping AppWindowToken{df0798e token=Token{78af589 ActivityRecord{3b04890 u0 com.tencent.qt.qtl/com.tencent.video.player.activity.PlayerActivity t761}}} -- going to hide',\n",
       " '03-17 16:13:38.915  1702  3693 V WindowManager: Skipping AppWindowToken{df0798e token=Token{78af589 ActivityRecord{3b04890 u0 com.tencent.qt.qtl/com.tencent.video.player.activity.PlayerActivity t761}}} -- going to hide',\n",
       " '03-17 16:13:38.994  1702 27365 I WindowManager: Destroying surface Surface(name=SurfaceView - com.tencent.qt.qtl/com.tencent.video.player.activity.PlayerActivity) called by com.android.server.wm.WindowStateAnimator.destroyDeferredSurfaceLocked:942 com.android.server.wm.WindowManagerService.performDeferredDestroyWindow:3407 com.android.server.wm.Session.performDeferredDestroy:225 android.view.IWindowSession$Stub.onTransact:398 com.android.server.wm.Session.onTransact:136 android.os.Binder.execTransact:565 <bottom of call stack> <bottom of call stack> ',\n",
       " '03-17 16:13:39.006  1702  2639 I WindowManager: Destroying surface Surface(name=com.tencent.qt.qtl/com.tencent.video.player.activity.PlayerActivity) called by com.android.server.wm.WindowStateAnimator.destroySurface:2060 com.android.server.wm.WindowStateAnimator.destroySurfaceLocked:913 com.android.server.wm.WindowState.destroyOrSaveSurface:2201 com.android.server.wm.WindowManagerService.tryStartExitingAnimation:3299 com.android.server.wm.WindowManagerService.relayoutWindow:3179 com.android.server.wm.Session.relayout:215 android.view.IWindowSession$Stub.onTransact:286 com.android.server.wm.Session.onTransact:136 ',\n",
       " '03-17 16:13:39.069  1702  1815 I WindowManager: orientation change is complete, call stopFreezingDisplayLocked',\n",
       " '03-17 16:13:39.070  1702  1815 I WindowManager: Screen frozen for +1s0ms due to Window{ca98d5 u0 com.tencent.qt.qtl/com.tencent.qt.qtl.activity.info.NewsDetailXmlActivity}',\n",
       " '03-17 16:13:39.070  1702  1815 D WindowManager: startAnimation begin',\n",
       " '03-17 16:13:39.079  1702  1815 D WindowManager: startAnimation end',\n",
       " '03-17 16:13:39.207  1702  1815 I WindowManager: rotationForOrientationLw(orient=1, last=0); user=0 USER_ROTATION_LOCKED']"
      ]
     },
     "execution_count": 23,
     "metadata": {},
     "output_type": "execute_result"
    }
   ],
   "source": [
    "filtered_rdd = rdd.filter(lambda line: 'WindowManager:' in line)\n",
    "filtered_rdd.take(10)"
   ]
  },
  {
   "cell_type": "code",
   "execution_count": 24,
   "id": "eb720d08-86a4-4024-83a3-5303b08e6d58",
   "metadata": {},
   "outputs": [
    {
     "data": {
      "text/plain": [
       "[318, 161, 223, 218, 74, 71, 72, 71, 76, 71]"
      ]
     },
     "execution_count": 24,
     "metadata": {},
     "output_type": "execute_result"
    }
   ],
   "source": [
    "line_lengths = rdd.map(lambda line: len(line))\n",
    "line_lengths.take(10)"
   ]
  },
  {
   "cell_type": "code",
   "execution_count": 25,
   "id": "9c2daab8-8512-4780-93f6-e1dd3e9afce8",
   "metadata": {},
   "outputs": [
    {
     "name": "stdout",
     "output_type": "stream",
     "text": [
      "Total number of characters: 275078\n"
     ]
    }
   ],
   "source": [
    "# Reduce to get the total number of characters in the text file\n",
    "total_characters = line_lengths.reduce(lambda a, b: a + b)\n",
    "print(f\"Total number of characters: {total_characters}\")"
   ]
  },
  {
   "cell_type": "code",
   "execution_count": 26,
   "id": "b6b56bbd-1f59-4b78-8391-9dc2788ae40f",
   "metadata": {},
   "outputs": [
    {
     "data": {
      "text/plain": [
       "['03-17',\n",
       " '16:13:38.811',\n",
       " '',\n",
       " '1702',\n",
       " '',\n",
       " '2395',\n",
       " 'D',\n",
       " 'WindowManager:',\n",
       " 'printFreezingDisplayLogsopening',\n",
       " 'app']"
      ]
     },
     "execution_count": 26,
     "metadata": {},
     "output_type": "execute_result"
    }
   ],
   "source": [
    "rdd.flatMap(lambda line: line.split(\" \")).take(10)"
   ]
  },
  {
   "cell_type": "code",
   "execution_count": 27,
   "id": "6a729202-37e9-4b86-8ff2-3989ab7b3bb2",
   "metadata": {},
   "outputs": [
    {
     "data": {
      "text/plain": [
       "[('03-17', 2000),\n",
       " ('', 3819),\n",
       " ('D', 650),\n",
       " ('WindowManager:', 86),\n",
       " ('app', 6),\n",
       " ('token=Token{a64f992', 3),\n",
       " ('ActivityRecord{de9231d', 3),\n",
       " ('com.tencent.qt.qtl/.activity.info.NewsDetailXmlActivity', 3),\n",
       " ('allDrawn=', 1),\n",
       " ('false,', 66)]"
      ]
     },
     "execution_count": 27,
     "metadata": {},
     "output_type": "execute_result"
    }
   ],
   "source": [
    "words = rdd.flatMap(lambda line: line.split(\" \"))\n",
    "word_pairs = words.map(lambda word: (word, 1))\n",
    "word_counts = word_pairs.reduceByKey(lambda a, b: a + b)\n",
    "\n",
    "word_counts.take(10)"
   ]
  },
  {
   "cell_type": "code",
   "execution_count": 28,
   "id": "eb2acd55-df50-43c6-a291-f59d4ae58de7",
   "metadata": {},
   "outputs": [
    {
     "name": "stdout",
     "output_type": "stream",
     "text": [
      "+--------------------+-----+\n",
      "|                word|count|\n",
      "+--------------------+-----+\n",
      "|               03-17| 2000|\n",
      "|                    | 3819|\n",
      "|                   D|  650|\n",
      "|      WindowManager:|   86|\n",
      "|                 app|    6|\n",
      "| token=Token{a64f992|    3|\n",
      "|ActivityRecord{de...|    3|\n",
      "|com.tencent.qt.qt...|    3|\n",
      "|           allDrawn=|    1|\n",
      "|              false,|   66|\n",
      "|   startingDisplayed|    1|\n",
      "|       startingMoved|    1|\n",
      "|PowerManagerService:|  387|\n",
      "|     lock=233570404,|    1|\n",
      "|              Lock\",|    2|\n",
      "|name=com.android....|    1|\n",
      "|        16:13:38.839|    1|\n",
      "|                2113|   29|\n",
      "|ActivityRecord{3b...|    2|\n",
      "|com.tencent.qt.qt...|    2|\n",
      "+--------------------+-----+\n",
      "only showing top 20 rows\n",
      "\n"
     ]
    }
   ],
   "source": [
    "schema = StructType([\n",
    "    StructField(\"word\", StringType(), True),\n",
    "    StructField(\"count\", IntegerType(), True)\n",
    "])\n",
    "\n",
    "word_counts_df = spark.createDataFrame(word_counts, schema).show()"
   ]
  },
  {
   "cell_type": "code",
   "execution_count": 29,
   "id": "795d7869-d557-483d-a87c-c96e0fa67568",
   "metadata": {},
   "outputs": [],
   "source": [
    "import re"
   ]
  },
  {
   "cell_type": "code",
   "execution_count": 30,
   "id": "19e277c8-d91f-4181-bdfd-af28bc7db40f",
   "metadata": {},
   "outputs": [
    {
     "data": {
      "text/plain": [
       "['D',\n",
       " 'WindowManager',\n",
       " 'printFreezingDisplayLogsopening',\n",
       " 'app',\n",
       " 'wtoken',\n",
       " 'AppWindowToken',\n",
       " 'token',\n",
       " 'Token',\n",
       " 'ActivityRecord',\n",
       " 'com']"
      ]
     },
     "execution_count": 30,
     "metadata": {},
     "output_type": "execute_result"
    }
   ],
   "source": [
    "# Define the regular expression pattern for real words\n",
    "pattern = re.compile(r'\\b[A-Za-z]+\\b')\n",
    "\n",
    "def extract_words(line):\n",
    "    return pattern.findall(line)\n",
    "\n",
    "words_rdd = rdd.flatMap(extract_words)\n",
    "\n",
    "words_rdd.take(10)"
   ]
  },
  {
   "cell_type": "code",
   "execution_count": 31,
   "id": "29ac01b0-ae62-4498-a6e8-f971b1199fdd",
   "metadata": {},
   "outputs": [
    {
     "data": {
      "text/plain": [
       "[('ACTIVITY', 2),\n",
       " ('AMP', 1),\n",
       " ('Acquiring', 33),\n",
       " ('Activity', 1),\n",
       " ('ActivityInfo', 4),\n",
       " ('ActivityManager', 253),\n",
       " ('ActivityManagerService', 9),\n",
       " ('ActivityRecord', 10),\n",
       " ('ActivityStack', 5),\n",
       " ('Alarm', 5),\n",
       " ('AlarmManager', 13),\n",
       " ('AndroidRuntimeException', 3),\n",
       " ('Animating', 85),\n",
       " ('ApStaDisabledState', 1),\n",
       " ('AppWindowToken', 16),\n",
       " ('Application', 3),\n",
       " ('AudioManager', 66),\n",
       " ('AudioMix', 11),\n",
       " ('Bad', 1),\n",
       " ('Binder', 1)]"
      ]
     },
     "execution_count": 31,
     "metadata": {},
     "output_type": "execute_result"
    }
   ],
   "source": [
    "word_pairs = words_rdd.map(lambda word: (word, 1))\n",
    "word_counts = word_pairs.reduceByKey(lambda a, b: a + b)\n",
    "\n",
    "word_counts.sortByKey().take(20)"
   ]
  },
  {
   "cell_type": "code",
   "execution_count": 32,
   "id": "b1bd23f9-0194-4367-8b37-74fdb329c29a",
   "metadata": {},
   "outputs": [
    {
     "data": {
      "text/plain": [
       "[('I', 920),\n",
       " ('false', 914),\n",
       " ('true', 655),\n",
       " ('D', 650),\n",
       " ('PhoneStatusBar', 507),\n",
       " ('PowerManagerService', 453),\n",
       " ('com', 411),\n",
       " ('Rect', 404),\n",
       " ('android', 369),\n",
       " ('V', 257),\n",
       " ('DisplayPowerController', 255),\n",
       " ('ActivityManager', 253),\n",
       " ('vis', 221),\n",
       " ('policy', 201),\n",
       " ('adj', 200),\n",
       " ('newVal', 200),\n",
       " ('dockedStackBounds', 200),\n",
       " ('setSystemUiVisibility', 200),\n",
       " ('mask', 200),\n",
       " ('oldVal', 200)]"
      ]
     },
     "execution_count": 32,
     "metadata": {},
     "output_type": "execute_result"
    }
   ],
   "source": [
    "word_counts.sortBy(lambda x: x[1], ascending=False).take(20)"
   ]
  },
  {
   "cell_type": "code",
   "execution_count": 33,
   "id": "3fc72ee1-491d-4063-b99e-189c79b6bebf",
   "metadata": {},
   "outputs": [
    {
     "data": {
      "text/plain": [
       "[('D', 650),\n",
       " ('AppWindowToken', 16),\n",
       " ('Token', 6),\n",
       " ('ActivityRecord', 10),\n",
       " ('tencent', 116),\n",
       " ('View', 2),\n",
       " ('Lock', 2),\n",
       " ('name', 78),\n",
       " ('systemui', 24),\n",
       " ('uid', 148),\n",
       " ('adj', 200),\n",
       " ('video', 4),\n",
       " ('player', 4),\n",
       " ('going', 4),\n",
       " ('hide', 4),\n",
       " ('TextView', 10),\n",
       " ('show', 2),\n",
       " ('release', 26),\n",
       " ('I', 920),\n",
       " ('StackScrollAlgorithm', 156)]"
      ]
     },
     "execution_count": 33,
     "metadata": {},
     "output_type": "execute_result"
    }
   ],
   "source": [
    "word_counts.distinct().take(20)"
   ]
  },
  {
   "cell_type": "code",
   "execution_count": 34,
   "id": "77d8598b-e3f7-428f-ad95-2791a16a3bcb",
   "metadata": {},
   "outputs": [
    {
     "data": {
      "text/plain": [
       "579"
      ]
     },
     "execution_count": 34,
     "metadata": {},
     "output_type": "execute_result"
    }
   ],
   "source": [
    "word_counts.count()"
   ]
  },
  {
   "cell_type": "code",
   "execution_count": 35,
   "id": "62a27c33-a751-449b-ae84-b0e98c948fd9",
   "metadata": {},
   "outputs": [
    {
     "data": {
      "text/plain": [
       "2"
      ]
     },
     "execution_count": 35,
     "metadata": {},
     "output_type": "execute_result"
    }
   ],
   "source": [
    "word_counts.collect()\n",
    "\n",
    "word_counts.getNumPartitions()"
   ]
  },
  {
   "cell_type": "code",
   "execution_count": 36,
   "id": "c42e86e3-a0cc-4b1b-b4dc-2a35befb0706",
   "metadata": {},
   "outputs": [
    {
     "data": {
      "text/plain": [
       "[('a', (1, 3)), ('b', (2, 4))]"
      ]
     },
     "execution_count": 36,
     "metadata": {},
     "output_type": "execute_result"
    }
   ],
   "source": [
    "rdd1 = sc.parallelize([(\"a\", 1), (\"b\", 2)])\n",
    "rdd2 = sc.parallelize([(\"a\", 3), (\"b\", 4), (\"c\", 5)])\n",
    "result = rdd1.join(rdd2)\n",
    "result.take(10)"
   ]
  },
  {
   "cell_type": "code",
   "execution_count": 37,
   "id": "76d91d91-7d46-4a6f-a6ff-3ae1842ef1eb",
   "metadata": {},
   "outputs": [
    {
     "data": {
      "text/plain": [
       "[1, 2, 3, 3, 4, 5]"
      ]
     },
     "execution_count": 37,
     "metadata": {},
     "output_type": "execute_result"
    }
   ],
   "source": [
    "rdd1 = sc.parallelize([1, 2, 3])\n",
    "rdd2 = sc.parallelize([3, 4, 5])\n",
    "result = rdd1.union(rdd2)\n",
    "\n",
    "result.take(10)"
   ]
  },
  {
   "cell_type": "code",
   "execution_count": 38,
   "id": "5d742f4d-4ac5-4949-8848-ecf8b4cf3e99",
   "metadata": {},
   "outputs": [
    {
     "name": "stdout",
     "output_type": "stream",
     "text": [
      "+--------------------+\n",
      "|                name|\n",
      "+--------------------+\n",
      "|Braund, Mr. Owen ...|\n",
      "|Cumings, Mrs. Joh...|\n",
      "|Heikkinen, Miss. ...|\n",
      "|Futrelle, Mrs. Ja...|\n",
      "|Allen, Mr. Willia...|\n",
      "|    Moran, Mr. James|\n",
      "|McCarthy, Mr. Tim...|\n",
      "|Palsson, Master. ...|\n",
      "|Johnson, Mrs. Osc...|\n",
      "|Nasser, Mrs. Nich...|\n",
      "|Sandstrom, Miss. ...|\n",
      "|Bonnell, Miss. El...|\n",
      "|Saundercock, Mr. ...|\n",
      "|Andersson, Mr. An...|\n",
      "|Vestrom, Miss. Hu...|\n",
      "|Hewlett, Mrs. (Ma...|\n",
      "|Rice, Master. Eugene|\n",
      "|Williams, Mr. Cha...|\n",
      "|Vander Planke, Mr...|\n",
      "|Masselmani, Mrs. ...|\n",
      "+--------------------+\n",
      "only showing top 20 rows\n",
      "\n",
      "+--------------------+----+\n",
      "|                name| age|\n",
      "+--------------------+----+\n",
      "|Braund, Mr. Owen ...|22.0|\n",
      "|Cumings, Mrs. Joh...|38.0|\n",
      "|Heikkinen, Miss. ...|26.0|\n",
      "|Futrelle, Mrs. Ja...|35.0|\n",
      "|Allen, Mr. Willia...|35.0|\n",
      "|    Moran, Mr. James|NULL|\n",
      "|McCarthy, Mr. Tim...|54.0|\n",
      "|Palsson, Master. ...| 2.0|\n",
      "|Johnson, Mrs. Osc...|27.0|\n",
      "|Nasser, Mrs. Nich...|14.0|\n",
      "|Sandstrom, Miss. ...| 4.0|\n",
      "|Bonnell, Miss. El...|58.0|\n",
      "|Saundercock, Mr. ...|20.0|\n",
      "|Andersson, Mr. An...|39.0|\n",
      "|Vestrom, Miss. Hu...|14.0|\n",
      "|Hewlett, Mrs. (Ma...|55.0|\n",
      "|Rice, Master. Eugene| 2.0|\n",
      "|Williams, Mr. Cha...|NULL|\n",
      "|Vander Planke, Mr...|31.0|\n",
      "|Masselmani, Mrs. ...|NULL|\n",
      "+--------------------+----+\n",
      "only showing top 20 rows\n",
      "\n"
     ]
    }
   ],
   "source": [
    "df_parquet.select(\"name\").show()\n",
    "df_parquet.select(\"name\", \"age\").show()"
   ]
  },
  {
   "cell_type": "code",
   "execution_count": 39,
   "id": "0784528d-fd98-4c9d-8193-bcad080433f6",
   "metadata": {},
   "outputs": [
    {
     "name": "stdout",
     "output_type": "stream",
     "text": [
      "+-----------+--------+------+--------------------+------+----+-----+-----+----------------+-------+-----+--------+\n",
      "|PassengerId|Survived|Pclass|                Name|   Sex| Age|SibSp|Parch|          Ticket|   Fare|Cabin|Embarked|\n",
      "+-----------+--------+------+--------------------+------+----+-----+-----+----------------+-------+-----+--------+\n",
      "|          2|       1|     1|Cumings, Mrs. Joh...|female|38.0|    1|    0|        PC 17599|71.2833|  C85|       C|\n",
      "|          3|       1|     3|Heikkinen, Miss. ...|female|26.0|    0|    0|STON/O2. 3101282|  7.925| NULL|       S|\n",
      "|          4|       1|     1|Futrelle, Mrs. Ja...|female|35.0|    1|    0|          113803|   53.1| C123|       S|\n",
      "|          5|       0|     3|Allen, Mr. Willia...|  male|35.0|    0|    0|          373450|   8.05| NULL|       S|\n",
      "|          7|       0|     1|McCarthy, Mr. Tim...|  male|54.0|    0|    0|           17463|51.8625|  E46|       S|\n",
      "|          9|       1|     3|Johnson, Mrs. Osc...|female|27.0|    0|    2|          347742|11.1333| NULL|       S|\n",
      "|         12|       1|     1|Bonnell, Miss. El...|female|58.0|    0|    0|          113783|  26.55| C103|       S|\n",
      "|         14|       0|     3|Andersson, Mr. An...|  male|39.0|    1|    5|          347082| 31.275| NULL|       S|\n",
      "|         16|       1|     2|Hewlett, Mrs. (Ma...|female|55.0|    0|    0|          248706|   16.0| NULL|       S|\n",
      "|         19|       0|     3|Vander Planke, Mr...|female|31.0|    1|    0|          345763|   18.0| NULL|       S|\n",
      "|         21|       0|     2|Fynney, Mr. Joseph J|  male|35.0|    0|    0|          239865|   26.0| NULL|       S|\n",
      "|         22|       1|     2|Beesley, Mr. Lawr...|  male|34.0|    0|    0|          248698|   13.0|  D56|       S|\n",
      "|         24|       1|     1|Sloper, Mr. Willi...|  male|28.0|    0|    0|          113788|   35.5|   A6|       S|\n",
      "|         26|       1|     3|Asplund, Mrs. Car...|female|38.0|    1|    5|          347077|31.3875| NULL|       S|\n",
      "|         31|       0|     1|Uruchurtu, Don. M...|  male|40.0|    0|    0|        PC 17601|27.7208| NULL|       C|\n",
      "|         34|       0|     2|Wheadon, Mr. Edwa...|  male|66.0|    0|    0|      C.A. 24579|   10.5| NULL|       S|\n",
      "|         35|       0|     1|Meyer, Mr. Edgar ...|  male|28.0|    1|    0|        PC 17604|82.1708| NULL|       C|\n",
      "|         36|       0|     1|Holverson, Mr. Al...|  male|42.0|    1|    0|          113789|   52.0| NULL|       S|\n",
      "|         41|       0|     3|Ahlin, Mrs. Johan...|female|40.0|    1|    0|            7546|  9.475| NULL|       S|\n",
      "|         42|       0|     2|Turpin, Mrs. Will...|female|27.0|    1|    0|           11668|   21.0| NULL|       S|\n",
      "+-----------+--------+------+--------------------+------+----+-----+-----+----------------+-------+-----+--------+\n",
      "only showing top 20 rows\n",
      "\n"
     ]
    }
   ],
   "source": [
    "df_parquet.filter(df_parquet[\"age\"] > 25).show()"
   ]
  },
  {
   "cell_type": "code",
   "execution_count": 40,
   "id": "be3b2658-4f04-4efa-900a-9810abb0e065",
   "metadata": {},
   "outputs": [
    {
     "name": "stdout",
     "output_type": "stream",
     "text": [
      "+-----------+--------+------+--------------------+------+----+-----+-----+----------------+-------+-----+--------+\n",
      "|PassengerId|Survived|Pclass|                Name|   Sex| Age|SibSp|Parch|          Ticket|   Fare|Cabin|Embarked|\n",
      "+-----------+--------+------+--------------------+------+----+-----+-----+----------------+-------+-----+--------+\n",
      "|          2|       1|     1|Cumings, Mrs. Joh...|female|38.0|    1|    0|        PC 17599|71.2833|  C85|       C|\n",
      "|          3|       1|     3|Heikkinen, Miss. ...|female|26.0|    0|    0|STON/O2. 3101282|  7.925| NULL|       S|\n",
      "|          4|       1|     1|Futrelle, Mrs. Ja...|female|35.0|    1|    0|          113803|   53.1| C123|       S|\n",
      "|          5|       0|     3|Allen, Mr. Willia...|  male|35.0|    0|    0|          373450|   8.05| NULL|       S|\n",
      "|          7|       0|     1|McCarthy, Mr. Tim...|  male|54.0|    0|    0|           17463|51.8625|  E46|       S|\n",
      "|          9|       1|     3|Johnson, Mrs. Osc...|female|27.0|    0|    2|          347742|11.1333| NULL|       S|\n",
      "|         12|       1|     1|Bonnell, Miss. El...|female|58.0|    0|    0|          113783|  26.55| C103|       S|\n",
      "|         14|       0|     3|Andersson, Mr. An...|  male|39.0|    1|    5|          347082| 31.275| NULL|       S|\n",
      "|         16|       1|     2|Hewlett, Mrs. (Ma...|female|55.0|    0|    0|          248706|   16.0| NULL|       S|\n",
      "|         19|       0|     3|Vander Planke, Mr...|female|31.0|    1|    0|          345763|   18.0| NULL|       S|\n",
      "|         21|       0|     2|Fynney, Mr. Joseph J|  male|35.0|    0|    0|          239865|   26.0| NULL|       S|\n",
      "|         22|       1|     2|Beesley, Mr. Lawr...|  male|34.0|    0|    0|          248698|   13.0|  D56|       S|\n",
      "|         24|       1|     1|Sloper, Mr. Willi...|  male|28.0|    0|    0|          113788|   35.5|   A6|       S|\n",
      "|         26|       1|     3|Asplund, Mrs. Car...|female|38.0|    1|    5|          347077|31.3875| NULL|       S|\n",
      "|         31|       0|     1|Uruchurtu, Don. M...|  male|40.0|    0|    0|        PC 17601|27.7208| NULL|       C|\n",
      "|         34|       0|     2|Wheadon, Mr. Edwa...|  male|66.0|    0|    0|      C.A. 24579|   10.5| NULL|       S|\n",
      "|         35|       0|     1|Meyer, Mr. Edgar ...|  male|28.0|    1|    0|        PC 17604|82.1708| NULL|       C|\n",
      "|         36|       0|     1|Holverson, Mr. Al...|  male|42.0|    1|    0|          113789|   52.0| NULL|       S|\n",
      "|         41|       0|     3|Ahlin, Mrs. Johan...|female|40.0|    1|    0|            7546|  9.475| NULL|       S|\n",
      "|         42|       0|     2|Turpin, Mrs. Will...|female|27.0|    1|    0|           11668|   21.0| NULL|       S|\n",
      "+-----------+--------+------+--------------------+------+----+-----+-----+----------------+-------+-----+--------+\n",
      "only showing top 20 rows\n",
      "\n"
     ]
    }
   ],
   "source": [
    "df_parquet.filter(\"age > 25\").show()"
   ]
  },
  {
   "cell_type": "code",
   "execution_count": 41,
   "id": "f56d0e7f-73a4-4dc3-b792-6eb6e2676cb2",
   "metadata": {},
   "outputs": [
    {
     "name": "stdout",
     "output_type": "stream",
     "text": [
      "+-----------+--------+------+--------------------+------+----+-----+-----+----------------+-------+-----+--------+\n",
      "|PassengerId|Survived|Pclass|                Name|   Sex| Age|SibSp|Parch|          Ticket|   Fare|Cabin|Embarked|\n",
      "+-----------+--------+------+--------------------+------+----+-----+-----+----------------+-------+-----+--------+\n",
      "|          2|       1|     1|Cumings, Mrs. Joh...|female|38.0|    1|    0|        PC 17599|71.2833|  C85|       C|\n",
      "|          3|       1|     3|Heikkinen, Miss. ...|female|26.0|    0|    0|STON/O2. 3101282|  7.925| NULL|       S|\n",
      "|          4|       1|     1|Futrelle, Mrs. Ja...|female|35.0|    1|    0|          113803|   53.1| C123|       S|\n",
      "|          5|       0|     3|Allen, Mr. Willia...|  male|35.0|    0|    0|          373450|   8.05| NULL|       S|\n",
      "|          7|       0|     1|McCarthy, Mr. Tim...|  male|54.0|    0|    0|           17463|51.8625|  E46|       S|\n",
      "|          9|       1|     3|Johnson, Mrs. Osc...|female|27.0|    0|    2|          347742|11.1333| NULL|       S|\n",
      "|         12|       1|     1|Bonnell, Miss. El...|female|58.0|    0|    0|          113783|  26.55| C103|       S|\n",
      "|         14|       0|     3|Andersson, Mr. An...|  male|39.0|    1|    5|          347082| 31.275| NULL|       S|\n",
      "|         16|       1|     2|Hewlett, Mrs. (Ma...|female|55.0|    0|    0|          248706|   16.0| NULL|       S|\n",
      "|         19|       0|     3|Vander Planke, Mr...|female|31.0|    1|    0|          345763|   18.0| NULL|       S|\n",
      "|         21|       0|     2|Fynney, Mr. Joseph J|  male|35.0|    0|    0|          239865|   26.0| NULL|       S|\n",
      "|         22|       1|     2|Beesley, Mr. Lawr...|  male|34.0|    0|    0|          248698|   13.0|  D56|       S|\n",
      "|         24|       1|     1|Sloper, Mr. Willi...|  male|28.0|    0|    0|          113788|   35.5|   A6|       S|\n",
      "|         26|       1|     3|Asplund, Mrs. Car...|female|38.0|    1|    5|          347077|31.3875| NULL|       S|\n",
      "|         31|       0|     1|Uruchurtu, Don. M...|  male|40.0|    0|    0|        PC 17601|27.7208| NULL|       C|\n",
      "|         34|       0|     2|Wheadon, Mr. Edwa...|  male|66.0|    0|    0|      C.A. 24579|   10.5| NULL|       S|\n",
      "|         35|       0|     1|Meyer, Mr. Edgar ...|  male|28.0|    1|    0|        PC 17604|82.1708| NULL|       C|\n",
      "|         36|       0|     1|Holverson, Mr. Al...|  male|42.0|    1|    0|          113789|   52.0| NULL|       S|\n",
      "|         41|       0|     3|Ahlin, Mrs. Johan...|female|40.0|    1|    0|            7546|  9.475| NULL|       S|\n",
      "|         42|       0|     2|Turpin, Mrs. Will...|female|27.0|    1|    0|           11668|   21.0| NULL|       S|\n",
      "+-----------+--------+------+--------------------+------+----+-----+-----+----------------+-------+-----+--------+\n",
      "only showing top 20 rows\n",
      "\n"
     ]
    }
   ],
   "source": [
    "df_parquet.filter(F.col(\"age\") > 25).show()"
   ]
  },
  {
   "cell_type": "code",
   "execution_count": 42,
   "id": "f9a2f83d-353d-4710-9054-09a6421524d5",
   "metadata": {},
   "outputs": [
    {
     "name": "stdout",
     "output_type": "stream",
     "text": [
      "+-----------+--------+------+--------------------+------+----+-----+-----+----------------+-------+-----+--------+\n",
      "|PassengerId|Survived|Pclass|                Name|   Sex| Age|SibSp|Parch|          Ticket|   Fare|Cabin|Embarked|\n",
      "+-----------+--------+------+--------------------+------+----+-----+-----+----------------+-------+-----+--------+\n",
      "|          3|       1|     3|Heikkinen, Miss. ...|female|26.0|    0|    0|STON/O2. 3101282|  7.925| NULL|       S|\n",
      "|          9|       1|     3|Johnson, Mrs. Osc...|female|27.0|    0|    2|          347742|11.1333| NULL|       S|\n",
      "|         24|       1|     1|Sloper, Mr. Willi...|  male|28.0|    0|    0|          113788|   35.5|   A6|       S|\n",
      "|         35|       0|     1|Meyer, Mr. Edgar ...|  male|28.0|    1|    0|        PC 17604|82.1708| NULL|       C|\n",
      "|         42|       0|     2|Turpin, Mrs. Will...|female|27.0|    1|    0|           11668|   21.0| NULL|       S|\n",
      "|         54|       1|     2|Faunthorpe, Mrs. ...|female|29.0|    1|    0|            2926|   26.0| NULL|       S|\n",
      "|         58|       0|     3| Novel, Mr. Mansouer|  male|28.5|    0|    0|            2697| 7.2292| NULL|       C|\n",
      "|         67|       1|     2|Nye, Mrs. (Elizab...|female|29.0|    0|    0|      C.A. 29395|   10.5|  F33|       S|\n",
      "|         70|       0|     3|   Kink, Mr. Vincenz|  male|26.0|    2|    0|          315151| 8.6625| NULL|       S|\n",
      "|         74|       0|     3|Chronopoulos, Mr....|  male|26.0|    1|    0|            2680|14.4542| NULL|       C|\n",
      "|         82|       1|     3|Sheerlinck, Mr. J...|  male|29.0|    0|    0|          345779|    9.5| NULL|       S|\n",
      "|         84|       0|     1|Carrau, Mr. Franc...|  male|28.0|    0|    0|          113059|   47.1| NULL|       S|\n",
      "|         91|       0|     3|Christmann, Mr. Emil|  male|29.0|    0|    0|          343276|   8.05| NULL|       S|\n",
      "|         94|       0|     3|Dean, Mr. Bertram...|  male|26.0|    1|    2|       C.A. 2315| 20.575| NULL|       S|\n",
      "|        101|       0|     3|Petranec, Miss. M...|female|28.0|    0|    0|          349245| 7.8958| NULL|       S|\n",
      "|        106|       0|     3|Mionoff, Mr. Stoy...|  male|28.0|    0|    0|          349207| 7.8958| NULL|       S|\n",
      "|        118|       0|     2|Turpin, Mr. Willi...|  male|29.0|    1|    0|           11668|   21.0| NULL|       S|\n",
      "|        134|       1|     2|Weisz, Mrs. Leopo...|female|29.0|    1|    0|          228414|   26.0| NULL|       S|\n",
      "|        147|       1|     3|Andersson, Mr. Au...|  male|27.0|    0|    0|          350043| 7.7958| NULL|       S|\n",
      "|        163|       0|     3|Bengtsson, Mr. Jo...|  male|26.0|    0|    0|          347068|  7.775| NULL|       S|\n",
      "+-----------+--------+------+--------------------+------+----+-----+-----+----------------+-------+-----+--------+\n",
      "only showing top 20 rows\n",
      "\n"
     ]
    }
   ],
   "source": [
    "df_parquet.filter((F.col(\"age\") > 25) & (F.col(\"age\") < 30)).show()"
   ]
  },
  {
   "cell_type": "code",
   "execution_count": 43,
   "id": "07af50ed-ffd0-4b4b-9a25-e2e654d806d0",
   "metadata": {},
   "outputs": [
    {
     "name": "stdout",
     "output_type": "stream",
     "text": [
      "+----+-----+\n",
      "| age|count|\n",
      "+----+-----+\n",
      "| 8.0|    4|\n",
      "|70.0|    2|\n",
      "| 7.0|    3|\n",
      "|20.5|    1|\n",
      "|49.0|    6|\n",
      "|29.0|   20|\n",
      "|40.5|    2|\n",
      "|64.0|    2|\n",
      "|47.0|    9|\n",
      "|42.0|   13|\n",
      "|24.5|    1|\n",
      "|44.0|    9|\n",
      "|35.0|   18|\n",
      "|NULL|  177|\n",
      "|62.0|    4|\n",
      "|18.0|   26|\n",
      "|80.0|    1|\n",
      "|34.5|    1|\n",
      "|39.0|   14|\n",
      "| 1.0|    7|\n",
      "+----+-----+\n",
      "only showing top 20 rows\n",
      "\n"
     ]
    }
   ],
   "source": [
    "df_grouped = df_parquet.groupBy(\"age\").count()\n",
    "df_grouped.show()"
   ]
  },
  {
   "cell_type": "code",
   "execution_count": 44,
   "id": "eeb230e8-1421-4b77-85af-db0128eed083",
   "metadata": {},
   "outputs": [
    {
     "data": {
      "text/plain": [
       "GroupedData[grouping expressions: [age], value: [PassengerId: bigint, Survived: bigint ... 10 more fields], type: GroupBy]"
      ]
     },
     "execution_count": 44,
     "metadata": {},
     "output_type": "execute_result"
    }
   ],
   "source": [
    "df_parquet.groupBy(\"age\")"
   ]
  },
  {
   "cell_type": "code",
   "execution_count": 45,
   "id": "58dc96e7-b622-49bc-a449-f3cdb3030cbc",
   "metadata": {},
   "outputs": [
    {
     "name": "stdout",
     "output_type": "stream",
     "text": [
      "+-----------------+\n",
      "|         avg(age)|\n",
      "+-----------------+\n",
      "|29.69911764705882|\n",
      "+-----------------+\n",
      "\n"
     ]
    }
   ],
   "source": [
    "df_parquet.agg(F.avg(\"age\")).show()"
   ]
  },
  {
   "cell_type": "code",
   "execution_count": 46,
   "id": "1ef75a61-f96a-4086-a3b8-7d11a701b1b8",
   "metadata": {},
   "outputs": [
    {
     "name": "stdout",
     "output_type": "stream",
     "text": [
      "+--------+\n",
      "|min(age)|\n",
      "+--------+\n",
      "|    0.42|\n",
      "+--------+\n",
      "\n"
     ]
    }
   ],
   "source": [
    "df_parquet.agg(F.min(\"age\")).show()"
   ]
  },
  {
   "cell_type": "code",
   "execution_count": 47,
   "id": "94d3e764-342d-47e2-8678-baf5d907f1cf",
   "metadata": {},
   "outputs": [
    {
     "name": "stdout",
     "output_type": "stream",
     "text": [
      "+--------+\n",
      "|max(age)|\n",
      "+--------+\n",
      "|    80.0|\n",
      "+--------+\n",
      "\n"
     ]
    }
   ],
   "source": [
    "df_parquet.agg(F.max(\"age\")).show()"
   ]
  },
  {
   "cell_type": "code",
   "execution_count": 48,
   "id": "7ae96895-56f8-402f-81a3-d71d8f08d27a",
   "metadata": {},
   "outputs": [
    {
     "name": "stdout",
     "output_type": "stream",
     "text": [
      "+-----------+--------+------+--------------------+------+----+-----+-----+----------------+-------+-----+--------+---------------+\n",
      "|PassengerId|Survived|Pclass|                Name|   Sex| Age|SibSp|Parch|          Ticket|   Fare|Cabin|Embarked|age_in_10_years|\n",
      "+-----------+--------+------+--------------------+------+----+-----+-----+----------------+-------+-----+--------+---------------+\n",
      "|          1|       0|     3|Braund, Mr. Owen ...|  male|22.0|    1|    0|       A/5 21171|   7.25| NULL|       S|           32.0|\n",
      "|          2|       1|     1|Cumings, Mrs. Joh...|female|38.0|    1|    0|        PC 17599|71.2833|  C85|       C|           48.0|\n",
      "|          3|       1|     3|Heikkinen, Miss. ...|female|26.0|    0|    0|STON/O2. 3101282|  7.925| NULL|       S|           36.0|\n",
      "|          4|       1|     1|Futrelle, Mrs. Ja...|female|35.0|    1|    0|          113803|   53.1| C123|       S|           45.0|\n",
      "|          5|       0|     3|Allen, Mr. Willia...|  male|35.0|    0|    0|          373450|   8.05| NULL|       S|           45.0|\n",
      "|          6|       0|     3|    Moran, Mr. James|  male|NULL|    0|    0|          330877| 8.4583| NULL|       Q|           NULL|\n",
      "|          7|       0|     1|McCarthy, Mr. Tim...|  male|54.0|    0|    0|           17463|51.8625|  E46|       S|           64.0|\n",
      "|          8|       0|     3|Palsson, Master. ...|  male| 2.0|    3|    1|          349909| 21.075| NULL|       S|           12.0|\n",
      "|          9|       1|     3|Johnson, Mrs. Osc...|female|27.0|    0|    2|          347742|11.1333| NULL|       S|           37.0|\n",
      "|         10|       1|     2|Nasser, Mrs. Nich...|female|14.0|    1|    0|          237736|30.0708| NULL|       C|           24.0|\n",
      "|         11|       1|     3|Sandstrom, Miss. ...|female| 4.0|    1|    1|         PP 9549|   16.7|   G6|       S|           14.0|\n",
      "|         12|       1|     1|Bonnell, Miss. El...|female|58.0|    0|    0|          113783|  26.55| C103|       S|           68.0|\n",
      "|         13|       0|     3|Saundercock, Mr. ...|  male|20.0|    0|    0|       A/5. 2151|   8.05| NULL|       S|           30.0|\n",
      "|         14|       0|     3|Andersson, Mr. An...|  male|39.0|    1|    5|          347082| 31.275| NULL|       S|           49.0|\n",
      "|         15|       0|     3|Vestrom, Miss. Hu...|female|14.0|    0|    0|          350406| 7.8542| NULL|       S|           24.0|\n",
      "|         16|       1|     2|Hewlett, Mrs. (Ma...|female|55.0|    0|    0|          248706|   16.0| NULL|       S|           65.0|\n",
      "|         17|       0|     3|Rice, Master. Eugene|  male| 2.0|    4|    1|          382652| 29.125| NULL|       Q|           12.0|\n",
      "|         18|       1|     2|Williams, Mr. Cha...|  male|NULL|    0|    0|          244373|   13.0| NULL|       S|           NULL|\n",
      "|         19|       0|     3|Vander Planke, Mr...|female|31.0|    1|    0|          345763|   18.0| NULL|       S|           41.0|\n",
      "|         20|       1|     3|Masselmani, Mrs. ...|female|NULL|    0|    0|            2649|  7.225| NULL|       C|           NULL|\n",
      "+-----------+--------+------+--------------------+------+----+-----+-----+----------------+-------+-----+--------+---------------+\n",
      "only showing top 20 rows\n",
      "\n"
     ]
    }
   ],
   "source": [
    "df_parquet.withColumn(\"age_in_10_years\", F.col(\"age\") + 10).show()"
   ]
  },
  {
   "cell_type": "code",
   "execution_count": 49,
   "id": "42064853-d1a7-44de-8926-57d5ceb6c8d6",
   "metadata": {},
   "outputs": [
    {
     "name": "stdout",
     "output_type": "stream",
     "text": [
      "+----+---+-------+\n",
      "|name|age|country|\n",
      "+----+---+-------+\n",
      "| Doe| 22| Canada|\n",
      "|Jane| 25|     UK|\n",
      "|John| 30|    USA|\n",
      "+----+---+-------+\n",
      "\n"
     ]
    }
   ],
   "source": [
    "data = [(\"John\", 30), (\"Jane\", 25), (\"Doe\", 22)]\n",
    "df = spark.createDataFrame(data, [\"name\", \"age\"])\n",
    "\n",
    "data2 = [(\"John\", \"USA\"), (\"Jane\", \"UK\"), (\"Doe\", \"Canada\")]\n",
    "df2 = spark.createDataFrame(data2, [\"name\", \"country\"])\n",
    "\n",
    "df_joined = df.join(df2, on=\"name\", how=\"inner\")\n",
    "df_joined.show()"
   ]
  },
  {
   "cell_type": "code",
   "execution_count": 50,
   "id": "a7c66a56-39ec-40a0-885c-6c64c1ebc3cc",
   "metadata": {},
   "outputs": [
    {
     "name": "stdout",
     "output_type": "stream",
     "text": [
      "+-----------+--------+------+--------------------+------+----+-----+-----+---------------+--------+-----+--------+\n",
      "|PassengerId|Survived|Pclass|                Name|   Sex| Age|SibSp|Parch|         Ticket|    Fare|Cabin|Embarked|\n",
      "+-----------+--------+------+--------------------+------+----+-----+-----+---------------+--------+-----+--------+\n",
      "|         88|       0|     3|Slocovski, Mr. Se...|  male|NULL|    0|    0|SOTON/OQ 392086|    8.05| NULL|       S|\n",
      "|        199|       1|     3|Madigan, Miss. Ma...|female|NULL|    0|    0|         370370|    7.75| NULL|       Q|\n",
      "|         96|       0|     3|Shorney, Mr. Char...|  male|NULL|    0|    0|         374910|    8.05| NULL|       S|\n",
      "|         83|       1|     3|McDermott, Miss. ...|female|NULL|    0|    0|         330932|  7.7875| NULL|       Q|\n",
      "|        102|       0|     3|Petroff, Mr. Past...|  male|NULL|    0|    0|         349215|  7.8958| NULL|       S|\n",
      "|         46|       0|     3|Rogers, Mr. Willi...|  male|NULL|    0|    0|S.C./A.4. 23567|    8.05| NULL|       S|\n",
      "|        108|       1|     3|Moss, Mr. Albert ...|  male|NULL|    0|    0|         312991|   7.775| NULL|       S|\n",
      "|         43|       0|     3| Kraeff, Mr. Theodor|  male|NULL|    0|    0|         349253|  7.8958| NULL|       C|\n",
      "|        110|       1|     3| Moran, Miss. Bertha|female|NULL|    1|    0|         371110|   24.15| NULL|       Q|\n",
      "|         29|       1|     3|O'Dwyer, Miss. El...|female|NULL|    0|    0|         330959|  7.8792| NULL|       Q|\n",
      "|        122|       0|     3|Moore, Mr. Leonar...|  male|NULL|    0|    0|      A4. 54510|    8.05| NULL|       S|\n",
      "|         32|       1|     1|Spencer, Mrs. Wil...|female|NULL|    1|    0|       PC 17569|146.5208|  B78|       C|\n",
      "|        127|       0|     3| McMahon, Mr. Martin|  male|NULL|    0|    0|         370372|    7.75| NULL|       Q|\n",
      "|         18|       1|     2|Williams, Mr. Cha...|  male|NULL|    0|    0|         244373|    13.0| NULL|       S|\n",
      "|        197|       0|     3| Mernagh, Mr. Robert|  male|NULL|    0|    0|         368703|    7.75| NULL|       Q|\n",
      "|        129|       1|     3|   Peter, Miss. Anna|female|NULL|    1|    1|           2668| 22.3583|F E69|       C|\n",
      "|         48|       1|     3|O'Driscoll, Miss....|female|NULL|    0|    0|          14311|    7.75| NULL|       Q|\n",
      "|        141|       0|     3|Boulos, Mrs. Jose...|female|NULL|    0|    2|           2678| 15.2458| NULL|       C|\n",
      "|         56|       1|     1|   Woolner, Mr. Hugh|  male|NULL|    0|    0|          19947|    35.5|  C52|       S|\n",
      "|        155|       0|     3|Olsen, Mr. Ole Ma...|  male|NULL|    0|    0|      Fa 265302|  7.3125| NULL|       S|\n",
      "+-----------+--------+------+--------------------+------+----+-----+-----+---------------+--------+-----+--------+\n",
      "only showing top 20 rows\n",
      "\n",
      "+-----------+--------+------+--------------------+------+----+-----+-----+-----------+-------+-----------+--------+\n",
      "|PassengerId|Survived|Pclass|                Name|   Sex| Age|SibSp|Parch|     Ticket|   Fare|      Cabin|Embarked|\n",
      "+-----------+--------+------+--------------------+------+----+-----+-----+-----------+-------+-----------+--------+\n",
      "|        631|       1|     1|Barkworth, Mr. Al...|  male|80.0|    0|    0|      27042|   30.0|        A23|       S|\n",
      "|        852|       0|     3| Svensson, Mr. Johan|  male|74.0|    0|    0|     347060|  7.775|       NULL|       S|\n",
      "|         97|       0|     1|Goldschmidt, Mr. ...|  male|71.0|    0|    0|   PC 17754|34.6542|         A5|       C|\n",
      "|        494|       0|     1|Artagaveytia, Mr....|  male|71.0|    0|    0|   PC 17609|49.5042|       NULL|       C|\n",
      "|        117|       0|     3|Connors, Mr. Patrick|  male|70.5|    0|    0|     370369|   7.75|       NULL|       Q|\n",
      "|        673|       0|     2|Mitchell, Mr. Hen...|  male|70.0|    0|    0| C.A. 24580|   10.5|       NULL|       S|\n",
      "|        746|       0|     1|Crosby, Capt. Edw...|  male|70.0|    1|    1|  WE/P 5735|   71.0|        B22|       S|\n",
      "|         34|       0|     2|Wheadon, Mr. Edwa...|  male|66.0|    0|    0| C.A. 24579|   10.5|       NULL|       S|\n",
      "|        457|       0|     1|Millet, Mr. Franc...|  male|65.0|    0|    0|      13509|  26.55|        E38|       S|\n",
      "|        281|       0|     3|    Duane, Mr. Frank|  male|65.0|    0|    0|     336439|   7.75|       NULL|       Q|\n",
      "|         55|       0|     1|Ostby, Mr. Engelh...|  male|65.0|    0|    1|     113509|61.9792|        B30|       C|\n",
      "|        546|       0|     1|Nicholson, Mr. Ar...|  male|64.0|    0|    0|        693|   26.0|       NULL|       S|\n",
      "|        439|       0|     1|   Fortune, Mr. Mark|  male|64.0|    1|    4|      19950|  263.0|C23 C25 C27|       S|\n",
      "|        484|       1|     3|Turkula, Mrs. (He...|female|63.0|    0|    0|       4134| 9.5875|       NULL|       S|\n",
      "|        276|       1|     1|Andrews, Miss. Ko...|female|63.0|    1|    0|      13502|77.9583|         D7|       S|\n",
      "|        556|       0|     1|  Wright, Mr. George|  male|62.0|    0|    0|     113807|  26.55|       NULL|       S|\n",
      "|        253|       0|     1|Stead, Mr. Willia...|  male|62.0|    0|    0|     113514|  26.55|        C87|       S|\n",
      "|        830|       1|     1|Stone, Mrs. Georg...|female|62.0|    0|    0|     113572|   80.0|        B28|    NULL|\n",
      "|        571|       1|     2|  Harris, Mr. George|  male|62.0|    0|    0|S.W./PP 752|   10.5|       NULL|       S|\n",
      "|        327|       0|     3|Nysveen, Mr. Joha...|  male|61.0|    0|    0|     345364| 6.2375|       NULL|       S|\n",
      "+-----------+--------+------+--------------------+------+----+-----+-----+-----------+-------+-----------+--------+\n",
      "only showing top 20 rows\n",
      "\n"
     ]
    }
   ],
   "source": [
    "df_parquet.orderBy(\"age\").show()\n",
    "df_parquet.orderBy(F.col(\"age\").desc()).show()"
   ]
  },
  {
   "cell_type": "code",
   "execution_count": 51,
   "id": "b2f674d4-910c-4564-a43f-5f5b9a3d0022",
   "metadata": {},
   "outputs": [
    {
     "name": "stdout",
     "output_type": "stream",
     "text": [
      "+-----------+--------+------+--------------------+------+-----+-----+----------------+-------+-----+--------+\n",
      "|PassengerId|Survived|Pclass|                Name|   Sex|SibSp|Parch|          Ticket|   Fare|Cabin|Embarked|\n",
      "+-----------+--------+------+--------------------+------+-----+-----+----------------+-------+-----+--------+\n",
      "|          1|       0|     3|Braund, Mr. Owen ...|  male|    1|    0|       A/5 21171|   7.25| NULL|       S|\n",
      "|          2|       1|     1|Cumings, Mrs. Joh...|female|    1|    0|        PC 17599|71.2833|  C85|       C|\n",
      "|          3|       1|     3|Heikkinen, Miss. ...|female|    0|    0|STON/O2. 3101282|  7.925| NULL|       S|\n",
      "|          4|       1|     1|Futrelle, Mrs. Ja...|female|    1|    0|          113803|   53.1| C123|       S|\n",
      "|          5|       0|     3|Allen, Mr. Willia...|  male|    0|    0|          373450|   8.05| NULL|       S|\n",
      "|          6|       0|     3|    Moran, Mr. James|  male|    0|    0|          330877| 8.4583| NULL|       Q|\n",
      "|          7|       0|     1|McCarthy, Mr. Tim...|  male|    0|    0|           17463|51.8625|  E46|       S|\n",
      "|          8|       0|     3|Palsson, Master. ...|  male|    3|    1|          349909| 21.075| NULL|       S|\n",
      "|          9|       1|     3|Johnson, Mrs. Osc...|female|    0|    2|          347742|11.1333| NULL|       S|\n",
      "|         10|       1|     2|Nasser, Mrs. Nich...|female|    1|    0|          237736|30.0708| NULL|       C|\n",
      "|         11|       1|     3|Sandstrom, Miss. ...|female|    1|    1|         PP 9549|   16.7|   G6|       S|\n",
      "|         12|       1|     1|Bonnell, Miss. El...|female|    0|    0|          113783|  26.55| C103|       S|\n",
      "|         13|       0|     3|Saundercock, Mr. ...|  male|    0|    0|       A/5. 2151|   8.05| NULL|       S|\n",
      "|         14|       0|     3|Andersson, Mr. An...|  male|    1|    5|          347082| 31.275| NULL|       S|\n",
      "|         15|       0|     3|Vestrom, Miss. Hu...|female|    0|    0|          350406| 7.8542| NULL|       S|\n",
      "|         16|       1|     2|Hewlett, Mrs. (Ma...|female|    0|    0|          248706|   16.0| NULL|       S|\n",
      "|         17|       0|     3|Rice, Master. Eugene|  male|    4|    1|          382652| 29.125| NULL|       Q|\n",
      "|         18|       1|     2|Williams, Mr. Cha...|  male|    0|    0|          244373|   13.0| NULL|       S|\n",
      "|         19|       0|     3|Vander Planke, Mr...|female|    1|    0|          345763|   18.0| NULL|       S|\n",
      "|         20|       1|     3|Masselmani, Mrs. ...|female|    0|    0|            2649|  7.225| NULL|       C|\n",
      "+-----------+--------+------+--------------------+------+-----+-----+----------------+-------+-----+--------+\n",
      "only showing top 20 rows\n",
      "\n"
     ]
    }
   ],
   "source": [
    "df_parquet.drop(\"age\").show()"
   ]
  },
  {
   "cell_type": "code",
   "execution_count": 52,
   "id": "38550c04-d830-4972-af1f-d0907ada72fb",
   "metadata": {},
   "outputs": [
    {
     "name": "stdout",
     "output_type": "stream",
     "text": [
      "+-----------+--------+------+--------------------+------+----+-----+-----+----------------+-------+-----+--------+\n",
      "|PassengerId|Survived|Pclass|                Name|   Sex| Age|SibSp|Parch|          Ticket|   Fare|Cabin|Embarked|\n",
      "+-----------+--------+------+--------------------+------+----+-----+-----+----------------+-------+-----+--------+\n",
      "|          1|       0|     3|Braund, Mr. Owen ...|  male|22.0|    1|    0|       A/5 21171|   7.25| NULL|       S|\n",
      "|          2|       1|     1|Cumings, Mrs. Joh...|female|38.0|    1|    0|        PC 17599|71.2833|  C85|       C|\n",
      "|          3|       1|     3|Heikkinen, Miss. ...|female|26.0|    0|    0|STON/O2. 3101282|  7.925| NULL|       S|\n",
      "|          4|       1|     1|Futrelle, Mrs. Ja...|female|35.0|    1|    0|          113803|   53.1| C123|       S|\n",
      "|          5|       0|     3|Allen, Mr. Willia...|  male|35.0|    0|    0|          373450|   8.05| NULL|       S|\n",
      "|          6|       0|     3|    Moran, Mr. James|  male|NULL|    0|    0|          330877| 8.4583| NULL|       Q|\n",
      "|          7|       0|     1|McCarthy, Mr. Tim...|  male|54.0|    0|    0|           17463|51.8625|  E46|       S|\n",
      "|          8|       0|     3|Palsson, Master. ...|  male| 2.0|    3|    1|          349909| 21.075| NULL|       S|\n",
      "|          9|       1|     3|Johnson, Mrs. Osc...|female|27.0|    0|    2|          347742|11.1333| NULL|       S|\n",
      "|         10|       1|     2|Nasser, Mrs. Nich...|female|14.0|    1|    0|          237736|30.0708| NULL|       C|\n",
      "|         11|       1|     3|Sandstrom, Miss. ...|female| 4.0|    1|    1|         PP 9549|   16.7|   G6|       S|\n",
      "|         12|       1|     1|Bonnell, Miss. El...|female|58.0|    0|    0|          113783|  26.55| C103|       S|\n",
      "|         13|       0|     3|Saundercock, Mr. ...|  male|20.0|    0|    0|       A/5. 2151|   8.05| NULL|       S|\n",
      "|         14|       0|     3|Andersson, Mr. An...|  male|39.0|    1|    5|          347082| 31.275| NULL|       S|\n",
      "|         15|       0|     3|Vestrom, Miss. Hu...|female|14.0|    0|    0|          350406| 7.8542| NULL|       S|\n",
      "|         16|       1|     2|Hewlett, Mrs. (Ma...|female|55.0|    0|    0|          248706|   16.0| NULL|       S|\n",
      "|         17|       0|     3|Rice, Master. Eugene|  male| 2.0|    4|    1|          382652| 29.125| NULL|       Q|\n",
      "|         18|       1|     2|Williams, Mr. Cha...|  male|NULL|    0|    0|          244373|   13.0| NULL|       S|\n",
      "|         19|       0|     3|Vander Planke, Mr...|female|31.0|    1|    0|          345763|   18.0| NULL|       S|\n",
      "|         20|       1|     3|Masselmani, Mrs. ...|female|NULL|    0|    0|            2649|  7.225| NULL|       C|\n",
      "+-----------+--------+------+--------------------+------+----+-----+-----+----------------+-------+-----+--------+\n",
      "only showing top 20 rows\n",
      "\n"
     ]
    }
   ],
   "source": [
    "df_parquet.show()"
   ]
  },
  {
   "cell_type": "code",
   "execution_count": 53,
   "id": "074e054e-c72e-41e9-8d53-d05992dccbdc",
   "metadata": {},
   "outputs": [
    {
     "name": "stdout",
     "output_type": "stream",
     "text": [
      "+-----------+--------+------+--------------------+------+----+-----+-----+--------+--------+-----------+--------+\n",
      "|PassengerId|Survived|Pclass|                Name|   Sex| Age|SibSp|Parch|  Ticket|    Fare|      Cabin|Embarked|\n",
      "+-----------+--------+------+--------------------+------+----+-----+-----+--------+--------+-----------+--------+\n",
      "|        680|       1|     1|Cardeza, Mr. Thom...|  male|36.0|    0|    1|PC 17755|512.3292|B51 B53 B55|       C|\n",
      "|        700|       0|     3|Humblen, Mr. Adol...|  male|42.0|    0|    0|  348121|    7.65|      F G63|       S|\n",
      "|        873|       0|     1|Carlsson, Mr. Fra...|  male|33.0|    0|    0|     695|     5.0|B51 B53 B55|       S|\n",
      "|        310|       1|     1|Francatelli, Miss...|female|30.0|    0|    0|PC 17485| 56.9292|        E36|       C|\n",
      "|        436|       1|     1|Carter, Miss. Luc...|female|14.0|    1|    2|  113760|   120.0|    B96 B98|       S|\n",
      "|        888|       1|     1|Graham, Miss. Mar...|female|19.0|    0|    0|  112053|    30.0|        B42|       S|\n",
      "|         76|       0|     3|Moen, Mr. Sigurd ...|  male|25.0|    0|    0|  348123|    7.65|      F G73|       S|\n",
      "|        810|       1|     1|Chambers, Mrs. No...|female|33.0|    1|    0|  113806|    53.1|         E8|       S|\n",
      "|        691|       1|     1|Dick, Mr. Albert ...|  male|31.0|    1|    0|   17474|    57.0|        B20|       S|\n",
      "|        138|       0|     1|Futrelle, Mr. Jac...|  male|37.0|    1|    0|  113803|    53.1|       C123|       S|\n",
      "|        210|       1|     1|    Blank, Mr. Henry|  male|40.0|    0|    0|  112277|    31.0|        A31|       C|\n",
      "|        610|       1|     1|Shutes, Miss. Eli...|female|40.0|    0|    0|PC 17582|153.4625|       C125|       S|\n",
      "|        766|       1|     1|Hogeboom, Mrs. Jo...|female|51.0|    1|    0|   13502| 77.9583|        D11|       S|\n",
      "|        880|       1|     1|Potter, Mrs. Thom...|female|56.0|    0|    1|   11767| 83.1583|        C50|       C|\n",
      "|         12|       1|     1|Bonnell, Miss. El...|female|58.0|    0|    0|  113783|   26.55|       C103|       S|\n",
      "|        328|       1|     2|Ball, Mrs. (Ada E...|female|36.0|    0|    0|   28551|    13.0|          D|       S|\n",
      "|        578|       1|     1|Silvey, Mrs. Will...|female|39.0|    1|    0|   13507|    55.9|        E44|       S|\n",
      "|         22|       1|     2|Beesley, Mr. Lawr...|  male|34.0|    0|    0|  248698|    13.0|        D56|       S|\n",
      "|        119|       0|     1|Baxter, Mr. Quigg...|  male|24.0|    0|    1|PC 17558|247.5208|    B58 B60|       C|\n",
      "|        836|       1|     1|Compton, Miss. Sa...|female|39.0|    1|    1|PC 17756| 83.1583|        E49|       C|\n",
      "+-----------+--------+------+--------------------+------+----+-----+-----+--------+--------+-----------+--------+\n",
      "only showing top 20 rows\n",
      "\n"
     ]
    }
   ],
   "source": [
    "df_parquet.distinct().show()"
   ]
  },
  {
   "cell_type": "code",
   "execution_count": 54,
   "id": "5fe06ea6-a3b2-4a9e-abf0-2f0c1ba3cb58",
   "metadata": {},
   "outputs": [
    {
     "name": "stdout",
     "output_type": "stream",
     "text": [
      "+-----------+--------+------+--------------------+------+----+-----+-----+--------+--------+-----------+--------+\n",
      "|PassengerId|Survived|Pclass|                Name|   Sex| Age|SibSp|Parch|  Ticket|    Fare|      Cabin|Embarked|\n",
      "+-----------+--------+------+--------------------+------+----+-----+-----+--------+--------+-----------+--------+\n",
      "|        680|       1|     1|Cardeza, Mr. Thom...|  male|36.0|    0|    1|PC 17755|512.3292|B51 B53 B55|       C|\n",
      "|        700|       0|     3|Humblen, Mr. Adol...|  male|42.0|    0|    0|  348121|    7.65|      F G63|       S|\n",
      "|        873|       0|     1|Carlsson, Mr. Fra...|  male|33.0|    0|    0|     695|     5.0|B51 B53 B55|       S|\n",
      "|        310|       1|     1|Francatelli, Miss...|female|30.0|    0|    0|PC 17485| 56.9292|        E36|       C|\n",
      "|        436|       1|     1|Carter, Miss. Luc...|female|14.0|    1|    2|  113760|   120.0|    B96 B98|       S|\n",
      "|        888|       1|     1|Graham, Miss. Mar...|female|19.0|    0|    0|  112053|    30.0|        B42|       S|\n",
      "|         76|       0|     3|Moen, Mr. Sigurd ...|  male|25.0|    0|    0|  348123|    7.65|      F G73|       S|\n",
      "|        810|       1|     1|Chambers, Mrs. No...|female|33.0|    1|    0|  113806|    53.1|         E8|       S|\n",
      "|        691|       1|     1|Dick, Mr. Albert ...|  male|31.0|    1|    0|   17474|    57.0|        B20|       S|\n",
      "|        138|       0|     1|Futrelle, Mr. Jac...|  male|37.0|    1|    0|  113803|    53.1|       C123|       S|\n",
      "|        210|       1|     1|    Blank, Mr. Henry|  male|40.0|    0|    0|  112277|    31.0|        A31|       C|\n",
      "|        610|       1|     1|Shutes, Miss. Eli...|female|40.0|    0|    0|PC 17582|153.4625|       C125|       S|\n",
      "|        766|       1|     1|Hogeboom, Mrs. Jo...|female|51.0|    1|    0|   13502| 77.9583|        D11|       S|\n",
      "|        880|       1|     1|Potter, Mrs. Thom...|female|56.0|    0|    1|   11767| 83.1583|        C50|       C|\n",
      "|         12|       1|     1|Bonnell, Miss. El...|female|58.0|    0|    0|  113783|   26.55|       C103|       S|\n",
      "|        328|       1|     2|Ball, Mrs. (Ada E...|female|36.0|    0|    0|   28551|    13.0|          D|       S|\n",
      "|        578|       1|     1|Silvey, Mrs. Will...|female|39.0|    1|    0|   13507|    55.9|        E44|       S|\n",
      "|         22|       1|     2|Beesley, Mr. Lawr...|  male|34.0|    0|    0|  248698|    13.0|        D56|       S|\n",
      "|        119|       0|     1|Baxter, Mr. Quigg...|  male|24.0|    0|    1|PC 17558|247.5208|    B58 B60|       C|\n",
      "|        836|       1|     1|Compton, Miss. Sa...|female|39.0|    1|    1|PC 17756| 83.1583|        E49|       C|\n",
      "+-----------+--------+------+--------------------+------+----+-----+-----+--------+--------+-----------+--------+\n",
      "only showing top 20 rows\n",
      "\n"
     ]
    }
   ],
   "source": [
    "df_parquet.dropDuplicates().show()"
   ]
  },
  {
   "cell_type": "code",
   "execution_count": 55,
   "id": "cf441b24-e31e-4fdd-bca3-8671ea0db383",
   "metadata": {},
   "outputs": [
    {
     "name": "stdout",
     "output_type": "stream",
     "text": [
      "+-----------+--------+------+--------------------+------+----+-----+-----+----------+-------+-------+--------+\n",
      "|PassengerId|Survived|Pclass|                Name|   Sex| Age|SibSp|Parch|    Ticket|   Fare|  Cabin|Embarked|\n",
      "+-----------+--------+------+--------------------+------+----+-----+-----+----------+-------+-------+--------+\n",
      "|          6|       0|     3|    Moran, Mr. James|  male|NULL|    0|    0|    330877| 8.4583|   NULL|       Q|\n",
      "|        804|       1|     3|Thomas, Master. A...|  male|0.42|    0|    1|      2625| 8.5167|   NULL|       C|\n",
      "|        756|       1|     2|Hamalainen, Maste...|  male|0.67|    1|    1|    250649|   14.5|   NULL|       S|\n",
      "|        470|       1|     3|Baclini, Miss. He...|female|0.75|    2|    1|      2666|19.2583|   NULL|       C|\n",
      "|         79|       1|     2|Caldwell, Master....|  male|0.83|    0|    2|    248738|   29.0|   NULL|       S|\n",
      "|        306|       1|     1|Allison, Master. ...|  male|0.92|    1|    2|    113781| 151.55|C22 C26|       S|\n",
      "|        184|       1|     2|Becker, Master. R...|  male| 1.0|    2|    1|    230136|   39.0|     F4|       S|\n",
      "|        206|       0|     3|Strom, Miss. Telm...|female| 2.0|    0|    1|    347054|10.4625|     G6|       S|\n",
      "|        194|       1|     2|Navratil, Master....|  male| 3.0|    1|    1|    230080|   26.0|     F2|       S|\n",
      "|        185|       1|     3|Kink-Heilmann, Mi...|female| 4.0|    0|    2|    315153| 22.025|   NULL|       S|\n",
      "|        234|       1|     3|Asplund, Miss. Li...|female| 5.0|    4|    2|    347077|31.3875|   NULL|       S|\n",
      "|        721|       1|     2|Harper, Miss. Ann...|female| 6.0|    0|    1|    248727|   33.0|   NULL|       S|\n",
      "|         51|       0|     3|Panula, Master. J...|  male| 7.0|    4|    1|   3101295|39.6875|   NULL|       S|\n",
      "|        238|       1|     2|Collyer, Miss. Ma...|female| 8.0|    0|    2|C.A. 31921|  26.25|   NULL|       S|\n",
      "|        183|       0|     3|Asplund, Master. ...|  male| 9.0|    4|    2|    347077|31.3875|   NULL|       S|\n",
      "|        420|       0|     3|Van Impe, Miss. C...|female|10.0|    0|    2|    345773|  24.15|   NULL|       S|\n",
      "|         60|       0|     3|Goodwin, Master. ...|  male|11.0|    5|    2|   CA 2144|   46.9|   NULL|       S|\n",
      "|        126|       1|     3|Nicola-Yarred, Ma...|  male|12.0|    1|    0|      2651|11.2417|   NULL|       C|\n",
      "|        447|       1|     2|Mellinger, Miss. ...|female|13.0|    0|    1|    250644|   19.5|   NULL|       S|\n",
      "|         40|       1|     3|Nicola-Yarred, Mi...|female|14.0|    1|    0|      2651|11.2417|   NULL|       C|\n",
      "+-----------+--------+------+--------------------+------+----+-----+-----+----------+-------+-------+--------+\n",
      "only showing top 20 rows\n",
      "\n"
     ]
    }
   ],
   "source": [
    "df_parquet.dropDuplicates([\"age\"]).show()"
   ]
  },
  {
   "cell_type": "code",
   "execution_count": 56,
   "id": "37e3b8e3-469a-4686-8f39-cd6fc859d2ef",
   "metadata": {},
   "outputs": [
    {
     "name": "stdout",
     "output_type": "stream",
     "text": [
      "+-----------+--------+------+--------------------+------+----+-----+-----+----------------+-------+-----+--------+\n",
      "|PassengerId|Survived|Pclass|                Name|   Sex| Age|SibSp|Parch|          Ticket|   Fare|Cabin|Embarked|\n",
      "+-----------+--------+------+--------------------+------+----+-----+-----+----------------+-------+-----+--------+\n",
      "|          1|       0|     3|Braund, Mr. Owen ...|  male|22.0|    1|    0|       A/5 21171|   7.25| NULL|       S|\n",
      "|          2|       1|     1|Cumings, Mrs. Joh...|female|38.0|    1|    0|        PC 17599|71.2833|  C85|       C|\n",
      "|          3|       1|     3|Heikkinen, Miss. ...|female|26.0|    0|    0|STON/O2. 3101282|  7.925| NULL|       S|\n",
      "|          4|       1|     1|Futrelle, Mrs. Ja...|female|35.0|    1|    0|          113803|   53.1| C123|       S|\n",
      "|          5|       0|     3|Allen, Mr. Willia...|  male|35.0|    0|    0|          373450|   8.05| NULL|       S|\n",
      "|          6|       0|     3|    Moran, Mr. James|  male| 0.0|    0|    0|          330877| 8.4583| NULL|       Q|\n",
      "|          7|       0|     1|McCarthy, Mr. Tim...|  male|54.0|    0|    0|           17463|51.8625|  E46|       S|\n",
      "|          8|       0|     3|Palsson, Master. ...|  male| 2.0|    3|    1|          349909| 21.075| NULL|       S|\n",
      "|          9|       1|     3|Johnson, Mrs. Osc...|female|27.0|    0|    2|          347742|11.1333| NULL|       S|\n",
      "|         10|       1|     2|Nasser, Mrs. Nich...|female|14.0|    1|    0|          237736|30.0708| NULL|       C|\n",
      "|         11|       1|     3|Sandstrom, Miss. ...|female| 4.0|    1|    1|         PP 9549|   16.7|   G6|       S|\n",
      "|         12|       1|     1|Bonnell, Miss. El...|female|58.0|    0|    0|          113783|  26.55| C103|       S|\n",
      "|         13|       0|     3|Saundercock, Mr. ...|  male|20.0|    0|    0|       A/5. 2151|   8.05| NULL|       S|\n",
      "|         14|       0|     3|Andersson, Mr. An...|  male|39.0|    1|    5|          347082| 31.275| NULL|       S|\n",
      "|         15|       0|     3|Vestrom, Miss. Hu...|female|14.0|    0|    0|          350406| 7.8542| NULL|       S|\n",
      "|         16|       1|     2|Hewlett, Mrs. (Ma...|female|55.0|    0|    0|          248706|   16.0| NULL|       S|\n",
      "|         17|       0|     3|Rice, Master. Eugene|  male| 2.0|    4|    1|          382652| 29.125| NULL|       Q|\n",
      "|         18|       1|     2|Williams, Mr. Cha...|  male| 0.0|    0|    0|          244373|   13.0| NULL|       S|\n",
      "|         19|       0|     3|Vander Planke, Mr...|female|31.0|    1|    0|          345763|   18.0| NULL|       S|\n",
      "|         20|       1|     3|Masselmani, Mrs. ...|female| 0.0|    0|    0|            2649|  7.225| NULL|       C|\n",
      "+-----------+--------+------+--------------------+------+----+-----+-----+----------------+-------+-----+--------+\n",
      "only showing top 20 rows\n",
      "\n"
     ]
    }
   ],
   "source": [
    "df_parquet.fillna({\"age\": 0}).show()"
   ]
  },
  {
   "cell_type": "code",
   "execution_count": 57,
   "id": "3d884e9b-03f3-4e12-b2ba-fe04be1184fa",
   "metadata": {},
   "outputs": [
    {
     "name": "stdout",
     "output_type": "stream",
     "text": [
      "+-----------+--------+------+--------------------+------+----+-----+-----+----------------+-------+-----+--------+\n",
      "|PassengerId|Survived|Pclass|                Name|   Sex| Age|SibSp|Parch|          Ticket|   Fare|Cabin|Embarked|\n",
      "+-----------+--------+------+--------------------+------+----+-----+-----+----------------+-------+-----+--------+\n",
      "|          1|       0|    30|Braund, Mr. Owen ...|  male|22.0|    1|    0|       A/5 21171|   7.25| NULL|       S|\n",
      "|          2|       1|    10|Cumings, Mrs. Joh...|female|38.0|    1|    0|        PC 17599|71.2833|  C85|       C|\n",
      "|          3|       1|    30|Heikkinen, Miss. ...|female|26.0|    0|    0|STON/O2. 3101282|  7.925| NULL|       S|\n",
      "|          4|       1|    10|Futrelle, Mrs. Ja...|female|35.0|    1|    0|          113803|   53.1| C123|       S|\n",
      "|          5|       0|    30|Allen, Mr. Willia...|  male|35.0|    0|    0|          373450|   8.05| NULL|       S|\n",
      "|          6|       0|    30|    Moran, Mr. James|  male|NULL|    0|    0|          330877| 8.4583| NULL|       Q|\n",
      "|          7|       0|    10|McCarthy, Mr. Tim...|  male|54.0|    0|    0|           17463|51.8625|  E46|       S|\n",
      "|          8|       0|    30|Palsson, Master. ...|  male| 2.0|    3|    1|          349909| 21.075| NULL|       S|\n",
      "|          9|       1|    30|Johnson, Mrs. Osc...|female|27.0|    0|    2|          347742|11.1333| NULL|       S|\n",
      "|         10|       1|     2|Nasser, Mrs. Nich...|female|14.0|    1|    0|          237736|30.0708| NULL|       C|\n",
      "|         11|       1|    30|Sandstrom, Miss. ...|female| 4.0|    1|    1|         PP 9549|   16.7|   G6|       S|\n",
      "|         12|       1|    10|Bonnell, Miss. El...|female|58.0|    0|    0|          113783|  26.55| C103|       S|\n",
      "|         13|       0|    30|Saundercock, Mr. ...|  male|20.0|    0|    0|       A/5. 2151|   8.05| NULL|       S|\n",
      "|         14|       0|    30|Andersson, Mr. An...|  male|39.0|    1|    5|          347082| 31.275| NULL|       S|\n",
      "|         15|       0|    30|Vestrom, Miss. Hu...|female|14.0|    0|    0|          350406| 7.8542| NULL|       S|\n",
      "|         16|       1|     2|Hewlett, Mrs. (Ma...|female|55.0|    0|    0|          248706|   16.0| NULL|       S|\n",
      "|         17|       0|    30|Rice, Master. Eugene|  male| 2.0|    4|    1|          382652| 29.125| NULL|       Q|\n",
      "|         18|       1|     2|Williams, Mr. Cha...|  male|NULL|    0|    0|          244373|   13.0| NULL|       S|\n",
      "|         19|       0|    30|Vander Planke, Mr...|female|31.0|    1|    0|          345763|   18.0| NULL|       S|\n",
      "|         20|       1|    30|Masselmani, Mrs. ...|female|NULL|    0|    0|            2649|  7.225| NULL|       C|\n",
      "+-----------+--------+------+--------------------+------+----+-----+-----+----------------+-------+-----+--------+\n",
      "only showing top 20 rows\n",
      "\n"
     ]
    }
   ],
   "source": [
    "df_parquet.replace({3: 30, 1: 10}, subset='Pclass').show()"
   ]
  },
  {
   "cell_type": "code",
   "execution_count": 58,
   "id": "e72215e0-b617-4509-a56c-4b359edaf9b2",
   "metadata": {},
   "outputs": [
    {
     "name": "stdout",
     "output_type": "stream",
     "text": [
      "+-----------+--------+------+--------------------+------+----+-----+-----+---------+-------+-----------+--------+\n",
      "|PassengerId|Survived|Pclass|                Name|   Sex| Age|SibSp|Parch|   Ticket|   Fare|      Cabin|Embarked|\n",
      "+-----------+--------+------+--------------------+------+----+-----+-----+---------+-------+-----------+--------+\n",
      "|          1|       0|     3|Braund, Mr. Owen ...|  male|22.0|    1|    0|A/5 21171|   7.25|       NULL|       S|\n",
      "|          4|       1|     1|Futrelle, Mrs. Ja...|female|35.0|    1|    0|   113803|   53.1|       C123|       S|\n",
      "|          5|       0|     3|Allen, Mr. Willia...|  male|35.0|    0|    0|   373450|   8.05|       NULL|       S|\n",
      "|          7|       0|     1|McCarthy, Mr. Tim...|  male|54.0|    0|    0|    17463|51.8625|        E46|       S|\n",
      "|          9|       1|     3|Johnson, Mrs. Osc...|female|27.0|    0|    2|   347742|11.1333|       NULL|       S|\n",
      "|         10|       1|     2|Nasser, Mrs. Nich...|female|14.0|    1|    0|   237736|30.0708|       NULL|       C|\n",
      "|         12|       1|     1|Bonnell, Miss. El...|female|58.0|    0|    0|   113783|  26.55|       C103|       S|\n",
      "|         15|       0|     3|Vestrom, Miss. Hu...|female|14.0|    0|    0|   350406| 7.8542|       NULL|       S|\n",
      "|         18|       1|     2|Williams, Mr. Cha...|  male|NULL|    0|    0|   244373|   13.0|       NULL|       S|\n",
      "|         21|       0|     2|Fynney, Mr. Joseph J|  male|35.0|    0|    0|   239865|   26.0|       NULL|       S|\n",
      "|         22|       1|     2|Beesley, Mr. Lawr...|  male|34.0|    0|    0|   248698|   13.0|        D56|       S|\n",
      "|         23|       1|     3|McGowan, Miss. An...|female|15.0|    0|    0|   330923| 8.0292|       NULL|       Q|\n",
      "|         24|       1|     1|Sloper, Mr. Willi...|  male|28.0|    0|    0|   113788|   35.5|         A6|       S|\n",
      "|         25|       0|     3|Palsson, Miss. To...|female| 8.0|    3|    1|   349909| 21.075|       NULL|       S|\n",
      "|         27|       0|     3|Emir, Mr. Farred ...|  male|NULL|    0|    0|     2631|  7.225|       NULL|       C|\n",
      "|         28|       0|     1|Fortune, Mr. Char...|  male|19.0|    3|    2|    19950|  263.0|C23 C25 C27|       S|\n",
      "|         35|       0|     1|Meyer, Mr. Edgar ...|  male|28.0|    1|    0| PC 17604|82.1708|       NULL|       C|\n",
      "|         37|       1|     3|    Mamee, Mr. Hanna|  male|NULL|    0|    0|     2677| 7.2292|       NULL|       C|\n",
      "|         40|       1|     3|Nicola-Yarred, Mi...|female|14.0|    1|    0|     2651|11.2417|       NULL|       C|\n",
      "|         42|       0|     2|Turpin, Mrs. Will...|female|27.0|    1|    0|    11668|   21.0|       NULL|       S|\n",
      "+-----------+--------+------+--------------------+------+----+-----+-----+---------+-------+-----------+--------+\n",
      "only showing top 20 rows\n",
      "\n"
     ]
    }
   ],
   "source": [
    "df_parquet.sample(fraction=0.5).show()"
   ]
  },
  {
   "cell_type": "code",
   "execution_count": 59,
   "id": "362e58aa-910d-4709-8973-00af099b3036",
   "metadata": {},
   "outputs": [
    {
     "name": "stdout",
     "output_type": "stream",
     "text": [
      "+----+---+\n",
      "|name|age|\n",
      "+----+---+\n",
      "|John| 30|\n",
      "+----+---+\n",
      "\n"
     ]
    }
   ],
   "source": [
    "data1 = [(\"John\", 30), (\"Jane\", 25)]\n",
    "data2 = [(\"John\", 30), (\"Doe\", 22)]\n",
    "df1 = spark.createDataFrame(data1, [\"name\", \"age\"])\n",
    "df2 = spark.createDataFrame(data2, [\"name\", \"age\"])\n",
    "\n",
    "df1.intersect(df2).show()"
   ]
  },
  {
   "cell_type": "code",
   "execution_count": 60,
   "id": "6d5ad4ec-1844-4fd8-9c90-1b9070cad733",
   "metadata": {},
   "outputs": [
    {
     "name": "stdout",
     "output_type": "stream",
     "text": [
      "+-----+---+\n",
      "| name|age|\n",
      "+-----+---+\n",
      "| John| 30|\n",
      "| Jane| 25|\n",
      "|  Doe| 22|\n",
      "|Smith| 35|\n",
      "+-----+---+\n",
      "\n"
     ]
    }
   ],
   "source": [
    "data1 = [(\"John\", 30), (\"Jane\", 25)]\n",
    "data2 = [(\"Doe\", 22), (\"Smith\", 35)]\n",
    "df1 = spark.createDataFrame(data1, [\"name\", \"age\"])\n",
    "df2 = spark.createDataFrame(data2, [\"name\", \"age\"])\n",
    "\n",
    "df1.union(df2).show()"
   ]
  },
  {
   "cell_type": "code",
   "execution_count": 61,
   "id": "ddd16446-4e66-4f97-8ad1-c381f349b2eb",
   "metadata": {},
   "outputs": [
    {
     "name": "stdout",
     "output_type": "stream",
     "text": [
      "+----+---+\n",
      "|name|age|\n",
      "+----+---+\n",
      "|Jane| 25|\n",
      "+----+---+\n",
      "\n"
     ]
    }
   ],
   "source": [
    "data1 = [(\"John\", 30), (\"Jane\", 25)]\n",
    "data2 = [(\"John\", 30), (\"Doe\", 22)]\n",
    "df1 = spark.createDataFrame(data1, [\"name\", \"age\"])\n",
    "df2 = spark.createDataFrame(data2, [\"name\", \"age\"])\n",
    "\n",
    "df1.exceptAll(df2).show()"
   ]
  },
  {
   "cell_type": "code",
   "execution_count": 62,
   "id": "6094936e-09da-4599-b424-ed936bdf3dda",
   "metadata": {},
   "outputs": [
    {
     "name": "stdout",
     "output_type": "stream",
     "text": [
      "+-------+-----------------+-------------------+------------------+--------------------+------+------------------+------------------+-------------------+------------------+-----------------+-----+--------+\n",
      "|summary|      PassengerId|           Survived|            Pclass|                Name|   Sex|               Age|             SibSp|              Parch|            Ticket|             Fare|Cabin|Embarked|\n",
      "+-------+-----------------+-------------------+------------------+--------------------+------+------------------+------------------+-------------------+------------------+-----------------+-----+--------+\n",
      "|  count|              891|                891|               891|                 891|   891|               714|               891|                891|               891|              891|  204|     889|\n",
      "|   mean|            446.0| 0.3838383838383838| 2.308641975308642|                NULL|  NULL| 29.69911764705882|0.5230078563411896|0.38159371492704824|260318.54916792738| 32.2042079685746| NULL|    NULL|\n",
      "| stddev|257.3538420152301|0.48659245426485753|0.8360712409770491|                NULL|  NULL|14.526497332334035|1.1027434322934315| 0.8060572211299488|471609.26868834975|49.69342859718089| NULL|    NULL|\n",
      "|    min|                1|                  0|                 1| Abbing, Mr. Anthony|female|              0.42|                 0|                  0|            110152|              0.0|  A10|       C|\n",
      "|    max|              891|                  1|                 3|van Melkebeke, Mr...|  male|              80.0|                 8|                  6|         WE/P 5735|         512.3292|    T|       S|\n",
      "+-------+-----------------+-------------------+------------------+--------------------+------+------------------+------------------+-------------------+------------------+-----------------+-----+--------+\n",
      "\n"
     ]
    }
   ],
   "source": [
    "df_parquet.describe().show()"
   ]
  },
  {
   "cell_type": "code",
   "execution_count": 63,
   "id": "5e181672-79a9-48d0-9a97-5017e4adb354",
   "metadata": {},
   "outputs": [
    {
     "name": "stdout",
     "output_type": "stream",
     "text": [
      "+--------------------+----+\n",
      "|           full_name| age|\n",
      "+--------------------+----+\n",
      "|Braund, Mr. Owen ...|22.0|\n",
      "|Cumings, Mrs. Joh...|38.0|\n",
      "|Heikkinen, Miss. ...|26.0|\n",
      "|Futrelle, Mrs. Ja...|35.0|\n",
      "|Allen, Mr. Willia...|35.0|\n",
      "|    Moran, Mr. James|NULL|\n",
      "|McCarthy, Mr. Tim...|54.0|\n",
      "|Palsson, Master. ...| 2.0|\n",
      "|Johnson, Mrs. Osc...|27.0|\n",
      "|Nasser, Mrs. Nich...|14.0|\n",
      "|Sandstrom, Miss. ...| 4.0|\n",
      "|Bonnell, Miss. El...|58.0|\n",
      "|Saundercock, Mr. ...|20.0|\n",
      "|Andersson, Mr. An...|39.0|\n",
      "|Vestrom, Miss. Hu...|14.0|\n",
      "|Hewlett, Mrs. (Ma...|55.0|\n",
      "|Rice, Master. Eugene| 2.0|\n",
      "|Williams, Mr. Cha...|NULL|\n",
      "|Vander Planke, Mr...|31.0|\n",
      "|Masselmani, Mrs. ...|NULL|\n",
      "+--------------------+----+\n",
      "only showing top 20 rows\n",
      "\n"
     ]
    }
   ],
   "source": [
    "df_parquet.select(df_parquet[\"name\"].alias(\"full_name\"), \"age\").show()"
   ]
  },
  {
   "cell_type": "code",
   "execution_count": 64,
   "id": "ea9ba310-9057-473b-9bbd-5de3dc7155f0",
   "metadata": {},
   "outputs": [
    {
     "data": {
      "text/html": [
       "<div>\n",
       "<style scoped>\n",
       "    .dataframe tbody tr th:only-of-type {\n",
       "        vertical-align: middle;\n",
       "    }\n",
       "\n",
       "    .dataframe tbody tr th {\n",
       "        vertical-align: top;\n",
       "    }\n",
       "\n",
       "    .dataframe thead th {\n",
       "        text-align: right;\n",
       "    }\n",
       "</style>\n",
       "<table border=\"1\" class=\"dataframe\">\n",
       "  <thead>\n",
       "    <tr style=\"text-align: right;\">\n",
       "      <th></th>\n",
       "      <th>PassengerId</th>\n",
       "      <th>Survived</th>\n",
       "      <th>Pclass</th>\n",
       "      <th>Name</th>\n",
       "      <th>Sex</th>\n",
       "      <th>Age</th>\n",
       "      <th>SibSp</th>\n",
       "      <th>Parch</th>\n",
       "      <th>Ticket</th>\n",
       "      <th>Fare</th>\n",
       "      <th>Cabin</th>\n",
       "      <th>Embarked</th>\n",
       "    </tr>\n",
       "  </thead>\n",
       "  <tbody>\n",
       "    <tr>\n",
       "      <th>0</th>\n",
       "      <td>1</td>\n",
       "      <td>0</td>\n",
       "      <td>3</td>\n",
       "      <td>Braund, Mr. Owen Harris</td>\n",
       "      <td>male</td>\n",
       "      <td>22.0</td>\n",
       "      <td>1</td>\n",
       "      <td>0</td>\n",
       "      <td>A/5 21171</td>\n",
       "      <td>7.2500</td>\n",
       "      <td>None</td>\n",
       "      <td>S</td>\n",
       "    </tr>\n",
       "    <tr>\n",
       "      <th>1</th>\n",
       "      <td>2</td>\n",
       "      <td>1</td>\n",
       "      <td>1</td>\n",
       "      <td>Cumings, Mrs. John Bradley (Florence Briggs Th...</td>\n",
       "      <td>female</td>\n",
       "      <td>38.0</td>\n",
       "      <td>1</td>\n",
       "      <td>0</td>\n",
       "      <td>PC 17599</td>\n",
       "      <td>71.2833</td>\n",
       "      <td>C85</td>\n",
       "      <td>C</td>\n",
       "    </tr>\n",
       "    <tr>\n",
       "      <th>2</th>\n",
       "      <td>3</td>\n",
       "      <td>1</td>\n",
       "      <td>3</td>\n",
       "      <td>Heikkinen, Miss. Laina</td>\n",
       "      <td>female</td>\n",
       "      <td>26.0</td>\n",
       "      <td>0</td>\n",
       "      <td>0</td>\n",
       "      <td>STON/O2. 3101282</td>\n",
       "      <td>7.9250</td>\n",
       "      <td>None</td>\n",
       "      <td>S</td>\n",
       "    </tr>\n",
       "    <tr>\n",
       "      <th>3</th>\n",
       "      <td>4</td>\n",
       "      <td>1</td>\n",
       "      <td>1</td>\n",
       "      <td>Futrelle, Mrs. Jacques Heath (Lily May Peel)</td>\n",
       "      <td>female</td>\n",
       "      <td>35.0</td>\n",
       "      <td>1</td>\n",
       "      <td>0</td>\n",
       "      <td>113803</td>\n",
       "      <td>53.1000</td>\n",
       "      <td>C123</td>\n",
       "      <td>S</td>\n",
       "    </tr>\n",
       "    <tr>\n",
       "      <th>4</th>\n",
       "      <td>5</td>\n",
       "      <td>0</td>\n",
       "      <td>3</td>\n",
       "      <td>Allen, Mr. William Henry</td>\n",
       "      <td>male</td>\n",
       "      <td>35.0</td>\n",
       "      <td>0</td>\n",
       "      <td>0</td>\n",
       "      <td>373450</td>\n",
       "      <td>8.0500</td>\n",
       "      <td>None</td>\n",
       "      <td>S</td>\n",
       "    </tr>\n",
       "    <tr>\n",
       "      <th>...</th>\n",
       "      <td>...</td>\n",
       "      <td>...</td>\n",
       "      <td>...</td>\n",
       "      <td>...</td>\n",
       "      <td>...</td>\n",
       "      <td>...</td>\n",
       "      <td>...</td>\n",
       "      <td>...</td>\n",
       "      <td>...</td>\n",
       "      <td>...</td>\n",
       "      <td>...</td>\n",
       "      <td>...</td>\n",
       "    </tr>\n",
       "    <tr>\n",
       "      <th>886</th>\n",
       "      <td>887</td>\n",
       "      <td>0</td>\n",
       "      <td>2</td>\n",
       "      <td>Montvila, Rev. Juozas</td>\n",
       "      <td>male</td>\n",
       "      <td>27.0</td>\n",
       "      <td>0</td>\n",
       "      <td>0</td>\n",
       "      <td>211536</td>\n",
       "      <td>13.0000</td>\n",
       "      <td>None</td>\n",
       "      <td>S</td>\n",
       "    </tr>\n",
       "    <tr>\n",
       "      <th>887</th>\n",
       "      <td>888</td>\n",
       "      <td>1</td>\n",
       "      <td>1</td>\n",
       "      <td>Graham, Miss. Margaret Edith</td>\n",
       "      <td>female</td>\n",
       "      <td>19.0</td>\n",
       "      <td>0</td>\n",
       "      <td>0</td>\n",
       "      <td>112053</td>\n",
       "      <td>30.0000</td>\n",
       "      <td>B42</td>\n",
       "      <td>S</td>\n",
       "    </tr>\n",
       "    <tr>\n",
       "      <th>888</th>\n",
       "      <td>889</td>\n",
       "      <td>0</td>\n",
       "      <td>3</td>\n",
       "      <td>Johnston, Miss. Catherine Helen \"Carrie\"</td>\n",
       "      <td>female</td>\n",
       "      <td>NaN</td>\n",
       "      <td>1</td>\n",
       "      <td>2</td>\n",
       "      <td>W./C. 6607</td>\n",
       "      <td>23.4500</td>\n",
       "      <td>None</td>\n",
       "      <td>S</td>\n",
       "    </tr>\n",
       "    <tr>\n",
       "      <th>889</th>\n",
       "      <td>890</td>\n",
       "      <td>1</td>\n",
       "      <td>1</td>\n",
       "      <td>Behr, Mr. Karl Howell</td>\n",
       "      <td>male</td>\n",
       "      <td>26.0</td>\n",
       "      <td>0</td>\n",
       "      <td>0</td>\n",
       "      <td>111369</td>\n",
       "      <td>30.0000</td>\n",
       "      <td>C148</td>\n",
       "      <td>C</td>\n",
       "    </tr>\n",
       "    <tr>\n",
       "      <th>890</th>\n",
       "      <td>891</td>\n",
       "      <td>0</td>\n",
       "      <td>3</td>\n",
       "      <td>Dooley, Mr. Patrick</td>\n",
       "      <td>male</td>\n",
       "      <td>32.0</td>\n",
       "      <td>0</td>\n",
       "      <td>0</td>\n",
       "      <td>370376</td>\n",
       "      <td>7.7500</td>\n",
       "      <td>None</td>\n",
       "      <td>Q</td>\n",
       "    </tr>\n",
       "  </tbody>\n",
       "</table>\n",
       "<p>891 rows × 12 columns</p>\n",
       "</div>"
      ],
      "text/plain": [
       "     PassengerId  Survived  Pclass  \\\n",
       "0              1         0       3   \n",
       "1              2         1       1   \n",
       "2              3         1       3   \n",
       "3              4         1       1   \n",
       "4              5         0       3   \n",
       "..           ...       ...     ...   \n",
       "886          887         0       2   \n",
       "887          888         1       1   \n",
       "888          889         0       3   \n",
       "889          890         1       1   \n",
       "890          891         0       3   \n",
       "\n",
       "                                                  Name     Sex   Age  SibSp  \\\n",
       "0                              Braund, Mr. Owen Harris    male  22.0      1   \n",
       "1    Cumings, Mrs. John Bradley (Florence Briggs Th...  female  38.0      1   \n",
       "2                               Heikkinen, Miss. Laina  female  26.0      0   \n",
       "3         Futrelle, Mrs. Jacques Heath (Lily May Peel)  female  35.0      1   \n",
       "4                             Allen, Mr. William Henry    male  35.0      0   \n",
       "..                                                 ...     ...   ...    ...   \n",
       "886                              Montvila, Rev. Juozas    male  27.0      0   \n",
       "887                       Graham, Miss. Margaret Edith  female  19.0      0   \n",
       "888           Johnston, Miss. Catherine Helen \"Carrie\"  female   NaN      1   \n",
       "889                              Behr, Mr. Karl Howell    male  26.0      0   \n",
       "890                                Dooley, Mr. Patrick    male  32.0      0   \n",
       "\n",
       "     Parch            Ticket     Fare Cabin Embarked  \n",
       "0        0         A/5 21171   7.2500  None        S  \n",
       "1        0          PC 17599  71.2833   C85        C  \n",
       "2        0  STON/O2. 3101282   7.9250  None        S  \n",
       "3        0            113803  53.1000  C123        S  \n",
       "4        0            373450   8.0500  None        S  \n",
       "..     ...               ...      ...   ...      ...  \n",
       "886      0            211536  13.0000  None        S  \n",
       "887      0            112053  30.0000   B42        S  \n",
       "888      2        W./C. 6607  23.4500  None        S  \n",
       "889      0            111369  30.0000  C148        C  \n",
       "890      0            370376   7.7500  None        Q  \n",
       "\n",
       "[891 rows x 12 columns]"
      ]
     },
     "execution_count": 64,
     "metadata": {},
     "output_type": "execute_result"
    }
   ],
   "source": [
    "pandas_df = df_parquet.toPandas()\n",
    "pandas_df"
   ]
  },
  {
   "cell_type": "code",
   "execution_count": 65,
   "id": "17e56571-ec2c-4dbc-9a23-43d783ff4fb7",
   "metadata": {},
   "outputs": [
    {
     "name": "stdout",
     "output_type": "stream",
     "text": [
      "+-----------+--------+------+--------------------+------+----+-----+-----+----------------+-------+-----+--------+\n",
      "|PassengerId|Survived|Pclass|           full_name|   Sex| Age|SibSp|Parch|          Ticket|   Fare|Cabin|Embarked|\n",
      "+-----------+--------+------+--------------------+------+----+-----+-----+----------------+-------+-----+--------+\n",
      "|          1|       0|     3|Braund, Mr. Owen ...|  male|22.0|    1|    0|       A/5 21171|   7.25| NULL|       S|\n",
      "|          2|       1|     1|Cumings, Mrs. Joh...|female|38.0|    1|    0|        PC 17599|71.2833|  C85|       C|\n",
      "|          3|       1|     3|Heikkinen, Miss. ...|female|26.0|    0|    0|STON/O2. 3101282|  7.925| NULL|       S|\n",
      "|          4|       1|     1|Futrelle, Mrs. Ja...|female|35.0|    1|    0|          113803|   53.1| C123|       S|\n",
      "|          5|       0|     3|Allen, Mr. Willia...|  male|35.0|    0|    0|          373450|   8.05| NULL|       S|\n",
      "|          6|       0|     3|    Moran, Mr. James|  male|NULL|    0|    0|          330877| 8.4583| NULL|       Q|\n",
      "|          7|       0|     1|McCarthy, Mr. Tim...|  male|54.0|    0|    0|           17463|51.8625|  E46|       S|\n",
      "|          8|       0|     3|Palsson, Master. ...|  male| 2.0|    3|    1|          349909| 21.075| NULL|       S|\n",
      "|          9|       1|     3|Johnson, Mrs. Osc...|female|27.0|    0|    2|          347742|11.1333| NULL|       S|\n",
      "|         10|       1|     2|Nasser, Mrs. Nich...|female|14.0|    1|    0|          237736|30.0708| NULL|       C|\n",
      "|         11|       1|     3|Sandstrom, Miss. ...|female| 4.0|    1|    1|         PP 9549|   16.7|   G6|       S|\n",
      "|         12|       1|     1|Bonnell, Miss. El...|female|58.0|    0|    0|          113783|  26.55| C103|       S|\n",
      "|         13|       0|     3|Saundercock, Mr. ...|  male|20.0|    0|    0|       A/5. 2151|   8.05| NULL|       S|\n",
      "|         14|       0|     3|Andersson, Mr. An...|  male|39.0|    1|    5|          347082| 31.275| NULL|       S|\n",
      "|         15|       0|     3|Vestrom, Miss. Hu...|female|14.0|    0|    0|          350406| 7.8542| NULL|       S|\n",
      "|         16|       1|     2|Hewlett, Mrs. (Ma...|female|55.0|    0|    0|          248706|   16.0| NULL|       S|\n",
      "|         17|       0|     3|Rice, Master. Eugene|  male| 2.0|    4|    1|          382652| 29.125| NULL|       Q|\n",
      "|         18|       1|     2|Williams, Mr. Cha...|  male|NULL|    0|    0|          244373|   13.0| NULL|       S|\n",
      "|         19|       0|     3|Vander Planke, Mr...|female|31.0|    1|    0|          345763|   18.0| NULL|       S|\n",
      "|         20|       1|     3|Masselmani, Mrs. ...|female|NULL|    0|    0|            2649|  7.225| NULL|       C|\n",
      "+-----------+--------+------+--------------------+------+----+-----+-----+----------------+-------+-----+--------+\n",
      "only showing top 20 rows\n",
      "\n"
     ]
    }
   ],
   "source": [
    "df_parquet.withColumnRenamed(\"name\", \"full_name\").show()"
   ]
  },
  {
   "cell_type": "code",
   "execution_count": 66,
   "id": "ab4e7832-4072-43b6-9e9b-196e31adec2f",
   "metadata": {},
   "outputs": [
    {
     "name": "stdout",
     "output_type": "stream",
     "text": [
      "+-----------+--------+------+--------------------+------+----+-----+-----+-----------+-------+-----------+--------+\n",
      "|PassengerId|Survived|Pclass|                Name|   Sex| Age|SibSp|Parch|     Ticket|   Fare|      Cabin|Embarked|\n",
      "+-----------+--------+------+--------------------+------+----+-----+-----+-----------+-------+-----------+--------+\n",
      "|        631|       1|     1|Barkworth, Mr. Al...|  male|80.0|    0|    0|      27042|   30.0|        A23|       S|\n",
      "|        852|       0|     3| Svensson, Mr. Johan|  male|74.0|    0|    0|     347060|  7.775|       NULL|       S|\n",
      "|         97|       0|     1|Goldschmidt, Mr. ...|  male|71.0|    0|    0|   PC 17754|34.6542|         A5|       C|\n",
      "|        494|       0|     1|Artagaveytia, Mr....|  male|71.0|    0|    0|   PC 17609|49.5042|       NULL|       C|\n",
      "|        117|       0|     3|Connors, Mr. Patrick|  male|70.5|    0|    0|     370369|   7.75|       NULL|       Q|\n",
      "|        673|       0|     2|Mitchell, Mr. Hen...|  male|70.0|    0|    0| C.A. 24580|   10.5|       NULL|       S|\n",
      "|        746|       0|     1|Crosby, Capt. Edw...|  male|70.0|    1|    1|  WE/P 5735|   71.0|        B22|       S|\n",
      "|         34|       0|     2|Wheadon, Mr. Edwa...|  male|66.0|    0|    0| C.A. 24579|   10.5|       NULL|       S|\n",
      "|        457|       0|     1|Millet, Mr. Franc...|  male|65.0|    0|    0|      13509|  26.55|        E38|       S|\n",
      "|        281|       0|     3|    Duane, Mr. Frank|  male|65.0|    0|    0|     336439|   7.75|       NULL|       Q|\n",
      "|         55|       0|     1|Ostby, Mr. Engelh...|  male|65.0|    0|    1|     113509|61.9792|        B30|       C|\n",
      "|        546|       0|     1|Nicholson, Mr. Ar...|  male|64.0|    0|    0|        693|   26.0|       NULL|       S|\n",
      "|        439|       0|     1|   Fortune, Mr. Mark|  male|64.0|    1|    4|      19950|  263.0|C23 C25 C27|       S|\n",
      "|        484|       1|     3|Turkula, Mrs. (He...|female|63.0|    0|    0|       4134| 9.5875|       NULL|       S|\n",
      "|        276|       1|     1|Andrews, Miss. Ko...|female|63.0|    1|    0|      13502|77.9583|         D7|       S|\n",
      "|        556|       0|     1|  Wright, Mr. George|  male|62.0|    0|    0|     113807|  26.55|       NULL|       S|\n",
      "|        253|       0|     1|Stead, Mr. Willia...|  male|62.0|    0|    0|     113514|  26.55|        C87|       S|\n",
      "|        830|       1|     1|Stone, Mrs. Georg...|female|62.0|    0|    0|     113572|   80.0|        B28|    NULL|\n",
      "|        571|       1|     2|  Harris, Mr. George|  male|62.0|    0|    0|S.W./PP 752|   10.5|       NULL|       S|\n",
      "|        327|       0|     3|Nysveen, Mr. Joha...|  male|61.0|    0|    0|     345364| 6.2375|       NULL|       S|\n",
      "+-----------+--------+------+--------------------+------+----+-----+-----+-----------+-------+-----------+--------+\n",
      "only showing top 20 rows\n",
      "\n"
     ]
    }
   ],
   "source": [
    "df_parquet.sort(df_parquet[\"age\"].desc()).show()"
   ]
  },
  {
   "cell_type": "code",
   "execution_count": 67,
   "id": "bc9cc1ed-0f05-4423-94a5-ff93967e829f",
   "metadata": {},
   "outputs": [
    {
     "data": {
      "text/plain": [
       "[Row(PassengerId=1, Survived=0, Pclass=3, Name='Braund, Mr. Owen Harris', Sex='male', Age=22.0, SibSp=1, Parch=0, Ticket='A/5 21171', Fare=7.25, Cabin=None, Embarked='S'),\n",
       " Row(PassengerId=2, Survived=1, Pclass=1, Name='Cumings, Mrs. John Bradley (Florence Briggs Thayer)', Sex='female', Age=38.0, SibSp=1, Parch=0, Ticket='PC 17599', Fare=71.2833, Cabin='C85', Embarked='C'),\n",
       " Row(PassengerId=3, Survived=1, Pclass=3, Name='Heikkinen, Miss. Laina', Sex='female', Age=26.0, SibSp=0, Parch=0, Ticket='STON/O2. 3101282', Fare=7.925, Cabin=None, Embarked='S'),\n",
       " Row(PassengerId=4, Survived=1, Pclass=1, Name='Futrelle, Mrs. Jacques Heath (Lily May Peel)', Sex='female', Age=35.0, SibSp=1, Parch=0, Ticket='113803', Fare=53.1, Cabin='C123', Embarked='S'),\n",
       " Row(PassengerId=5, Survived=0, Pclass=3, Name='Allen, Mr. William Henry', Sex='male', Age=35.0, SibSp=0, Parch=0, Ticket='373450', Fare=8.05, Cabin=None, Embarked='S'),\n",
       " Row(PassengerId=6, Survived=0, Pclass=3, Name='Moran, Mr. James', Sex='male', Age=None, SibSp=0, Parch=0, Ticket='330877', Fare=8.4583, Cabin=None, Embarked='Q'),\n",
       " Row(PassengerId=7, Survived=0, Pclass=1, Name='McCarthy, Mr. Timothy J', Sex='male', Age=54.0, SibSp=0, Parch=0, Ticket='17463', Fare=51.8625, Cabin='E46', Embarked='S'),\n",
       " Row(PassengerId=8, Survived=0, Pclass=3, Name='Palsson, Master. Gosta Leonard', Sex='male', Age=2.0, SibSp=3, Parch=1, Ticket='349909', Fare=21.075, Cabin=None, Embarked='S'),\n",
       " Row(PassengerId=9, Survived=1, Pclass=3, Name='Johnson, Mrs. Oscar W (Elisabeth Vilhelmina Berg)', Sex='female', Age=27.0, SibSp=0, Parch=2, Ticket='347742', Fare=11.1333, Cabin=None, Embarked='S'),\n",
       " Row(PassengerId=10, Survived=1, Pclass=2, Name='Nasser, Mrs. Nicholas (Adele Achem)', Sex='female', Age=14.0, SibSp=1, Parch=0, Ticket='237736', Fare=30.0708, Cabin=None, Embarked='C')]"
      ]
     },
     "execution_count": 67,
     "metadata": {},
     "output_type": "execute_result"
    }
   ],
   "source": [
    "df_parquet.rdd.take(\n",
    "    10\n",
    ")"
   ]
  },
  {
   "cell_type": "code",
   "execution_count": 69,
   "id": "92723525-3393-42b2-a925-294566531e6f",
   "metadata": {},
   "outputs": [
    {
     "name": "stdout",
     "output_type": "stream",
     "text": [
      "+-----------+--------+------+--------------------+------+----+-----+-----+---------+-------+-----+--------+\n",
      "|PassengerId|Survived|Pclass|                Name|   Sex| Age|SibSp|Parch|   Ticket|   Fare|Cabin|Embarked|\n",
      "+-----------+--------+------+--------------------+------+----+-----+-----+---------+-------+-----+--------+\n",
      "|          1|       0|     3|Braund, Mr. Owen ...|  male|22.0|    1|    0|A/5 21171|   7.25| NULL|       S|\n",
      "|          2|       1|     1|Cumings, Mrs. Joh...|female|38.0|    1|    0| PC 17599|71.2833|  C85|       C|\n",
      "+-----------+--------+------+--------------------+------+----+-----+-----+---------+-------+-----+--------+\n",
      "\n"
     ]
    }
   ],
   "source": [
    "df_parquet.limit(2).show()"
   ]
  },
  {
   "cell_type": "code",
   "execution_count": 70,
   "id": "da193bac-29d4-498a-b6d6-36cd52a3b6de",
   "metadata": {},
   "outputs": [
    {
     "name": "stdout",
     "output_type": "stream",
     "text": [
      "+-----------+--------+------+--------------------+------+----+-----+-----+---------------+-------+-----+--------+\n",
      "|PassengerId|Survived|Pclass|                Name|   Sex| Age|SibSp|Parch|         Ticket|   Fare|Cabin|Embarked|\n",
      "+-----------+--------+------+--------------------+------+----+-----+-----+---------------+-------+-----+--------+\n",
      "|          4|       1|     1|Futrelle, Mrs. Ja...|female|35.0|    1|    0|         113803|   53.1| C123|       S|\n",
      "|         10|       1|     2|Nasser, Mrs. Nich...|female|14.0|    1|    0|         237736|30.0708| NULL|       C|\n",
      "|         11|       1|     3|Sandstrom, Miss. ...|female| 4.0|    1|    1|        PP 9549|   16.7|   G6|       S|\n",
      "|         12|       1|     1|Bonnell, Miss. El...|female|58.0|    0|    0|         113783|  26.55| C103|       S|\n",
      "|         13|       0|     3|Saundercock, Mr. ...|  male|20.0|    0|    0|      A/5. 2151|   8.05| NULL|       S|\n",
      "|         20|       1|     3|Masselmani, Mrs. ...|female|NULL|    0|    0|           2649|  7.225| NULL|       C|\n",
      "|         21|       0|     2|Fynney, Mr. Joseph J|  male|35.0|    0|    0|         239865|   26.0| NULL|       S|\n",
      "|         22|       1|     2|Beesley, Mr. Lawr...|  male|34.0|    0|    0|         248698|   13.0|  D56|       S|\n",
      "|         23|       1|     3|McGowan, Miss. An...|female|15.0|    0|    0|         330923| 8.0292| NULL|       Q|\n",
      "|         24|       1|     1|Sloper, Mr. Willi...|  male|28.0|    0|    0|         113788|   35.5|   A6|       S|\n",
      "|         25|       0|     3|Palsson, Miss. To...|female| 8.0|    3|    1|         349909| 21.075| NULL|       S|\n",
      "|         33|       1|     3|Glynn, Miss. Mary...|female|NULL|    0|    0|         335677|   7.75| NULL|       Q|\n",
      "|         44|       1|     2|Laroche, Miss. Si...|female| 3.0|    1|    2|  SC/Paris 2123|41.5792| NULL|       C|\n",
      "|         46|       0|     3|Rogers, Mr. Willi...|  male|NULL|    0|    0|S.C./A.4. 23567|   8.05| NULL|       S|\n",
      "|         51|       0|     3|Panula, Master. J...|  male| 7.0|    4|    1|        3101295|39.6875| NULL|       S|\n",
      "|         52|       0|     3|Nosworthy, Mr. Ri...|  male|21.0|    0|    0|     A/4. 39886|    7.8| NULL|       S|\n",
      "|         58|       0|     3| Novel, Mr. Mansouer|  male|28.5|    0|    0|           2697| 7.2292| NULL|       C|\n",
      "|         60|       0|     3|Goodwin, Master. ...|  male|11.0|    5|    2|        CA 2144|   46.9| NULL|       S|\n",
      "|         61|       0|     3|Sirayanian, Mr. O...|  male|22.0|    0|    0|           2669| 7.2292| NULL|       C|\n",
      "|         63|       0|     1|Harris, Mr. Henry...|  male|45.0|    1|    0|          36973| 83.475|  C83|       S|\n",
      "+-----------+--------+------+--------------------+------+----+-----+-----+---------------+-------+-----+--------+\n",
      "only showing top 20 rows\n",
      "\n",
      "+-----------+--------+------+--------------------+------+----+-----+-----+----------+-------+-----------+--------+\n",
      "|PassengerId|Survived|Pclass|                Name|   Sex| Age|SibSp|Parch|    Ticket|   Fare|      Cabin|Embarked|\n",
      "+-----------+--------+------+--------------------+------+----+-----+-----+----------+-------+-----------+--------+\n",
      "|          2|       1|     1|Cumings, Mrs. Joh...|female|38.0|    1|    0|  PC 17599|71.2833|        C85|       C|\n",
      "|          5|       0|     3|Allen, Mr. Willia...|  male|35.0|    0|    0|    373450|   8.05|       NULL|       S|\n",
      "|          7|       0|     1|McCarthy, Mr. Tim...|  male|54.0|    0|    0|     17463|51.8625|        E46|       S|\n",
      "|          8|       0|     3|Palsson, Master. ...|  male| 2.0|    3|    1|    349909| 21.075|       NULL|       S|\n",
      "|          9|       1|     3|Johnson, Mrs. Osc...|female|27.0|    0|    2|    347742|11.1333|       NULL|       S|\n",
      "|         16|       1|     2|Hewlett, Mrs. (Ma...|female|55.0|    0|    0|    248706|   16.0|       NULL|       S|\n",
      "|         19|       0|     3|Vander Planke, Mr...|female|31.0|    1|    0|    345763|   18.0|       NULL|       S|\n",
      "|         27|       0|     3|Emir, Mr. Farred ...|  male|NULL|    0|    0|      2631|  7.225|       NULL|       C|\n",
      "|         28|       0|     1|Fortune, Mr. Char...|  male|19.0|    3|    2|     19950|  263.0|C23 C25 C27|       S|\n",
      "|         29|       1|     3|O'Dwyer, Miss. El...|female|NULL|    0|    0|    330959| 7.8792|       NULL|       Q|\n",
      "|         30|       0|     3| Todoroff, Mr. Lalio|  male|NULL|    0|    0|    349216| 7.8958|       NULL|       S|\n",
      "|         31|       0|     1|Uruchurtu, Don. M...|  male|40.0|    0|    0|  PC 17601|27.7208|       NULL|       C|\n",
      "|         34|       0|     2|Wheadon, Mr. Edwa...|  male|66.0|    0|    0|C.A. 24579|   10.5|       NULL|       S|\n",
      "|         36|       0|     1|Holverson, Mr. Al...|  male|42.0|    1|    0|    113789|   52.0|       NULL|       S|\n",
      "|         38|       0|     3|Cann, Mr. Ernest ...|  male|21.0|    0|    0|A./5. 2152|   8.05|       NULL|       S|\n",
      "|         40|       1|     3|Nicola-Yarred, Mi...|female|14.0|    1|    0|      2651|11.2417|       NULL|       C|\n",
      "|         41|       0|     3|Ahlin, Mrs. Johan...|female|40.0|    1|    0|      7546|  9.475|       NULL|       S|\n",
      "|         42|       0|     2|Turpin, Mrs. Will...|female|27.0|    1|    0|     11668|   21.0|       NULL|       S|\n",
      "|         43|       0|     3| Kraeff, Mr. Theodor|  male|NULL|    0|    0|    349253| 7.8958|       NULL|       C|\n",
      "|         47|       0|     3|   Lennon, Mr. Denis|  male|NULL|    1|    0|    370371|   15.5|       NULL|       Q|\n",
      "+-----------+--------+------+--------------------+------+----+-----+-----+----------+-------+-----------+--------+\n",
      "only showing top 20 rows\n",
      "\n",
      "+-----------+--------+------+--------------------+------+----+-----+-----+----------------+--------+-----+--------+\n",
      "|PassengerId|Survived|Pclass|                Name|   Sex| Age|SibSp|Parch|          Ticket|    Fare|Cabin|Embarked|\n",
      "+-----------+--------+------+--------------------+------+----+-----+-----+----------------+--------+-----+--------+\n",
      "|          1|       0|     3|Braund, Mr. Owen ...|  male|22.0|    1|    0|       A/5 21171|    7.25| NULL|       S|\n",
      "|          3|       1|     3|Heikkinen, Miss. ...|female|26.0|    0|    0|STON/O2. 3101282|   7.925| NULL|       S|\n",
      "|          6|       0|     3|    Moran, Mr. James|  male|NULL|    0|    0|          330877|  8.4583| NULL|       Q|\n",
      "|         14|       0|     3|Andersson, Mr. An...|  male|39.0|    1|    5|          347082|  31.275| NULL|       S|\n",
      "|         15|       0|     3|Vestrom, Miss. Hu...|female|14.0|    0|    0|          350406|  7.8542| NULL|       S|\n",
      "|         17|       0|     3|Rice, Master. Eugene|  male| 2.0|    4|    1|          382652|  29.125| NULL|       Q|\n",
      "|         18|       1|     2|Williams, Mr. Cha...|  male|NULL|    0|    0|          244373|    13.0| NULL|       S|\n",
      "|         26|       1|     3|Asplund, Mrs. Car...|female|38.0|    1|    5|          347077| 31.3875| NULL|       S|\n",
      "|         32|       1|     1|Spencer, Mrs. Wil...|female|NULL|    1|    0|        PC 17569|146.5208|  B78|       C|\n",
      "|         35|       0|     1|Meyer, Mr. Edgar ...|  male|28.0|    1|    0|        PC 17604| 82.1708| NULL|       C|\n",
      "|         37|       1|     3|    Mamee, Mr. Hanna|  male|NULL|    0|    0|            2677|  7.2292| NULL|       C|\n",
      "|         39|       0|     3|Vander Planke, Mi...|female|18.0|    2|    0|          345764|    18.0| NULL|       S|\n",
      "|         45|       1|     3|Devaney, Miss. Ma...|female|19.0|    0|    0|          330958|  7.8792| NULL|       Q|\n",
      "|         48|       1|     3|O'Driscoll, Miss....|female|NULL|    0|    0|           14311|    7.75| NULL|       Q|\n",
      "|         57|       1|     2|   Rugg, Miss. Emily|female|21.0|    0|    0|      C.A. 31026|    10.5| NULL|       S|\n",
      "|         59|       1|     2|West, Miss. Const...|female| 5.0|    1|    2|      C.A. 34651|   27.75| NULL|       S|\n",
      "|         62|       1|     1| Icard, Miss. Amelie|female|38.0|    0|    0|          113572|    80.0|  B28|    NULL|\n",
      "|         66|       1|     3|Moubarek, Master....|  male|NULL|    1|    1|            2661| 15.2458| NULL|       C|\n",
      "|         68|       0|     3|Crease, Mr. Ernes...|  male|19.0|    0|    0|       S.P. 3464|  8.1583| NULL|       S|\n",
      "|         72|       0|     3|Goodwin, Miss. Li...|female|16.0|    5|    2|         CA 2144|    46.9| NULL|       S|\n",
      "+-----------+--------+------+--------------------+------+----+-----+-----+----------------+--------+-----+--------+\n",
      "only showing top 20 rows\n",
      "\n"
     ]
    }
   ],
   "source": [
    "for part in df_parquet.randomSplit([0.3, 0.4, 0.3]):\n",
    "    part.show()"
   ]
  },
  {
   "cell_type": "code",
   "execution_count": 72,
   "id": "1cac2ba7-cf4f-4afb-8671-d7de2f2f1fc6",
   "metadata": {},
   "outputs": [],
   "source": [
    "df_parquet.write.mode(\"overwrite\").parquet(\"/home/lec_14/output/new_data.parquet\")"
   ]
  },
  {
   "cell_type": "code",
   "execution_count": 73,
   "id": "542e8b59-5b14-4bf3-9a36-862e0bb663f6",
   "metadata": {},
   "outputs": [
    {
     "name": "stdout",
     "output_type": "stream",
     "text": [
      "+-----------+--------+------+--------------------+------+----+-----+-----+----------------+-------+-----+--------+\n",
      "|PassengerId|Survived|Pclass|                Name|   Sex| Age|SibSp|Parch|          Ticket|   Fare|Cabin|Embarked|\n",
      "+-----------+--------+------+--------------------+------+----+-----+-----+----------------+-------+-----+--------+\n",
      "|          1|       0|     3|Braund, Mr. Owen ...|  male|22.0|    1|    0|       A/5 21171|   7.25| NULL|       S|\n",
      "|          2|       1|     1|Cumings, Mrs. Joh...|female|38.0|    1|    0|        PC 17599|71.2833|  C85|       C|\n",
      "|          3|       1|     3|Heikkinen, Miss. ...|female|26.0|    0|    0|STON/O2. 3101282|  7.925| NULL|       S|\n",
      "|          4|       1|     1|Futrelle, Mrs. Ja...|female|35.0|    1|    0|          113803|   53.1| C123|       S|\n",
      "|          5|       0|     3|Allen, Mr. Willia...|  male|35.0|    0|    0|          373450|   8.05| NULL|       S|\n",
      "|          7|       0|     1|McCarthy, Mr. Tim...|  male|54.0|    0|    0|           17463|51.8625|  E46|       S|\n",
      "|          8|       0|     3|Palsson, Master. ...|  male| 2.0|    3|    1|          349909| 21.075| NULL|       S|\n",
      "|          9|       1|     3|Johnson, Mrs. Osc...|female|27.0|    0|    2|          347742|11.1333| NULL|       S|\n",
      "|         10|       1|     2|Nasser, Mrs. Nich...|female|14.0|    1|    0|          237736|30.0708| NULL|       C|\n",
      "|         11|       1|     3|Sandstrom, Miss. ...|female| 4.0|    1|    1|         PP 9549|   16.7|   G6|       S|\n",
      "|         12|       1|     1|Bonnell, Miss. El...|female|58.0|    0|    0|          113783|  26.55| C103|       S|\n",
      "|         13|       0|     3|Saundercock, Mr. ...|  male|20.0|    0|    0|       A/5. 2151|   8.05| NULL|       S|\n",
      "|         14|       0|     3|Andersson, Mr. An...|  male|39.0|    1|    5|          347082| 31.275| NULL|       S|\n",
      "|         15|       0|     3|Vestrom, Miss. Hu...|female|14.0|    0|    0|          350406| 7.8542| NULL|       S|\n",
      "|         16|       1|     2|Hewlett, Mrs. (Ma...|female|55.0|    0|    0|          248706|   16.0| NULL|       S|\n",
      "|         17|       0|     3|Rice, Master. Eugene|  male| 2.0|    4|    1|          382652| 29.125| NULL|       Q|\n",
      "|         19|       0|     3|Vander Planke, Mr...|female|31.0|    1|    0|          345763|   18.0| NULL|       S|\n",
      "|         21|       0|     2|Fynney, Mr. Joseph J|  male|35.0|    0|    0|          239865|   26.0| NULL|       S|\n",
      "|         22|       1|     2|Beesley, Mr. Lawr...|  male|34.0|    0|    0|          248698|   13.0|  D56|       S|\n",
      "|         23|       1|     3|McGowan, Miss. An...|female|15.0|    0|    0|          330923| 8.0292| NULL|       Q|\n",
      "+-----------+--------+------+--------------------+------+----+-----+-----+----------------+-------+-----+--------+\n",
      "only showing top 20 rows\n",
      "\n"
     ]
    }
   ],
   "source": [
    "\n",
    "df_parquet.filter(F.col(\"age\").isNotNull()).show()"
   ]
  },
  {
   "cell_type": "code",
   "execution_count": 74,
   "id": "cdfc55a1-ee34-46c1-9bcd-62df80f92b6e",
   "metadata": {},
   "outputs": [
    {
     "name": "stdout",
     "output_type": "stream",
     "text": [
      "+-----------+--------+------+--------------------+------+----+-----+-----+---------------+--------+-----+--------+\n",
      "|PassengerId|Survived|Pclass|                Name|   Sex| Age|SibSp|Parch|         Ticket|    Fare|Cabin|Embarked|\n",
      "+-----------+--------+------+--------------------+------+----+-----+-----+---------------+--------+-----+--------+\n",
      "|          6|       0|     3|    Moran, Mr. James|  male|NULL|    0|    0|         330877|  8.4583| NULL|       Q|\n",
      "|         18|       1|     2|Williams, Mr. Cha...|  male|NULL|    0|    0|         244373|    13.0| NULL|       S|\n",
      "|         20|       1|     3|Masselmani, Mrs. ...|female|NULL|    0|    0|           2649|   7.225| NULL|       C|\n",
      "|         27|       0|     3|Emir, Mr. Farred ...|  male|NULL|    0|    0|           2631|   7.225| NULL|       C|\n",
      "|         29|       1|     3|O'Dwyer, Miss. El...|female|NULL|    0|    0|         330959|  7.8792| NULL|       Q|\n",
      "|         30|       0|     3| Todoroff, Mr. Lalio|  male|NULL|    0|    0|         349216|  7.8958| NULL|       S|\n",
      "|         32|       1|     1|Spencer, Mrs. Wil...|female|NULL|    1|    0|       PC 17569|146.5208|  B78|       C|\n",
      "|         33|       1|     3|Glynn, Miss. Mary...|female|NULL|    0|    0|         335677|    7.75| NULL|       Q|\n",
      "|         37|       1|     3|    Mamee, Mr. Hanna|  male|NULL|    0|    0|           2677|  7.2292| NULL|       C|\n",
      "|         43|       0|     3| Kraeff, Mr. Theodor|  male|NULL|    0|    0|         349253|  7.8958| NULL|       C|\n",
      "|         46|       0|     3|Rogers, Mr. Willi...|  male|NULL|    0|    0|S.C./A.4. 23567|    8.05| NULL|       S|\n",
      "|         47|       0|     3|   Lennon, Mr. Denis|  male|NULL|    1|    0|         370371|    15.5| NULL|       Q|\n",
      "|         48|       1|     3|O'Driscoll, Miss....|female|NULL|    0|    0|          14311|    7.75| NULL|       Q|\n",
      "|         49|       0|     3| Samaan, Mr. Youssef|  male|NULL|    2|    0|           2662| 21.6792| NULL|       C|\n",
      "|         56|       1|     1|   Woolner, Mr. Hugh|  male|NULL|    0|    0|          19947|    35.5|  C52|       S|\n",
      "|         65|       0|     1|Stewart, Mr. Albe...|  male|NULL|    0|    0|       PC 17605| 27.7208| NULL|       C|\n",
      "|         66|       1|     3|Moubarek, Master....|  male|NULL|    1|    1|           2661| 15.2458| NULL|       C|\n",
      "|         77|       0|     3|   Staneff, Mr. Ivan|  male|NULL|    0|    0|         349208|  7.8958| NULL|       S|\n",
      "|         78|       0|     3|Moutal, Mr. Raham...|  male|NULL|    0|    0|         374746|    8.05| NULL|       S|\n",
      "|         83|       1|     3|McDermott, Miss. ...|female|NULL|    0|    0|         330932|  7.7875| NULL|       Q|\n",
      "+-----------+--------+------+--------------------+------+----+-----+-----+---------------+--------+-----+--------+\n",
      "only showing top 20 rows\n",
      "\n"
     ]
    }
   ],
   "source": [
    "df_parquet.filter(F.col(\"age\").isNull()).show()"
   ]
  },
  {
   "cell_type": "code",
   "execution_count": 75,
   "id": "ff244d0e-4a3e-47be-8eff-6b5034955a5a",
   "metadata": {},
   "outputs": [
    {
     "name": "stdout",
     "output_type": "stream",
     "text": [
      "+-----------+--------+------+--------------------+------+----+-----+-----+-----------+--------+-----------+--------+\n",
      "|PassengerId|Survived|Pclass|                Name|   Sex| Age|SibSp|Parch|     Ticket|    Fare|      Cabin|Embarked|\n",
      "+-----------+--------+------+--------------------+------+----+-----+-----+-----------+--------+-----------+--------+\n",
      "|          2|       1|     1|Cumings, Mrs. Joh...|female|38.0|    1|    0|   PC 17599| 71.2833|        C85|       C|\n",
      "|          4|       1|     1|Futrelle, Mrs. Ja...|female|35.0|    1|    0|     113803|    53.1|       C123|       S|\n",
      "|          7|       0|     1|McCarthy, Mr. Tim...|  male|54.0|    0|    0|      17463| 51.8625|        E46|       S|\n",
      "|         11|       1|     3|Sandstrom, Miss. ...|female| 4.0|    1|    1|    PP 9549|    16.7|         G6|       S|\n",
      "|         12|       1|     1|Bonnell, Miss. El...|female|58.0|    0|    0|     113783|   26.55|       C103|       S|\n",
      "|         22|       1|     2|Beesley, Mr. Lawr...|  male|34.0|    0|    0|     248698|    13.0|        D56|       S|\n",
      "|         24|       1|     1|Sloper, Mr. Willi...|  male|28.0|    0|    0|     113788|    35.5|         A6|       S|\n",
      "|         28|       0|     1|Fortune, Mr. Char...|  male|19.0|    3|    2|      19950|   263.0|C23 C25 C27|       S|\n",
      "|         53|       1|     1|Harper, Mrs. Henr...|female|49.0|    1|    0|   PC 17572| 76.7292|        D33|       C|\n",
      "|         55|       0|     1|Ostby, Mr. Engelh...|  male|65.0|    0|    1|     113509| 61.9792|        B30|       C|\n",
      "|         63|       0|     1|Harris, Mr. Henry...|  male|45.0|    1|    0|      36973|  83.475|        C83|       S|\n",
      "|         67|       1|     2|Nye, Mrs. (Elizab...|female|29.0|    0|    0| C.A. 29395|    10.5|        F33|       S|\n",
      "|         76|       0|     3|Moen, Mr. Sigurd ...|  male|25.0|    0|    0|     348123|    7.65|      F G73|       S|\n",
      "|         89|       1|     1|Fortune, Miss. Ma...|female|23.0|    3|    2|      19950|   263.0|C23 C25 C27|       S|\n",
      "|         93|       0|     1|Chaffee, Mr. Herb...|  male|46.0|    1|    0|W.E.P. 5734|  61.175|        E31|       S|\n",
      "|         97|       0|     1|Goldschmidt, Mr. ...|  male|71.0|    0|    0|   PC 17754| 34.6542|         A5|       C|\n",
      "|         98|       1|     1|Greenfield, Mr. W...|  male|23.0|    0|    1|   PC 17759| 63.3583|    D10 D12|       C|\n",
      "|        103|       0|     1|White, Mr. Richar...|  male|21.0|    0|    1|      35281| 77.2875|        D26|       S|\n",
      "|        111|       0|     1|Porter, Mr. Walte...|  male|47.0|    0|    0|     110465|    52.0|       C110|       S|\n",
      "|        119|       0|     1|Baxter, Mr. Quigg...|  male|24.0|    0|    1|   PC 17558|247.5208|    B58 B60|       C|\n",
      "+-----------+--------+------+--------------------+------+----+-----+-----+-----------+--------+-----------+--------+\n",
      "only showing top 20 rows\n",
      "\n"
     ]
    }
   ],
   "source": [
    "\n",
    "df_parquet.dropna().show()"
   ]
  },
  {
   "cell_type": "code",
   "execution_count": 76,
   "id": "5498f566-087b-41d0-9171-58c683760b15",
   "metadata": {},
   "outputs": [
    {
     "name": "stdout",
     "output_type": "stream",
     "text": [
      "+--------------------+\n",
      "|count(DISTINCT name)|\n",
      "+--------------------+\n",
      "|                 891|\n",
      "+--------------------+\n",
      "\n"
     ]
    }
   ],
   "source": [
    "df_parquet.select(F.countDistinct(\"name\")).show()"
   ]
  },
  {
   "cell_type": "code",
   "execution_count": 77,
   "id": "12bd2f65-06bf-4618-b1b1-a418fc1d6e79",
   "metadata": {},
   "outputs": [
    {
     "data": {
      "text/plain": [
       "0.135515853527051"
      ]
     },
     "execution_count": 77,
     "metadata": {},
     "output_type": "execute_result"
    }
   ],
   "source": [
    "df_parquet.corr(\"age\", \"Fare\")"
   ]
  },
  {
   "cell_type": "code",
   "execution_count": 78,
   "id": "8c4cd78e-0a99-44e2-b9ec-229aa71f690d",
   "metadata": {},
   "outputs": [
    {
     "data": {
      "text/plain": [
       "118.49631587080923"
      ]
     },
     "execution_count": 78,
     "metadata": {},
     "output_type": "execute_result"
    }
   ],
   "source": [
    "df_parquet.cov(\"age\", \"Fare\")"
   ]
  },
  {
   "cell_type": "code",
   "execution_count": 79,
   "id": "341e8b10-d158-40ee-a8ad-d0402fe722a2",
   "metadata": {},
   "outputs": [
    {
     "name": "stdout",
     "output_type": "stream",
     "text": [
      "Approximate quantiles: [20.0, 28.0, 38.0]\n"
     ]
    }
   ],
   "source": [
    "quantiles = df_parquet.approxQuantile(\"age\", [0.25, 0.5, 0.75], 0.01)\n",
    "print(f\"Approximate quantiles: {quantiles}\")"
   ]
  },
  {
   "cell_type": "code",
   "execution_count": 80,
   "id": "45fe92cd-0498-43ae-b6ac-8c90672cd573",
   "metadata": {},
   "outputs": [
    {
     "name": "stdout",
     "output_type": "stream",
     "text": [
      "+-----------+--------+------+----+---+---+-----+-----+------+----+-----+--------+\n",
      "|PassengerId|Survived|Pclass|Name|Sex|Age|SibSp|Parch|Ticket|Fare|Cabin|Embarked|\n",
      "+-----------+--------+------+----+---+---+-----+-----+------+----+-----+--------+\n",
      "+-----------+--------+------+----+---+---+-----+-----+------+----+-----+--------+\n",
      "\n"
     ]
    }
   ],
   "source": [
    "df_parquet.sampleBy(\"name\", fractions={\"a\": 0.5, \"b\": 1.0, \"c\": 0.2}).show()"
   ]
  },
  {
   "cell_type": "code",
   "execution_count": 81,
   "id": "ea50ffbe-d4c1-45ae-bbb1-dd7d8b8b9841",
   "metadata": {},
   "outputs": [
    {
     "name": "stdout",
     "output_type": "stream",
     "text": [
      "+----+------------------+\n",
      "| age|         sum(Fare)|\n",
      "+----+------------------+\n",
      "|62.0|             143.6|\n",
      "| 2.0|          375.3625|\n",
      "|NULL| 3922.066300000001|\n",
      "|20.5|              7.25|\n",
      "|23.0| 569.9207999999999|\n",
      "|74.0|             7.775|\n",
      "|27.0| 546.5041000000001|\n",
      "|40.0|482.42910000000006|\n",
      "|36.0|         1319.2291|\n",
      "|14.0|          255.7542|\n",
      "|19.0| 696.7374000000001|\n",
      "|55.5|              8.05|\n",
      "|36.5|              26.0|\n",
      "|32.0| 437.8208000000001|\n",
      "|10.0|             52.05|\n",
      "|21.0|          757.5749|\n",
      "|13.0|           26.7292|\n",
      "|30.5|              15.8|\n",
      "| 8.0|             113.2|\n",
      "|60.0|             220.0|\n",
      "+----+------------------+\n",
      "only showing top 20 rows\n",
      "\n"
     ]
    }
   ],
   "source": [
    "\n",
    "df_parquet.rollup(\"age\").sum(\"Fare\").show()"
   ]
  },
  {
   "cell_type": "code",
   "execution_count": 82,
   "id": "0b07b02c-e12b-45fe-8746-df9c80897973",
   "metadata": {},
   "outputs": [
    {
     "name": "stdout",
     "output_type": "stream",
     "text": [
      "+-----------+--------+------+--------------------+------+----+-----+-----+----------------+-------+-----+--------+----------+\n",
      "|PassengerId|Survived|Pclass|                Name|   Sex| Age|SibSp|Parch|          Ticket|   Fare|Cabin|Embarked|age_plus_5|\n",
      "+-----------+--------+------+--------------------+------+----+-----+-----+----------------+-------+-----+--------+----------+\n",
      "|          1|       0|     3|Braund, Mr. Owen ...|  male|22.0|    1|    0|       A/5 21171|   7.25| NULL|       S|      27.0|\n",
      "|          2|       1|     1|Cumings, Mrs. Joh...|female|38.0|    1|    0|        PC 17599|71.2833|  C85|       C|      43.0|\n",
      "|          3|       1|     3|Heikkinen, Miss. ...|female|26.0|    0|    0|STON/O2. 3101282|  7.925| NULL|       S|      31.0|\n",
      "|          4|       1|     1|Futrelle, Mrs. Ja...|female|35.0|    1|    0|          113803|   53.1| C123|       S|      40.0|\n",
      "|          5|       0|     3|Allen, Mr. Willia...|  male|35.0|    0|    0|          373450|   8.05| NULL|       S|      40.0|\n",
      "|          6|       0|     3|    Moran, Mr. James|  male|NULL|    0|    0|          330877| 8.4583| NULL|       Q|      NULL|\n",
      "|          7|       0|     1|McCarthy, Mr. Tim...|  male|54.0|    0|    0|           17463|51.8625|  E46|       S|      59.0|\n",
      "|          8|       0|     3|Palsson, Master. ...|  male| 2.0|    3|    1|          349909| 21.075| NULL|       S|       7.0|\n",
      "|          9|       1|     3|Johnson, Mrs. Osc...|female|27.0|    0|    2|          347742|11.1333| NULL|       S|      32.0|\n",
      "|         10|       1|     2|Nasser, Mrs. Nich...|female|14.0|    1|    0|          237736|30.0708| NULL|       C|      19.0|\n",
      "|         11|       1|     3|Sandstrom, Miss. ...|female| 4.0|    1|    1|         PP 9549|   16.7|   G6|       S|       9.0|\n",
      "|         12|       1|     1|Bonnell, Miss. El...|female|58.0|    0|    0|          113783|  26.55| C103|       S|      63.0|\n",
      "|         13|       0|     3|Saundercock, Mr. ...|  male|20.0|    0|    0|       A/5. 2151|   8.05| NULL|       S|      25.0|\n",
      "|         14|       0|     3|Andersson, Mr. An...|  male|39.0|    1|    5|          347082| 31.275| NULL|       S|      44.0|\n",
      "|         15|       0|     3|Vestrom, Miss. Hu...|female|14.0|    0|    0|          350406| 7.8542| NULL|       S|      19.0|\n",
      "|         16|       1|     2|Hewlett, Mrs. (Ma...|female|55.0|    0|    0|          248706|   16.0| NULL|       S|      60.0|\n",
      "|         17|       0|     3|Rice, Master. Eugene|  male| 2.0|    4|    1|          382652| 29.125| NULL|       Q|       7.0|\n",
      "|         18|       1|     2|Williams, Mr. Cha...|  male|NULL|    0|    0|          244373|   13.0| NULL|       S|      NULL|\n",
      "|         19|       0|     3|Vander Planke, Mr...|female|31.0|    1|    0|          345763|   18.0| NULL|       S|      36.0|\n",
      "|         20|       1|     3|Masselmani, Mrs. ...|female|NULL|    0|    0|            2649|  7.225| NULL|       C|      NULL|\n",
      "+-----------+--------+------+--------------------+------+----+-----+-----+----------------+-------+-----+--------+----------+\n",
      "only showing top 20 rows\n",
      "\n"
     ]
    }
   ],
   "source": [
    "def add_years(df):\n",
    "    return df.withColumn(\"age_plus_5\", F.col(\"age\") + 5)\n",
    "    \n",
    "df_parquet.transform(add_years).show()"
   ]
  },
  {
   "cell_type": "code",
   "execution_count": 83,
   "id": "085d950e-7d74-49af-a2e9-3e876b688265",
   "metadata": {},
   "outputs": [
    {
     "name": "stdout",
     "output_type": "stream",
     "text": [
      "+----+---+-------+\n",
      "|name|age|country|\n",
      "+----+---+-------+\n",
      "|John| 30|    USA|\n",
      "|John| 30|     UK|\n",
      "|Jane| 25|    USA|\n",
      "|Jane| 25|     UK|\n",
      "+----+---+-------+\n",
      "\n"
     ]
    }
   ],
   "source": [
    "data1 = [(\"John\", 30), (\"Jane\", 25)]\n",
    "data2 = [(\"USA\",), (\"UK\",)]\n",
    "df1 = spark.createDataFrame(data1, [\"name\", \"age\"])\n",
    "df2 = spark.createDataFrame(data2, [\"country\"])\n",
    "\n",
    "# Perform a cross join\n",
    "df_cross_join = df1.crossJoin(df2)\n",
    "df_cross_join.show()"
   ]
  },
  {
   "cell_type": "code",
   "execution_count": 84,
   "id": "e8d00573-8494-4764-abd1-670bd5cfc0b7",
   "metadata": {},
   "outputs": [
    {
     "name": "stdout",
     "output_type": "stream",
     "text": [
      "+-----------+--------+------+--------------------+------+----+-----+-----+----------------+-------+-----+--------+\n",
      "|PassengerId|Survived|Pclass|                Name|   Sex| Age|SibSp|Parch|          Ticket|   Fare|Cabin|Embarked|\n",
      "+-----------+--------+------+--------------------+------+----+-----+-----+----------------+-------+-----+--------+\n",
      "|          2|       1|     1|Cumings, Mrs. Joh...|female|38.0|    1|    0|        PC 17599|71.2833|  C85|       C|\n",
      "|          3|       1|     3|Heikkinen, Miss. ...|female|26.0|    0|    0|STON/O2. 3101282|  7.925| NULL|       S|\n",
      "|          4|       1|     1|Futrelle, Mrs. Ja...|female|35.0|    1|    0|          113803|   53.1| C123|       S|\n",
      "|          5|       0|     3|Allen, Mr. Willia...|  male|35.0|    0|    0|          373450|   8.05| NULL|       S|\n",
      "|          7|       0|     1|McCarthy, Mr. Tim...|  male|54.0|    0|    0|           17463|51.8625|  E46|       S|\n",
      "|          9|       1|     3|Johnson, Mrs. Osc...|female|27.0|    0|    2|          347742|11.1333| NULL|       S|\n",
      "|         12|       1|     1|Bonnell, Miss. El...|female|58.0|    0|    0|          113783|  26.55| C103|       S|\n",
      "|         14|       0|     3|Andersson, Mr. An...|  male|39.0|    1|    5|          347082| 31.275| NULL|       S|\n",
      "|         16|       1|     2|Hewlett, Mrs. (Ma...|female|55.0|    0|    0|          248706|   16.0| NULL|       S|\n",
      "|         19|       0|     3|Vander Planke, Mr...|female|31.0|    1|    0|          345763|   18.0| NULL|       S|\n",
      "|         21|       0|     2|Fynney, Mr. Joseph J|  male|35.0|    0|    0|          239865|   26.0| NULL|       S|\n",
      "|         22|       1|     2|Beesley, Mr. Lawr...|  male|34.0|    0|    0|          248698|   13.0|  D56|       S|\n",
      "|         24|       1|     1|Sloper, Mr. Willi...|  male|28.0|    0|    0|          113788|   35.5|   A6|       S|\n",
      "|         26|       1|     3|Asplund, Mrs. Car...|female|38.0|    1|    5|          347077|31.3875| NULL|       S|\n",
      "|         31|       0|     1|Uruchurtu, Don. M...|  male|40.0|    0|    0|        PC 17601|27.7208| NULL|       C|\n",
      "|         34|       0|     2|Wheadon, Mr. Edwa...|  male|66.0|    0|    0|      C.A. 24579|   10.5| NULL|       S|\n",
      "|         35|       0|     1|Meyer, Mr. Edgar ...|  male|28.0|    1|    0|        PC 17604|82.1708| NULL|       C|\n",
      "|         36|       0|     1|Holverson, Mr. Al...|  male|42.0|    1|    0|          113789|   52.0| NULL|       S|\n",
      "|         41|       0|     3|Ahlin, Mrs. Johan...|female|40.0|    1|    0|            7546|  9.475| NULL|       S|\n",
      "|         42|       0|     2|Turpin, Mrs. Will...|female|27.0|    1|    0|           11668|   21.0| NULL|       S|\n",
      "+-----------+--------+------+--------------------+------+----+-----+-----+----------------+-------+-----+--------+\n",
      "only showing top 20 rows\n",
      "\n"
     ]
    }
   ],
   "source": [
    "df_parquet.createOrReplaceTempView(\"people\")\n",
    "\n",
    "# Run SQL queries on the temporary view\n",
    "spark.sql(\"SELECT * FROM people WHERE age > 25\").show()"
   ]
  },
  {
   "cell_type": "code",
   "execution_count": 85,
   "id": "d6dc8756-a9fc-46c5-a15c-5326b8987937",
   "metadata": {},
   "outputs": [
    {
     "name": "stdout",
     "output_type": "stream",
     "text": [
      "+--------------------+--------------+\n",
      "|           full_name|age_in_5_years|\n",
      "+--------------------+--------------+\n",
      "|Braund, Mr. Owen ...|          27.0|\n",
      "|Cumings, Mrs. Joh...|          43.0|\n",
      "|Heikkinen, Miss. ...|          31.0|\n",
      "|Futrelle, Mrs. Ja...|          40.0|\n",
      "|Allen, Mr. Willia...|          40.0|\n",
      "|    Moran, Mr. James|          NULL|\n",
      "|McCarthy, Mr. Tim...|          59.0|\n",
      "|Palsson, Master. ...|           7.0|\n",
      "|Johnson, Mrs. Osc...|          32.0|\n",
      "|Nasser, Mrs. Nich...|          19.0|\n",
      "|Sandstrom, Miss. ...|           9.0|\n",
      "|Bonnell, Miss. El...|          63.0|\n",
      "|Saundercock, Mr. ...|          25.0|\n",
      "|Andersson, Mr. An...|          44.0|\n",
      "|Vestrom, Miss. Hu...|          19.0|\n",
      "|Hewlett, Mrs. (Ma...|          60.0|\n",
      "|Rice, Master. Eugene|           7.0|\n",
      "|Williams, Mr. Cha...|          NULL|\n",
      "|Vander Planke, Mr...|          36.0|\n",
      "|Masselmani, Mrs. ...|          NULL|\n",
      "+--------------------+--------------+\n",
      "only showing top 20 rows\n",
      "\n"
     ]
    }
   ],
   "source": [
    "df_parquet.selectExpr(\"name as full_name\", \"age + 5 as age_in_5_years\").show()"
   ]
  },
  {
   "cell_type": "code",
   "execution_count": 86,
   "id": "d60f6c94-5aaa-4a2e-ba2e-2dd3c7795563",
   "metadata": {},
   "outputs": [
    {
     "data": {
      "text/plain": [
       "['file:///home/lec_14/data/titanic.parquet']"
      ]
     },
     "execution_count": 86,
     "metadata": {},
     "output_type": "execute_result"
    }
   ],
   "source": [
    "df_parquet.inputFiles()"
   ]
  },
  {
   "cell_type": "code",
   "execution_count": 87,
   "id": "2375884f-588d-483f-8611-e3e1fd4b82b3",
   "metadata": {},
   "outputs": [
    {
     "data": {
      "text/plain": [
       "False"
      ]
     },
     "execution_count": 87,
     "metadata": {},
     "output_type": "execute_result"
    }
   ],
   "source": [
    "\n",
    "df_parquet.isEmpty()"
   ]
  },
  {
   "cell_type": "code",
   "execution_count": 88,
   "id": "92f3f1ac-89f8-48e4-8023-200b12c441d8",
   "metadata": {},
   "outputs": [
    {
     "data": {
      "text/plain": [
       "False"
      ]
     },
     "execution_count": 88,
     "metadata": {},
     "output_type": "execute_result"
    }
   ],
   "source": [
    "df_parquet.isStreaming"
   ]
  },
  {
   "cell_type": "code",
   "execution_count": 89,
   "id": "60da4fa8-3acc-410a-a7f0-f679be70d942",
   "metadata": {},
   "outputs": [
    {
     "name": "stdout",
     "output_type": "stream",
     "text": [
      "+-------+-----------------+-------------------+------------------+--------------------+------+------------------+------------------+-------------------+------------------+-----------------+-----+--------+\n",
      "|summary|      PassengerId|           Survived|            Pclass|                Name|   Sex|               Age|             SibSp|              Parch|            Ticket|             Fare|Cabin|Embarked|\n",
      "+-------+-----------------+-------------------+------------------+--------------------+------+------------------+------------------+-------------------+------------------+-----------------+-----+--------+\n",
      "|  count|              891|                891|               891|                 891|   891|               714|               891|                891|               891|              891|  204|     889|\n",
      "|   mean|            446.0| 0.3838383838383838| 2.308641975308642|                NULL|  NULL| 29.69911764705882|0.5230078563411896|0.38159371492704824|260318.54916792738| 32.2042079685746| NULL|    NULL|\n",
      "| stddev|257.3538420152301|0.48659245426485753|0.8360712409770491|                NULL|  NULL|14.526497332334035|1.1027434322934315| 0.8060572211299488|471609.26868834975|49.69342859718089| NULL|    NULL|\n",
      "|    min|                1|                  0|                 1| Abbing, Mr. Anthony|female|              0.42|                 0|                  0|            110152|              0.0|  A10|       C|\n",
      "|    25%|              223|                  0|                 2|                NULL|  NULL|              20.0|                 0|                  0|           19996.0|           7.8958| NULL|    NULL|\n",
      "|    50%|              446|                  0|                 3|                NULL|  NULL|              28.0|                 0|                  0|          236171.0|          14.4542| NULL|    NULL|\n",
      "|    75%|              669|                  1|                 3|                NULL|  NULL|              38.0|                 1|                  0|          347743.0|             31.0| NULL|    NULL|\n",
      "|    max|              891|                  1|                 3|van Melkebeke, Mr...|  male|              80.0|                 8|                  6|         WE/P 5735|         512.3292|    T|       S|\n",
      "+-------+-----------------+-------------------+------------------+--------------------+------+------------------+------------------+-------------------+------------------+-----------------+-----+--------+\n",
      "\n"
     ]
    }
   ],
   "source": [
    "\n",
    "df_parquet.summary().show()"
   ]
  },
  {
   "cell_type": "code",
   "execution_count": 90,
   "id": "f66036e4-3b1b-4ec2-8a74-f620d103ba47",
   "metadata": {},
   "outputs": [],
   "source": [
    "window_spec = Window.partitionBy(\"sex\").orderBy(\"Survived\")"
   ]
  },
  {
   "cell_type": "code",
   "execution_count": 91,
   "id": "8494ca19-e769-4ab4-948d-3edd81864c03",
   "metadata": {},
   "outputs": [
    {
     "name": "stdout",
     "output_type": "stream",
     "text": [
      "+-----------+--------+------+--------------------+------+----+-----+-----+---------+------+-----+--------+----------+\n",
      "|PassengerId|Survived|Pclass|                Name|   Sex| Age|SibSp|Parch|   Ticket|  Fare|Cabin|Embarked|row_number|\n",
      "+-----------+--------+------+--------------------+------+----+-----+-----+---------+------+-----+--------+----------+\n",
      "|         15|       0|     3|Vestrom, Miss. Hu...|female|14.0|    0|    0|   350406|7.8542| NULL|       S|         1|\n",
      "|          1|       0|     3|Braund, Mr. Owen ...|  male|22.0|    1|    0|A/5 21171|  7.25| NULL|       S|         1|\n",
      "+-----------+--------+------+--------------------+------+----+-----+-----+---------+------+-----+--------+----------+\n",
      "\n",
      "+-----------+--------+------+--------------------+------+----+-----+-----+----------+-------+-----+--------+----+\n",
      "|PassengerId|Survived|Pclass|                Name|   Sex| Age|SibSp|Parch|    Ticket|   Fare|Cabin|Embarked|rank|\n",
      "+-----------+--------+------+--------------------+------+----+-----+-----+----------+-------+-----+--------+----+\n",
      "|         15|       0|     3|Vestrom, Miss. Hu...|female|14.0|    0|    0|    350406| 7.8542| NULL|       S|   1|\n",
      "|         19|       0|     3|Vander Planke, Mr...|female|31.0|    1|    0|    345763|   18.0| NULL|       S|   1|\n",
      "|         25|       0|     3|Palsson, Miss. To...|female| 8.0|    3|    1|    349909| 21.075| NULL|       S|   1|\n",
      "|         39|       0|     3|Vander Planke, Mi...|female|18.0|    2|    0|    345764|   18.0| NULL|       S|   1|\n",
      "|         41|       0|     3|Ahlin, Mrs. Johan...|female|40.0|    1|    0|      7546|  9.475| NULL|       S|   1|\n",
      "|         42|       0|     2|Turpin, Mrs. Will...|female|27.0|    1|    0|     11668|   21.0| NULL|       S|   1|\n",
      "|         50|       0|     3|Arnold-Franchi, M...|female|18.0|    1|    0|    349237|   17.8| NULL|       S|   1|\n",
      "|         72|       0|     3|Goodwin, Miss. Li...|female|16.0|    5|    2|   CA 2144|   46.9| NULL|       S|   1|\n",
      "|        101|       0|     3|Petranec, Miss. M...|female|28.0|    0|    0|    349245| 7.8958| NULL|       S|   1|\n",
      "|        112|       0|     3|Zabour, Miss. Hileni|female|14.5|    1|    0|      2665|14.4542| NULL|       C|   1|\n",
      "|        114|       0|     3|Jussila, Miss. Ka...|female|20.0|    1|    0|      4136|  9.825| NULL|       S|   1|\n",
      "|        115|       0|     3|Attalah, Miss. Ma...|female|17.0|    0|    0|      2627|14.4583| NULL|       C|   1|\n",
      "|        120|       0|     3|Andersson, Miss. ...|female| 2.0|    4|    2|    347082| 31.275| NULL|       S|   1|\n",
      "|        133|       0|     3|Robins, Mrs. Alex...|female|47.0|    1|    0| A/5. 3337|   14.5| NULL|       S|   1|\n",
      "|        141|       0|     3|Boulos, Mrs. Jose...|female|NULL|    0|    2|      2678|15.2458| NULL|       C|   1|\n",
      "|        148|       0|     3|Ford, Miss. Robin...|female| 9.0|    2|    2|W./C. 6608| 34.375| NULL|       S|   1|\n",
      "|        168|       0|     3|Skoog, Mrs. Willi...|female|45.0|    1|    4|    347088|   27.9| NULL|       S|   1|\n",
      "|        178|       0|     1|Isham, Miss. Ann ...|female|50.0|    0|    0|  PC 17595|28.7125|  C49|       C|   1|\n",
      "|        181|       0|     3|Sage, Miss. Const...|female|NULL|    8|    2|  CA. 2343|  69.55| NULL|       S|   1|\n",
      "|        200|       0|     2|Yrois, Miss. Henr...|female|24.0|    0|    0|    248747|   13.0| NULL|       S|   1|\n",
      "+-----------+--------+------+--------------------+------+----+-----+-----+----------+-------+-----+--------+----+\n",
      "only showing top 20 rows\n",
      "\n",
      "+-----------+--------+------+--------------------+------+----+-----+-----+----------+-------+-----+--------+----------+\n",
      "|PassengerId|Survived|Pclass|                Name|   Sex| Age|SibSp|Parch|    Ticket|   Fare|Cabin|Embarked|dense_rank|\n",
      "+-----------+--------+------+--------------------+------+----+-----+-----+----------+-------+-----+--------+----------+\n",
      "|         15|       0|     3|Vestrom, Miss. Hu...|female|14.0|    0|    0|    350406| 7.8542| NULL|       S|         1|\n",
      "|         19|       0|     3|Vander Planke, Mr...|female|31.0|    1|    0|    345763|   18.0| NULL|       S|         1|\n",
      "|         25|       0|     3|Palsson, Miss. To...|female| 8.0|    3|    1|    349909| 21.075| NULL|       S|         1|\n",
      "|         39|       0|     3|Vander Planke, Mi...|female|18.0|    2|    0|    345764|   18.0| NULL|       S|         1|\n",
      "|         41|       0|     3|Ahlin, Mrs. Johan...|female|40.0|    1|    0|      7546|  9.475| NULL|       S|         1|\n",
      "|         42|       0|     2|Turpin, Mrs. Will...|female|27.0|    1|    0|     11668|   21.0| NULL|       S|         1|\n",
      "|         50|       0|     3|Arnold-Franchi, M...|female|18.0|    1|    0|    349237|   17.8| NULL|       S|         1|\n",
      "|         72|       0|     3|Goodwin, Miss. Li...|female|16.0|    5|    2|   CA 2144|   46.9| NULL|       S|         1|\n",
      "|        101|       0|     3|Petranec, Miss. M...|female|28.0|    0|    0|    349245| 7.8958| NULL|       S|         1|\n",
      "|        112|       0|     3|Zabour, Miss. Hileni|female|14.5|    1|    0|      2665|14.4542| NULL|       C|         1|\n",
      "|        114|       0|     3|Jussila, Miss. Ka...|female|20.0|    1|    0|      4136|  9.825| NULL|       S|         1|\n",
      "|        115|       0|     3|Attalah, Miss. Ma...|female|17.0|    0|    0|      2627|14.4583| NULL|       C|         1|\n",
      "|        120|       0|     3|Andersson, Miss. ...|female| 2.0|    4|    2|    347082| 31.275| NULL|       S|         1|\n",
      "|        133|       0|     3|Robins, Mrs. Alex...|female|47.0|    1|    0| A/5. 3337|   14.5| NULL|       S|         1|\n",
      "|        141|       0|     3|Boulos, Mrs. Jose...|female|NULL|    0|    2|      2678|15.2458| NULL|       C|         1|\n",
      "|        148|       0|     3|Ford, Miss. Robin...|female| 9.0|    2|    2|W./C. 6608| 34.375| NULL|       S|         1|\n",
      "|        168|       0|     3|Skoog, Mrs. Willi...|female|45.0|    1|    4|    347088|   27.9| NULL|       S|         1|\n",
      "|        178|       0|     1|Isham, Miss. Ann ...|female|50.0|    0|    0|  PC 17595|28.7125|  C49|       C|         1|\n",
      "|        181|       0|     3|Sage, Miss. Const...|female|NULL|    8|    2|  CA. 2343|  69.55| NULL|       S|         1|\n",
      "|        200|       0|     2|Yrois, Miss. Henr...|female|24.0|    0|    0|    248747|   13.0| NULL|       S|         1|\n",
      "+-----------+--------+------+--------------------+------+----+-----+-----+----------+-------+-----+--------+----------+\n",
      "only showing top 20 rows\n",
      "\n"
     ]
    }
   ],
   "source": [
    "\n",
    "# Apply row_number\n",
    "df_parquet.withColumn(\"row_number\", F.row_number().over(window_spec)).where(\"row_number = 1\").show()\n",
    "\n",
    "# Apply rank\n",
    "df_parquet.withColumn(\"rank\", F.rank().over(window_spec)).where(\"rank = 1\").show()\n",
    "\n",
    "# Apply dense_rank\n",
    "df_parquet.withColumn(\"dense_rank\", F.dense_rank().over(window_spec)).where(F.col(\"dense_rank\").isin([1, 2])).show()"
   ]
  },
  {
   "cell_type": "code",
   "execution_count": 92,
   "id": "d7136d6f-06f2-4656-ace3-339e971f175b",
   "metadata": {},
   "outputs": [
    {
     "name": "stdout",
     "output_type": "stream",
     "text": [
      "+-----------+--------+------+--------------------+------+----+-----+-----+----------------+-------+-----+--------+\n",
      "|PassengerId|Survived|Pclass|                Name|   Sex| Age|SibSp|Parch|          Ticket|   Fare|Cabin|Embarked|\n",
      "+-----------+--------+------+--------------------+------+----+-----+-----+----------------+-------+-----+--------+\n",
      "|          1|       0|     3|Braund, Mr. Owen ...|  male|22.0|    1|    0|       A/5 21171|   7.25| NULL|       S|\n",
      "|          2|       1|     1|Cumings, Mrs. Joh...|female|38.0|    1|    0|        PC 17599|71.2833|  C85|       C|\n",
      "|          3|       1|     3|Heikkinen, Miss. ...|female|26.0|    0|    0|STON/O2. 3101282|  7.925| NULL|       S|\n",
      "|          4|       1|     1|Futrelle, Mrs. Ja...|female|35.0|    1|    0|          113803|   53.1| C123|       S|\n",
      "|          5|       0|     3|Allen, Mr. Willia...|  male|35.0|    0|    0|          373450|   8.05| NULL|       S|\n",
      "|          6|       0|     3|    Moran, Mr. James|  male|NULL|    0|    0|          330877| 8.4583| NULL|       Q|\n",
      "|          7|       0|     1|McCarthy, Mr. Tim...|  male|54.0|    0|    0|           17463|51.8625|  E46|       S|\n",
      "|          8|       0|     3|Palsson, Master. ...|  male| 2.0|    3|    1|          349909| 21.075| NULL|       S|\n",
      "|          9|       1|     3|Johnson, Mrs. Osc...|female|27.0|    0|    2|          347742|11.1333| NULL|       S|\n",
      "|         10|       1|     2|Nasser, Mrs. Nich...|female|14.0|    1|    0|          237736|30.0708| NULL|       C|\n",
      "|         11|       1|     3|Sandstrom, Miss. ...|female| 4.0|    1|    1|         PP 9549|   16.7|   G6|       S|\n",
      "|         12|       1|     1|Bonnell, Miss. El...|female|58.0|    0|    0|          113783|  26.55| C103|       S|\n",
      "|         13|       0|     3|Saundercock, Mr. ...|  male|20.0|    0|    0|       A/5. 2151|   8.05| NULL|       S|\n",
      "|         14|       0|     3|Andersson, Mr. An...|  male|39.0|    1|    5|          347082| 31.275| NULL|       S|\n",
      "|         15|       0|     3|Vestrom, Miss. Hu...|female|14.0|    0|    0|          350406| 7.8542| NULL|       S|\n",
      "|         16|       1|     2|Hewlett, Mrs. (Ma...|female|55.0|    0|    0|          248706|   16.0| NULL|       S|\n",
      "|         17|       0|     3|Rice, Master. Eugene|  male| 2.0|    4|    1|          382652| 29.125| NULL|       Q|\n",
      "|         18|       1|     2|Williams, Mr. Cha...|  male|NULL|    0|    0|          244373|   13.0| NULL|       S|\n",
      "|         19|       0|     3|Vander Planke, Mr...|female|31.0|    1|    0|          345763|   18.0| NULL|       S|\n",
      "|         20|       1|     3|Masselmani, Mrs. ...|female|NULL|    0|    0|            2649|  7.225| NULL|       C|\n",
      "+-----------+--------+------+--------------------+------+----+-----+-----+----------------+-------+-----+--------+\n",
      "only showing top 20 rows\n",
      "\n",
      "+-----------+--------+------+--------------------+------+----+-----+-----+------------------+-------+-----+--------+\n",
      "|PassengerId|Survived|Pclass|                Name|   Sex| Age|SibSp|Parch|            Ticket|   Fare|Cabin|Embarked|\n",
      "+-----------+--------+------+--------------------+------+----+-----+-----+------------------+-------+-----+--------+\n",
      "|          5|       0|     3|Allen, Mr. Willia...|  male|35.0|    0|    0|            373450|   8.05| NULL|       S|\n",
      "|         14|       0|     3|Andersson, Mr. An...|  male|39.0|    1|    5|            347082| 31.275| NULL|       S|\n",
      "|         26|       1|     3|Asplund, Mrs. Car...|female|38.0|    1|    5|            347077|31.3875| NULL|       S|\n",
      "|         41|       0|     3|Ahlin, Mrs. Johan...|female|40.0|    1|    0|              7546|  9.475| NULL|       S|\n",
      "|         50|       0|     3|Arnold-Franchi, M...|female|18.0|    1|    0|            349237|   17.8| NULL|       S|\n",
      "|         69|       1|     3|Andersson, Miss. ...|female|17.0|    4|    2|           3101281|  7.925| NULL|       S|\n",
      "|         92|       0|     3|Andreasson, Mr. P...|  male|20.0|    0|    0|            347466| 7.8542| NULL|       S|\n",
      "|        115|       0|     3|Attalah, Miss. Ma...|female|17.0|    0|    0|              2627|14.4583| NULL|       C|\n",
      "|        120|       0|     3|Andersson, Miss. ...|female| 2.0|    4|    2|            347082| 31.275| NULL|       S|\n",
      "|        145|       0|     2|Andrew, Mr. Edgar...|  male|18.0|    0|    0|            231945|   11.5| NULL|       S|\n",
      "|        147|       1|     3|Andersson, Mr. Au...|  male|27.0|    0|    0|            350043| 7.7958| NULL|       S|\n",
      "|        183|       0|     3|Asplund, Master. ...|  male| 9.0|    4|    2|            347077|31.3875| NULL|       S|\n",
      "|        193|       1|     3|Andersen-Jensen, ...|female|19.0|    1|    0|            350046| 7.8542| NULL|       S|\n",
      "|        208|       1|     3|Albimona, Mr. Nas...|  male|26.0|    0|    0|              2699|18.7875| NULL|       C|\n",
      "|        211|       0|     3|      Ali, Mr. Ahmed|  male|24.0|    0|    0|SOTON/O.Q. 3101311|   7.05| NULL|       S|\n",
      "|        234|       1|     3|Asplund, Miss. Li...|female| 5.0|    4|    2|            347077|31.3875| NULL|       S|\n",
      "|        245|       0|     3|Attalah, Mr. Sleiman|  male|30.0|    0|    0|              2694|  7.225| NULL|       C|\n",
      "|        262|       1|     3|Asplund, Master. ...|  male| 3.0|    4|    2|            347077|31.3875| NULL|       S|\n",
      "|        276|       1|     1|Andrews, Miss. Ko...|female|63.0|    1|    0|             13502|77.9583|   D7|       S|\n",
      "|        280|       1|     3|Abbott, Mrs. Stan...|female|35.0|    1|    1|         C.A. 2673|  20.25| NULL|       S|\n",
      "+-----------+--------+------+--------------------+------+----+-----+-----+------------------+-------+-----+--------+\n",
      "only showing top 20 rows\n",
      "\n",
      "+-----------+--------+------+--------------------+------+----+-----+-----+-------------+--------+-----+--------+\n",
      "|PassengerId|Survived|Pclass|                Name|   Sex| Age|SibSp|Parch|       Ticket|    Fare|Cabin|Embarked|\n",
      "+-----------+--------+------+--------------------+------+----+-----+-----+-------------+--------+-----+--------+\n",
      "|         17|       0|     3|Rice, Master. Eugene|  male| 2.0|    4|    1|       382652|  29.125| NULL|       Q|\n",
      "|         18|       1|     2|Williams, Mr. Cha...|  male|NULL|    0|    0|       244373|    13.0| NULL|       S|\n",
      "|         22|       1|     2|Beesley, Mr. Lawr...|  male|34.0|    0|    0|       248698|    13.0|  D56|       S|\n",
      "|         44|       1|     2|Laroche, Miss. Si...|female| 3.0|    1|    2|SC/Paris 2123| 41.5792| NULL|       C|\n",
      "|         62|       1|     1| Icard, Miss. Amelie|female|38.0|    0|    0|       113572|    80.0|  B28|    NULL|\n",
      "|         75|       1|     3|       Bing, Mr. Lee|  male|32.0|    0|    0|         1601| 56.4958| NULL|       S|\n",
      "|         81|       0|     3|Waelens, Mr. Achille|  male|22.0|    0|    0|       345767|     9.0| NULL|       S|\n",
      "|        107|       1|     3|Salkjelsvik, Miss...|female|21.0|    0|    0|       343120|    7.65| NULL|       S|\n",
      "|        115|       0|     3|Attalah, Miss. Ma...|female|17.0|    0|    0|         2627| 14.4583| NULL|       C|\n",
      "|        121|       0|     2|Hickman, Mr. Stan...|  male|21.0|    2|    0| S.O.C. 14879|    73.5| NULL|       S|\n",
      "|        128|       1|     3|Madsen, Mr. Fridt...|  male|24.0|    0|    0|      C 17369|  7.1417| NULL|       S|\n",
      "|        136|       0|     2|  Richard, Mr. Emile|  male|23.0|    0|    0|SC/PARIS 2133| 15.0458| NULL|       C|\n",
      "|        156|       0|     1|Williams, Mr. Cha...|  male|51.0|    0|    1|     PC 17597| 61.3792| NULL|       C|\n",
      "|        159|       0|     3| Smiljanic, Mr. Mile|  male|NULL|    0|    0|       315037|  8.6625| NULL|       S|\n",
      "|        170|       0|     3|       Ling, Mr. Lee|  male|28.0|    0|    0|         1601| 56.4958| NULL|       S|\n",
      "|        182|       0|     2|    Pernot, Mr. Rene|  male|NULL|    0|    0|SC/PARIS 2131|   15.05| NULL|       C|\n",
      "|        186|       0|     1|Rood, Mr. Hugh Ro...|  male|NULL|    0|    0|       113767|    50.0|  A32|       S|\n",
      "|        193|       1|     3|Andersen-Jensen, ...|female|19.0|    1|    0|       350046|  7.8542| NULL|       S|\n",
      "|        196|       1|     1|Lurette, Miss. Elise|female|58.0|    0|    0|     PC 17569|146.5208|  B80|       C|\n",
      "|        212|       1|     2|Cameron, Miss. Cl...|female|35.0|    0|    0| F.C.C. 13528|    21.0| NULL|       S|\n",
      "+-----------+--------+------+--------------------+------+----+-----+-----+-------------+--------+-----+--------+\n",
      "only showing top 20 rows\n",
      "\n"
     ]
    }
   ],
   "source": [
    "# Filter names that contain the substring 'a'\n",
    "df_parquet.filter(F.col(\"name\").like(\"%a%\")).show()\n",
    "\n",
    "# Filter names that start with 'A'\n",
    "df_parquet.filter(F.col(\"name\").like(\"A%\")).show()\n",
    "\n",
    "# Filter names that end with 'e'\n",
    "df_parquet.filter(F.col(\"name\").like(\"%e\")).show()"
   ]
  },
  {
   "cell_type": "code",
   "execution_count": 93,
   "id": "b4a2dd0d-6536-49ba-9dd9-c1bdcdf829d3",
   "metadata": {},
   "outputs": [
    {
     "name": "stdout",
     "output_type": "stream",
     "text": [
      "+-----------+--------+------+--------------------+------+----+-----+-----+--------+-------+-----+--------+\n",
      "|PassengerId|Survived|Pclass|                Name|   Sex| Age|SibSp|Parch|  Ticket|   Fare|Cabin|Embarked|\n",
      "+-----------+--------+------+--------------------+------+----+-----+-----+--------+-------+-----+--------+\n",
      "|         65|       0|     1|Stewart, Mr. Albe...|  male|NULL|    0|    0|PC 17605|27.7208| NULL|       C|\n",
      "|        304|       1|     2| Keane, Miss. Nora A|female|NULL|    0|    0|  226593|  12.35| E101|       Q|\n",
      "+-----------+--------+------+--------------------+------+----+-----+-----+--------+-------+-----+--------+\n",
      "\n",
      "+-----------+--------+------+--------------------+------+----+-----+-----+------------+-------+-----+--------+\n",
      "|PassengerId|Survived|Pclass|                Name|   Sex| Age|SibSp|Parch|      Ticket|   Fare|Cabin|Embarked|\n",
      "+-----------+--------+------+--------------------+------+----+-----+-----+------------+-------+-----+--------+\n",
      "|         45|       1|     3|Devaney, Miss. Ma...|female|19.0|    0|    0|      330958| 7.8792| NULL|       Q|\n",
      "|         80|       1|     3|Dowdell, Miss. El...|female|30.0|    0|    0|      364516| 12.475| NULL|       S|\n",
      "|         94|       0|     3|Dean, Mr. Bertram...|  male|26.0|    1|    2|   C.A. 2315| 20.575| NULL|       S|\n",
      "|         99|       1|     2|Doling, Mrs. John...|female|34.0|    0|    1|      231919|   23.0| NULL|       S|\n",
      "|        131|       0|     3|Drazenoic, Mr. Jozef|  male|33.0|    0|    0|      349241| 7.8958| NULL|       C|\n",
      "|        281|       0|     3|    Duane, Mr. Frank|  male|65.0|    0|    0|      336439|   7.75| NULL|       Q|\n",
      "|        284|       1|     3|Dorking, Mr. Edwa...|  male|19.0|    0|    0|  A/5. 10482|   8.05| NULL|       S|\n",
      "|        321|       0|     3|  Dennis, Mr. Samuel|  male|22.0|    0|    0|   A/5 21172|   7.25| NULL|       S|\n",
      "|        322|       0|     3|    Danoff, Mr. Yoto|  male|27.0|    0|    0|      349219| 7.8958| NULL|       S|\n",
      "|        336|       0|     3|  Denkoff, Mr. Mitto|  male|NULL|    0|    0|      349225| 7.8958| NULL|       S|\n",
      "|        339|       1|     3|Dahl, Mr. Karl Ed...|  male|45.0|    0|    0|        7598|   8.05| NULL|       S|\n",
      "|        348|       1|     3|Davison, Mrs. Tho...|female|NULL|    1|    0|      386525|   16.1| NULL|       S|\n",
      "|        350|       0|     3|    Dimic, Mr. Jovan|  male|42.0|    0|    0|      315088| 8.6625| NULL|       S|\n",
      "|        386|       0|     2|Davies, Mr. Charl...|  male|18.0|    0|    0|S.O.C. 14879|   73.5| NULL|       S|\n",
      "|        417|       1|     2|Drew, Mrs. James ...|female|34.0|    1|    1|       28220|   32.5| NULL|       S|\n",
      "|        424|       0|     3|Danbom, Mrs. Erns...|female|28.0|    1|    1|      347080|   14.4| NULL|       S|\n",
      "|        446|       1|     1|Dodge, Master. Wa...|  male| 4.0|    0|    2|       33638|81.8583|  A34|       S|\n",
      "|        511|       1|     3|Daly, Mr. Eugene ...|  male|29.0|    0|    0|      382651|   7.75| NULL|       Q|\n",
      "|        545|       0|     1|Douglas, Mr. Walt...|  male|50.0|    1|    0|    PC 17761|106.425|  C86|       C|\n",
      "|        550|       1|     2|Davies, Master. J...|  male| 8.0|    1|    1|  C.A. 33112|  36.75| NULL|       S|\n",
      "+-----------+--------+------+--------------------+------+----+-----+-----+------------+-------+-----+--------+\n",
      "only showing top 20 rows\n",
      "\n"
     ]
    }
   ],
   "source": [
    "df_parquet.filter(F.col(\"name\").endswith(\"A\")).show()\n",
    "\n",
    "df_parquet.filter(F.col(\"name\").startswith(\"D\")).show()"
   ]
  },
  {
   "cell_type": "code",
   "execution_count": 94,
   "id": "cb640704-7925-4fee-9648-b7227cd767f3",
   "metadata": {},
   "outputs": [],
   "source": [
    "spark.stop()"
   ]
  },
  {
   "cell_type": "code",
   "execution_count": null,
   "id": "cd1f9cf3-13a9-4640-9202-7da7bc7548d0",
   "metadata": {},
   "outputs": [],
   "source": []
  }
 ],
 "metadata": {
  "kernelspec": {
   "display_name": "Python 3 (ipykernel)",
   "language": "python",
   "name": "python3"
  },
  "language_info": {
   "codemirror_mode": {
    "name": "ipython",
    "version": 3
   },
   "file_extension": ".py",
   "mimetype": "text/x-python",
   "name": "python",
   "nbconvert_exporter": "python",
   "pygments_lexer": "ipython3",
   "version": "3.11.6"
  }
 },
 "nbformat": 4,
 "nbformat_minor": 5
}
