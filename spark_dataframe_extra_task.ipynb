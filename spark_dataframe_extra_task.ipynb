{
 "cells": [
  {
   "cell_type": "code",
   "execution_count": 1,
   "id": "731e4c54-246b-4e20-89bc-d6ecc255c16c",
   "metadata": {},
   "outputs": [],
   "source": [
    "from pyspark.sql import SparkSession\n",
    "from pyspark import SparkConf\n",
    "from pyspark.sql.types import StructType, StructField, StringType, IntegerType\n",
    "from pyspark.sql import functions as F\n",
    "from pyspark.sql.window import Window"
   ]
  },
  {
   "cell_type": "code",
   "execution_count": 2,
   "id": "5be6e7e9-2fa2-4e5d-a0f0-41d4cb1f256d",
   "metadata": {},
   "outputs": [],
   "source": [
    "conf = SparkConf()\n",
    "spark_context = SparkSession.builder.config(conf=conf).getOrCreate()"
   ]
  },
  {
   "cell_type": "code",
   "execution_count": 3,
   "id": "951c3ba5-13c4-4189-a544-500ba31e98cf",
   "metadata": {},
   "outputs": [],
   "source": [
    "spark = SparkSession.builder.master(\"spark://spark-master:7077\").config(\"spark.jars.packages\", \n",
    "                                                                        \"org.apache.hadoop:hadoop-aws-2.7.3\").appName(\"spark-hw\").getOrCreate()"
   ]
  },
  {
   "cell_type": "code",
   "execution_count": 4,
   "id": "42aa5597-26bd-42d4-a1a8-213d08e6d6d9",
   "metadata": {},
   "outputs": [
    {
     "name": "stdout",
     "output_type": "stream",
     "text": [
      "3.5.0\n"
     ]
    }
   ],
   "source": [
    "print(spark.version)"
   ]
  },
  {
   "cell_type": "code",
   "execution_count": 6,
   "id": "dc36d816-7db8-45b3-9d66-65c92fb5198d",
   "metadata": {},
   "outputs": [],
   "source": [
    "actor_df = spark.read.csv('/home/lec_14/data/actor.csv', header=True, inferSchema=True)\n",
    "address_df = spark.read.csv('/home/lec_14/data/address.csv', header=True, inferSchema=True)\n",
    "category_df = spark.read.csv('/home/lec_14/data/category.csv', header=True, inferSchema=True)\n",
    "city_df = spark.read.csv('/home/lec_14/data/city.csv', header=True, inferSchema=True)\n",
    "country_df = spark.read.csv('/home/lec_14/data/country.csv', header=True, inferSchema=True)\n",
    "customer_df = spark.read.csv('/home/lec_14/data/customer.csv', header=True, inferSchema=True)\n",
    "film_df = spark.read.csv('/home/lec_14/data/film.csv', header=True, inferSchema=True)\n",
    "film_actor_df = spark.read.csv('/home/lec_14/data/film_actor.csv', header=True, inferSchema=True)\n",
    "film_category_df = spark.read.csv('/home/lec_14/data/film_category.csv', header=True, inferSchema=True)\n",
    "inventory_df = spark.read.csv('/home/lec_14/data/inventory.csv', header=True, inferSchema=True)\n",
    "language_df = spark.read.csv('/home/lec_14/data/language.csv', header=True, inferSchema=True)\n",
    "payment_df = spark.read.csv('/home/lec_14/data/payment.csv', header=True, inferSchema=True)\n",
    "rental_df = spark.read.csv('/home/lec_14/data/rental.csv', header=True, inferSchema=True)\n",
    "staff_df = spark.read.csv('/home/lec_14/data/staff.csv', header=True, inferSchema=True)\n",
    "store_df = spark.read.csv('/home/lec_14/data/store.csv', header=True, inferSchema=True)"
   ]
  },
  {
   "cell_type": "markdown",
   "id": "ce1620bb-e4d7-48a3-a9d0-6e3aafe3d0dc",
   "metadata": {},
   "source": [
    "1. Вивести кількість фільмів в кожній категорії. Результат відсортувати за спаданням."
   ]
  },
  {
   "cell_type": "code",
   "execution_count": 47,
   "id": "9f7d2d9c-5989-4bd7-9ede-c4da0ffaed9a",
   "metadata": {},
   "outputs": [
    {
     "name": "stdout",
     "output_type": "stream",
     "text": [
      "+-----------+-----------+----------------------+\n",
      "|category_id|       name|film_in_category_count|\n",
      "+-----------+-----------+----------------------+\n",
      "|         15|     Sports|                    74|\n",
      "|          9|    Foreign|                    73|\n",
      "|          8|     Family|                    69|\n",
      "|          6|Documentary|                    68|\n",
      "|          2|  Animation|                    66|\n",
      "|          1|     Action|                    64|\n",
      "|         13|        New|                    63|\n",
      "|          7|      Drama|                    62|\n",
      "|         14|     Sci-Fi|                    61|\n",
      "|         10|      Games|                    61|\n",
      "|          3|   Children|                    60|\n",
      "|          5|     Comedy|                    58|\n",
      "|          4|   Classics|                    57|\n",
      "|         16|     Travel|                    57|\n",
      "|         11|     Horror|                    56|\n",
      "|         12|      Music|                    51|\n",
      "+-----------+-----------+----------------------+\n",
      "\n"
     ]
    }
   ],
   "source": [
    "film_with_category_id = film_df.join(film_category_df,\"film_id\")\n",
    "film_with_category = film_with_category_id.join(category_df,\"category_id\")\n",
    "\n",
    "#film_with_category.show()\n",
    "category_film_count_df = film_with_category.groupBy(\"category_id\",\"name\") \\\n",
    "    .agg(F.count(\"film_id\").alias(\"film_in_category_count\")) \\\n",
    "    .orderBy(F.col(\"film_in_category_count\").desc())\n",
    "category_film_count_df.show()"
   ]
  },
  {
   "cell_type": "markdown",
   "id": "66a9b0e6-78df-4d71-97c2-86e531d6f6e2",
   "metadata": {},
   "source": [
    "2. Вивести 10 акторів, чиї фільми брали на прокат найбільше. Результат відсортувати за спаданням."
   ]
  },
  {
   "cell_type": "code",
   "execution_count": 48,
   "id": "395f0702-6e45-479a-8247-4f5990ba4079",
   "metadata": {},
   "outputs": [
    {
     "name": "stdout",
     "output_type": "stream",
     "text": [
      "+--------+----------+-----------+---------------------+\n",
      "|actor_id|first_name|  last_name|count_of_rented_films|\n",
      "+--------+----------+-----------+---------------------+\n",
      "|     107|      GINA|  DEGENERES|                  753|\n",
      "|     181|   MATTHEW|     CARREY|                  678|\n",
      "|     198|      MARY|     KEITEL|                  674|\n",
      "|     144|    ANGELA|WITHERSPOON|                  654|\n",
      "|     102|    WALTER|       TORN|                  640|\n",
      "|      60|     HENRY|      BERRY|                  612|\n",
      "|     150|     JAYNE|      NOLTE|                  611|\n",
      "|      37|       VAL|     BOLGER|                  605|\n",
      "|      23|    SANDRA|     KILMER|                  604|\n",
      "|      90|      SEAN|    GUINESS|                  599|\n",
      "+--------+----------+-----------+---------------------+\n",
      "only showing top 10 rows\n",
      "\n"
     ]
    }
   ],
   "source": [
    "film_actor = actor_df.join(film_actor_df,\"actor_id\")\n",
    "film_actor_inventory = film_actor.join(inventory_df,\"film_id\")\n",
    "film_actor_inventory_rental = film_actor_inventory.join(rental_df,\"inventory_id\")\n",
    "actor_film_rate_df = film_actor_inventory_rental.groupBy(\"actor_id\",\"first_name\",\"last_name\") \\\n",
    "    .agg(F.count(\"film_id\").alias(\"count_of_rented_films\")) \\\n",
    "    .orderBy(F.col(\"count_of_rented_films\").desc())\n",
    "actor_film_rate_df.show(10)"
   ]
  },
  {
   "cell_type": "markdown",
   "id": "18f87940-7390-4386-a22a-393262fcd9c5",
   "metadata": {},
   "source": [
    "3. Вивести категорія фільмів, на яку було витрачено найбільше грошей в прокаті"
   ]
  },
  {
   "cell_type": "code",
   "execution_count": 58,
   "id": "510fc080-eaca-4afe-905b-40ed892e0540",
   "metadata": {},
   "outputs": [
    {
     "name": "stdout",
     "output_type": "stream",
     "text": [
      "+-----------+------+-----------------+\n",
      "|category_id|  name|      biggest_sum|\n",
      "+-----------+------+-----------------+\n",
      "|         15|Sports|5314.209999999843|\n",
      "+-----------+------+-----------------+\n",
      "only showing top 1 row\n",
      "\n"
     ]
    }
   ],
   "source": [
    "film_category_id = film_df.join(film_category_df,\"film_id\")\n",
    "film_category = film_category_id.join(category_df,\"category_id\")\n",
    "film_category_inventory = film_category.join(inventory_df,\"film_id\")\n",
    "film_category_inventory_rent = film_category_inventory.join(rental_df,\"inventory_id\")\n",
    "film_category_inventory_rent_payment = film_category_inventory_rent.join(payment_df,\"rental_id\")\n",
    "film_category_cost_df = film_category_inventory_rent_payment.groupBy(\"category_id\",\"name\") \\\n",
    "    .agg(F.sum(\"amount\").alias(\"biggest_sum\")) \\\n",
    "    .orderBy(F.col(\"biggest_sum\").desc())\n",
    "film_category_cost_df.show(1)"
   ]
  },
  {
   "cell_type": "markdown",
   "id": "17b65210-4ac6-4694-ac09-b403c7c1897e",
   "metadata": {},
   "source": [
    "4. Вивести назви фільмів, яких не має в inventory."
   ]
  },
  {
   "cell_type": "code",
   "execution_count": 75,
   "id": "03d71eaa-6667-4753-bbbb-6fe677aa3257",
   "metadata": {},
   "outputs": [
    {
     "name": "stdout",
     "output_type": "stream",
     "text": [
      "+--------------------+\n",
      "|               title|\n",
      "+--------------------+\n",
      "|       RAINBOW SHOCK|\n",
      "|           GUMP DATE|\n",
      "|         HOCUS FRIDA|\n",
      "|    TREASURE COMMAND|\n",
      "| CHINATOWN GLADIATOR|\n",
      "|        WALLS ARTIST|\n",
      "|      ARGONAUTS TOWN|\n",
      "|       PSYCHO SHRUNK|\n",
      "|   FIREHOUSE VIETNAM|\n",
      "|DELIVERANCE MULHO...|\n",
      "|       ROOF CHAMPION|\n",
      "|        TADPOLE PARK|\n",
      "|         APOLLO TEEN|\n",
      "|       HATE HANDICAP|\n",
      "|       PEARL DESTINY|\n",
      "|COMMANDMENTS EXPRESS|\n",
      "|        VOLUME HOUSE|\n",
      "|     CROWDS TELEMARK|\n",
      "|   RAIDERS ANTITRUST|\n",
      "|    KILL BROTHERHOOD|\n",
      "+--------------------+\n",
      "only showing top 20 rows\n",
      "\n"
     ]
    }
   ],
   "source": [
    "films_not_in_inventory_df = film_df.join(inventory_df,\"film_id\",how=\"left\")\n",
    "films_not_in_inventory_df.filter(F.col(\"inventory_id\").isNull()).select(\"title\").distinct().show()\n",
    "\n"
   ]
  },
  {
   "cell_type": "markdown",
   "id": "ce001474-f406-4385-bccf-3bf8df6e83ac",
   "metadata": {},
   "source": [
    "5. Вивести топ 3 актори, які найбільше зʼявлялись в категорії фільмів “Children”"
   ]
  },
  {
   "cell_type": "code",
   "execution_count": 82,
   "id": "1c1b3d04-e7f6-4faa-bed9-d7507bcc6669",
   "metadata": {},
   "outputs": [
    {
     "name": "stdout",
     "output_type": "stream",
     "text": [
      "+--------+----------+---------+--------------------+\n",
      "|actor_id|first_name|last_name|count_of_appearences|\n",
      "+--------+----------+---------+--------------------+\n",
      "|      17|     HELEN|   VOIGHT|                   7|\n",
      "|     127|     KEVIN|  GARLAND|                   5|\n",
      "|      80|     RALPH|     CRUZ|                   5|\n",
      "+--------+----------+---------+--------------------+\n",
      "only showing top 3 rows\n",
      "\n"
     ]
    }
   ],
   "source": [
    "film_actor_id = actor_df.join(film_actor_df,\"actor_id\")\n",
    "film_actor = film_df.join(film_actor_id,\"film_id\")\n",
    "film_actor_category_id = film_category_df.join(film_actor,\"film_id\")\n",
    "film_actor_category = category_df.join(film_actor_category_id,\"category_id\").filter(F.col(\"name\") == \"Children\")\n",
    "actor_category_max_df = film_actor_category.groupBy(\"actor_id\",\"first_name\",\"last_name\") \\\n",
    "    .agg(F.count(\"category_id\").alias(\"count_of_appearences\")) \\\n",
    "    .orderBy(F.col(\"count_of_appearences\").desc())\n",
    "#category_df.show()\n",
    "actor_category_max_df.show(3)\n"
   ]
  }
 ],
 "metadata": {
  "kernelspec": {
   "display_name": "Python 3 (ipykernel)",
   "language": "python",
   "name": "python3"
  },
  "language_info": {
   "codemirror_mode": {
    "name": "ipython",
    "version": 3
   },
   "file_extension": ".py",
   "mimetype": "text/x-python",
   "name": "python",
   "nbconvert_exporter": "python",
   "pygments_lexer": "ipython3",
   "version": "3.11.6"
  }
 },
 "nbformat": 4,
 "nbformat_minor": 5
}
